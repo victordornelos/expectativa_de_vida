{
 "cells": [
  {
   "cell_type": "code",
   "execution_count": 1,
   "metadata": {},
   "outputs": [],
   "source": [
    "# Bibliotecas\n",
    "import pandas as pd\n",
    "import plotly.express as px\n",
    "import seaborn as sns\n",
    "import matplotlib.pyplot as plt"
   ]
  },
  {
   "cell_type": "code",
   "execution_count": 2,
   "metadata": {},
   "outputs": [],
   "source": [
    "# Importando dados\n",
    "#data = pd.read_csv('expectativa_vida.csv')"
   ]
  },
  {
   "cell_type": "code",
   "execution_count": 3,
   "metadata": {},
   "outputs": [],
   "source": [
    "# Tratando\n",
    "#df = pd.DataFrame()\n",
    "#df['Países'] = data['Country Name']\n",
    "#df['Anos'] = data['Year']\n",
    "#df['Cod país'] = data['Country Code']\n",
    "#df['Expectativa de vida'] = data['Life Expectancy World Bank']\n",
    "#df['Região'] = data['Region']\n",
    "#df['Grupo de renda'] = data['IncomeGroup']"
   ]
  },
  {
   "cell_type": "code",
   "execution_count": 4,
   "metadata": {},
   "outputs": [],
   "source": [
    "# Salvando\n",
    "#df.to_csv('mapa.csv', index=False)"
   ]
  },
  {
   "cell_type": "code",
   "execution_count": 5,
   "metadata": {},
   "outputs": [],
   "source": [
    "df = pd.read_csv('mapa.csv')"
   ]
  },
  {
   "cell_type": "code",
   "execution_count": 6,
   "metadata": {},
   "outputs": [
    {
     "data": {
      "text/html": [
       "<div>\n",
       "<style scoped>\n",
       "    .dataframe tbody tr th:only-of-type {\n",
       "        vertical-align: middle;\n",
       "    }\n",
       "\n",
       "    .dataframe tbody tr th {\n",
       "        vertical-align: top;\n",
       "    }\n",
       "\n",
       "    .dataframe thead th {\n",
       "        text-align: right;\n",
       "    }\n",
       "</style>\n",
       "<table border=\"1\" class=\"dataframe\">\n",
       "  <thead>\n",
       "    <tr style=\"text-align: right;\">\n",
       "      <th></th>\n",
       "      <th>Países</th>\n",
       "      <th>Anos</th>\n",
       "      <th>Cod país</th>\n",
       "      <th>Expectativa de vida</th>\n",
       "      <th>Região</th>\n",
       "      <th>Grupo de renda</th>\n",
       "    </tr>\n",
       "  </thead>\n",
       "  <tbody>\n",
       "    <tr>\n",
       "      <th>0</th>\n",
       "      <td>Afghanistan</td>\n",
       "      <td>2001</td>\n",
       "      <td>AFG</td>\n",
       "      <td>56.308</td>\n",
       "      <td>South Asia</td>\n",
       "      <td>Low income</td>\n",
       "    </tr>\n",
       "    <tr>\n",
       "      <th>1</th>\n",
       "      <td>Angola</td>\n",
       "      <td>2001</td>\n",
       "      <td>AGO</td>\n",
       "      <td>47.059</td>\n",
       "      <td>Sub-Saharan Africa</td>\n",
       "      <td>Lower middle income</td>\n",
       "    </tr>\n",
       "    <tr>\n",
       "      <th>2</th>\n",
       "      <td>Albania</td>\n",
       "      <td>2001</td>\n",
       "      <td>ALB</td>\n",
       "      <td>74.288</td>\n",
       "      <td>Europe &amp; Central Asia</td>\n",
       "      <td>Upper middle income</td>\n",
       "    </tr>\n",
       "    <tr>\n",
       "      <th>3</th>\n",
       "      <td>Andorra</td>\n",
       "      <td>2001</td>\n",
       "      <td>AND</td>\n",
       "      <td>NaN</td>\n",
       "      <td>Europe &amp; Central Asia</td>\n",
       "      <td>High income</td>\n",
       "    </tr>\n",
       "    <tr>\n",
       "      <th>4</th>\n",
       "      <td>United Arab Emirates</td>\n",
       "      <td>2001</td>\n",
       "      <td>ARE</td>\n",
       "      <td>74.544</td>\n",
       "      <td>Middle East &amp; North Africa</td>\n",
       "      <td>High income</td>\n",
       "    </tr>\n",
       "    <tr>\n",
       "      <th>...</th>\n",
       "      <td>...</td>\n",
       "      <td>...</td>\n",
       "      <td>...</td>\n",
       "      <td>...</td>\n",
       "      <td>...</td>\n",
       "      <td>...</td>\n",
       "    </tr>\n",
       "    <tr>\n",
       "      <th>3301</th>\n",
       "      <td>Vanuatu</td>\n",
       "      <td>2019</td>\n",
       "      <td>VUT</td>\n",
       "      <td>70.474</td>\n",
       "      <td>East Asia &amp; Pacific</td>\n",
       "      <td>Lower middle income</td>\n",
       "    </tr>\n",
       "    <tr>\n",
       "      <th>3302</th>\n",
       "      <td>Samoa</td>\n",
       "      <td>2019</td>\n",
       "      <td>WSM</td>\n",
       "      <td>73.321</td>\n",
       "      <td>East Asia &amp; Pacific</td>\n",
       "      <td>Lower middle income</td>\n",
       "    </tr>\n",
       "    <tr>\n",
       "      <th>3303</th>\n",
       "      <td>South Africa</td>\n",
       "      <td>2019</td>\n",
       "      <td>ZAF</td>\n",
       "      <td>64.131</td>\n",
       "      <td>Sub-Saharan Africa</td>\n",
       "      <td>Upper middle income</td>\n",
       "    </tr>\n",
       "    <tr>\n",
       "      <th>3304</th>\n",
       "      <td>Zambia</td>\n",
       "      <td>2019</td>\n",
       "      <td>ZMB</td>\n",
       "      <td>63.886</td>\n",
       "      <td>Sub-Saharan Africa</td>\n",
       "      <td>Low income</td>\n",
       "    </tr>\n",
       "    <tr>\n",
       "      <th>3305</th>\n",
       "      <td>Zimbabwe</td>\n",
       "      <td>2019</td>\n",
       "      <td>ZWE</td>\n",
       "      <td>61.490</td>\n",
       "      <td>Sub-Saharan Africa</td>\n",
       "      <td>Lower middle income</td>\n",
       "    </tr>\n",
       "  </tbody>\n",
       "</table>\n",
       "<p>3306 rows × 6 columns</p>\n",
       "</div>"
      ],
      "text/plain": [
       "                    Países  Anos Cod país  Expectativa de vida  \\\n",
       "0              Afghanistan  2001      AFG               56.308   \n",
       "1                   Angola  2001      AGO               47.059   \n",
       "2                  Albania  2001      ALB               74.288   \n",
       "3                  Andorra  2001      AND                  NaN   \n",
       "4     United Arab Emirates  2001      ARE               74.544   \n",
       "...                    ...   ...      ...                  ...   \n",
       "3301               Vanuatu  2019      VUT               70.474   \n",
       "3302                 Samoa  2019      WSM               73.321   \n",
       "3303          South Africa  2019      ZAF               64.131   \n",
       "3304                Zambia  2019      ZMB               63.886   \n",
       "3305              Zimbabwe  2019      ZWE               61.490   \n",
       "\n",
       "                          Região       Grupo de renda  \n",
       "0                     South Asia           Low income  \n",
       "1             Sub-Saharan Africa  Lower middle income  \n",
       "2          Europe & Central Asia  Upper middle income  \n",
       "3          Europe & Central Asia          High income  \n",
       "4     Middle East & North Africa          High income  \n",
       "...                          ...                  ...  \n",
       "3301         East Asia & Pacific  Lower middle income  \n",
       "3302         East Asia & Pacific  Lower middle income  \n",
       "3303          Sub-Saharan Africa  Upper middle income  \n",
       "3304          Sub-Saharan Africa           Low income  \n",
       "3305          Sub-Saharan Africa  Lower middle income  \n",
       "\n",
       "[3306 rows x 6 columns]"
      ]
     },
     "execution_count": 6,
     "metadata": {},
     "output_type": "execute_result"
    }
   ],
   "source": [
    "df"
   ]
  },
  {
   "cell_type": "code",
   "execution_count": 7,
   "metadata": {},
   "outputs": [
    {
     "data": {
      "image/png": "[encoded data removed]",
      "text/plain": [
       "<Figure size 1200x600 with 1 Axes>"
      ]
     },
     "metadata": {},
     "output_type": "display_data"
    }
   ],
   "source": [
    "mean_life_expectancy_per_year = df.groupby('Anos')['Expectativa de vida'].mean().reset_index()\n",
    "\n",
    "#Gráfico\n",
    "plt.figure(figsize=(12, 6))\n",
    "sns.lineplot(data=mean_life_expectancy_per_year, x='Anos', y='Expectativa de vida')\n",
    "plt.title('Expectativa de Vida Média Mundial')\n",
    "plt.xlabel('Ano')\n",
    "plt.ylabel('Expectativa de Vida Média')\n",
    "plt.xticks(mean_life_expectancy_per_year['Anos']) \n",
    "plt.grid(True)\n",
    "plt.grid(False)\n",
    "plt.show()"
   ]
  },
  {
   "cell_type": "code",
   "execution_count": 8,
   "metadata": {},
   "outputs": [
    {
     "data": {
      "application/vnd.plotly.v1+json": {
       "config": {
        "plotlyServerURL": "https://plot.ly"
       },
       "data": [
        {
         "alignmentgroup": "True",
         "hovertemplate": "Grupo de Renda=%{x}<br>Anos=2001<br>Expectativa de Vida Média=%{y}<extra></extra>",
         "ids": [
          "High income"
         ],
         "legendgroup": "High income",
         "marker": {
          "color": "rgb(229, 134, 6)",
          "pattern": {
           "shape": ""
          }
         },
         "name": "High income",
         "offsetgroup": "High income",
         "orientation": "v",
         "showlegend": true,
         "textfont": {
          "color": "white"
         },
         "textposition": "outside",
         "texttemplate": "%{y:.2f}",
         "type": "bar",
         "x": [
          "High income"
         ],
         "xaxis": "x",
         "y": [
          76.32351360225141
         ],
         "yaxis": "y"
        },
        {
         "alignmentgroup": "True",
         "hovertemplate": "Grupo de Renda=%{x}<br>Anos=2001<br>Expectativa de Vida Média=%{y}<extra></extra>",
         "ids": [
          "Low income"
         ],
         "legendgroup": "Low income",
         "marker": {
          "color": "rgb(93, 105, 177)",
          "pattern": {
           "shape": ""
          }
         },
         "name": "Low income",
         "offsetgroup": "Low income",
         "orientation": "v",
         "showlegend": true,
         "textfont": {
          "color": "white"
         },
         "textposition": "outside",
         "texttemplate": "%{y:.2f}",
         "type": "bar",
         "x": [
          "Low income"
         ],
         "xaxis": "x",
         "y": [
          50.43491304347826
         ],
         "yaxis": "y"
        },
        {
         "alignmentgroup": "True",
         "hovertemplate": "Grupo de Renda=%{x}<br>Anos=2001<br>Expectativa de Vida Média=%{y}<extra></extra>",
         "ids": [
          "Lower middle income"
         ],
         "legendgroup": "Lower middle income",
         "marker": {
          "color": "rgb(82, 188, 163)",
          "pattern": {
           "shape": ""
          }
         },
         "name": "Lower middle income",
         "offsetgroup": "Lower middle income",
         "orientation": "v",
         "showlegend": true,
         "textfont": {
          "color": "white"
         },
         "textposition": "outside",
         "texttemplate": "%{y:.2f}",
         "type": "bar",
         "x": [
          "Lower middle income"
         ],
         "xaxis": "x",
         "y": [
          61.51120162601626
         ],
         "yaxis": "y"
        },
        {
         "alignmentgroup": "True",
         "hovertemplate": "Grupo de Renda=%{x}<br>Anos=2001<br>Expectativa de Vida Média=%{y}<extra></extra>",
         "ids": [
          "Upper middle income"
         ],
         "legendgroup": "Upper middle income",
         "marker": {
          "color": "rgb(153, 201, 69)",
          "pattern": {
           "shape": ""
          }
         },
         "name": "Upper middle income",
         "offsetgroup": "Upper middle income",
         "orientation": "v",
         "showlegend": true,
         "textfont": {
          "color": "white"
         },
         "textposition": "outside",
         "texttemplate": "%{y:.2f}",
         "type": "bar",
         "x": [
          "Upper middle income"
         ],
         "xaxis": "x",
         "y": [
          69.02474334811531
         ],
         "yaxis": "y"
        }
       ],
       "frames": [
        {
         "data": [
          {
           "alignmentgroup": "True",
           "hovertemplate": "Grupo de Renda=%{x}<br>Anos=2001<br>Expectativa de Vida Média=%{y}<extra></extra>",
           "ids": [
            "High income"
           ],
           "legendgroup": "High income",
           "marker": {
            "color": "rgb(229, 134, 6)",
            "pattern": {
             "shape": ""
            }
           },
           "name": "High income",
           "offsetgroup": "High income",
           "orientation": "v",
           "showlegend": true,
           "textposition": "auto",
           "type": "bar",
           "x": [
            "High income"
           ],
           "xaxis": "x",
           "y": [
            76.32351360225141
           ],
           "yaxis": "y"
          },
          {
           "alignmentgroup": "True",
           "hovertemplate": "Grupo de Renda=%{x}<br>Anos=2001<br>Expectativa de Vida Média=%{y}<extra></extra>",
           "ids": [
            "Low income"
           ],
           "legendgroup": "Low income",
           "marker": {
            "color": "rgb(93, 105, 177)",
            "pattern": {
             "shape": ""
            }
           },
           "name": "Low income",
           "offsetgroup": "Low income",
           "orientation": "v",
           "showlegend": true,
           "textposition": "auto",
           "type": "bar",
           "x": [
            "Low income"
           ],
           "xaxis": "x",
           "y": [
            50.43491304347826
           ],
           "yaxis": "y"
          },
          {
           "alignmentgroup": "True",
           "hovertemplate": "Grupo de Renda=%{x}<br>Anos=2001<br>Expectativa de Vida Média=%{y}<extra></extra>",
           "ids": [
            "Lower middle income"
           ],
           "legendgroup": "Lower middle income",
           "marker": {
            "color": "rgb(82, 188, 163)",
            "pattern": {
             "shape": ""
            }
           },
           "name": "Lower middle income",
           "offsetgroup": "Lower middle income",
           "orientation": "v",
           "showlegend": true,
           "textposition": "auto",
           "type": "bar",
           "x": [
            "Lower middle income"
           ],
           "xaxis": "x",
           "y": [
            61.51120162601626
           ],
           "yaxis": "y"
          },
          {
           "alignmentgroup": "True",
           "hovertemplate": "Grupo de Renda=%{x}<br>Anos=2001<br>Expectativa de Vida Média=%{y}<extra></extra>",
           "ids": [
            "Upper middle income"
           ],
           "legendgroup": "Upper middle income",
           "marker": {
            "color": "rgb(153, 201, 69)",
            "pattern": {
             "shape": ""
            }
           },
           "name": "Upper middle income",
           "offsetgroup": "Upper middle income",
           "orientation": "v",
           "showlegend": true,
           "textposition": "auto",
           "type": "bar",
           "x": [
            "Upper middle income"
           ],
           "xaxis": "x",
           "y": [
            69.02474334811531
           ],
           "yaxis": "y"
          }
         ],
         "name": "2001"
        },
        {
         "data": [
          {
           "alignmentgroup": "True",
           "hovertemplate": "Grupo de Renda=%{x}<br>Anos=2002<br>Expectativa de Vida Média=%{y}<extra></extra>",
           "ids": [
            "High income"
           ],
           "legendgroup": "High income",
           "marker": {
            "color": "rgb(229, 134, 6)",
            "pattern": {
             "shape": ""
            }
           },
           "name": "High income",
           "offsetgroup": "High income",
           "orientation": "v",
           "showlegend": true,
           "textposition": "auto",
           "type": "bar",
           "x": [
            "High income"
           ],
           "xaxis": "x",
           "y": [
            76.46556894934335
           ],
           "yaxis": "y"
          },
          {
           "alignmentgroup": "True",
           "hovertemplate": "Grupo de Renda=%{x}<br>Anos=2002<br>Expectativa de Vida Média=%{y}<extra></extra>",
           "ids": [
            "Low income"
           ],
           "legendgroup": "Low income",
           "marker": {
            "color": "rgb(93, 105, 177)",
            "pattern": {
             "shape": ""
            }
           },
           "name": "Low income",
           "offsetgroup": "Low income",
           "orientation": "v",
           "showlegend": true,
           "textposition": "auto",
           "type": "bar",
           "x": [
            "Low income"
           ],
           "xaxis": "x",
           "y": [
            50.975434782608694
           ],
           "yaxis": "y"
          },
          {
           "alignmentgroup": "True",
           "hovertemplate": "Grupo de Renda=%{x}<br>Anos=2002<br>Expectativa de Vida Média=%{y}<extra></extra>",
           "ids": [
            "Lower middle income"
           ],
           "legendgroup": "Lower middle income",
           "marker": {
            "color": "rgb(82, 188, 163)",
            "pattern": {
             "shape": ""
            }
           },
           "name": "Lower middle income",
           "offsetgroup": "Lower middle income",
           "orientation": "v",
           "showlegend": true,
           "textposition": "auto",
           "type": "bar",
           "x": [
            "Lower middle income"
           ],
           "xaxis": "x",
           "y": [
            61.81514688346884
           ],
           "yaxis": "y"
          },
          {
           "alignmentgroup": "True",
           "hovertemplate": "Grupo de Renda=%{x}<br>Anos=2002<br>Expectativa de Vida Média=%{y}<extra></extra>",
           "ids": [
            "Upper middle income"
           ],
           "legendgroup": "Upper middle income",
           "marker": {
            "color": "rgb(153, 201, 69)",
            "pattern": {
             "shape": ""
            }
           },
           "name": "Upper middle income",
           "offsetgroup": "Upper middle income",
           "orientation": "v",
           "showlegend": true,
           "textposition": "auto",
           "type": "bar",
           "x": [
            "Upper middle income"
           ],
           "xaxis": "x",
           "y": [
            69.32428943089431
           ],
           "yaxis": "y"
          }
         ],
         "name": "2002"
        },
        {
         "data": [
          {
           "alignmentgroup": "True",
           "hovertemplate": "Grupo de Renda=%{x}<br>Anos=2003<br>Expectativa de Vida Média=%{y}<extra></extra>",
           "ids": [
            "High income"
           ],
           "legendgroup": "High income",
           "marker": {
            "color": "rgb(229, 134, 6)",
            "pattern": {
             "shape": ""
            }
           },
           "name": "High income",
           "offsetgroup": "High income",
           "orientation": "v",
           "showlegend": true,
           "textposition": "auto",
           "type": "bar",
           "x": [
            "High income"
           ],
           "xaxis": "x",
           "y": [
            76.67278236397749
           ],
           "yaxis": "y"
          },
          {
           "alignmentgroup": "True",
           "hovertemplate": "Grupo de Renda=%{x}<br>Anos=2003<br>Expectativa de Vida Média=%{y}<extra></extra>",
           "ids": [
            "Low income"
           ],
           "legendgroup": "Low income",
           "marker": {
            "color": "rgb(93, 105, 177)",
            "pattern": {
             "shape": ""
            }
           },
           "name": "Low income",
           "offsetgroup": "Low income",
           "orientation": "v",
           "showlegend": true,
           "textposition": "auto",
           "type": "bar",
           "x": [
            "Low income"
           ],
           "xaxis": "x",
           "y": [
            51.578
           ],
           "yaxis": "y"
          },
          {
           "alignmentgroup": "True",
           "hovertemplate": "Grupo de Renda=%{x}<br>Anos=2003<br>Expectativa de Vida Média=%{y}<extra></extra>",
           "ids": [
            "Lower middle income"
           ],
           "legendgroup": "Lower middle income",
           "marker": {
            "color": "rgb(82, 188, 163)",
            "pattern": {
             "shape": ""
            }
           },
           "name": "Lower middle income",
           "offsetgroup": "Lower middle income",
           "orientation": "v",
           "showlegend": true,
           "textposition": "auto",
           "type": "bar",
           "x": [
            "Lower middle income"
           ],
           "xaxis": "x",
           "y": [
            62.14206070460705
           ],
           "yaxis": "y"
          },
          {
           "alignmentgroup": "True",
           "hovertemplate": "Grupo de Renda=%{x}<br>Anos=2003<br>Expectativa de Vida Média=%{y}<extra></extra>",
           "ids": [
            "Upper middle income"
           ],
           "legendgroup": "Upper middle income",
           "marker": {
            "color": "rgb(153, 201, 69)",
            "pattern": {
             "shape": ""
            }
           },
           "name": "Upper middle income",
           "offsetgroup": "Upper middle income",
           "orientation": "v",
           "showlegend": true,
           "textposition": "auto",
           "type": "bar",
           "x": [
            "Upper middle income"
           ],
           "xaxis": "x",
           "y": [
            69.33729933481153
           ],
           "yaxis": "y"
          }
         ],
         "name": "2003"
        },
        {
         "data": [
          {
           "alignmentgroup": "True",
           "hovertemplate": "Grupo de Renda=%{x}<br>Anos=2004<br>Expectativa de Vida Média=%{y}<extra></extra>",
           "ids": [
            "High income"
           ],
           "legendgroup": "High income",
           "marker": {
            "color": "rgb(229, 134, 6)",
            "pattern": {
             "shape": ""
            }
           },
           "name": "High income",
           "offsetgroup": "High income",
           "orientation": "v",
           "showlegend": true,
           "textposition": "auto",
           "type": "bar",
           "x": [
            "High income"
           ],
           "xaxis": "x",
           "y": [
            77.07451266416511
           ],
           "yaxis": "y"
          },
          {
           "alignmentgroup": "True",
           "hovertemplate": "Grupo de Renda=%{x}<br>Anos=2004<br>Expectativa de Vida Média=%{y}<extra></extra>",
           "ids": [
            "Low income"
           ],
           "legendgroup": "Low income",
           "marker": {
            "color": "rgb(93, 105, 177)",
            "pattern": {
             "shape": ""
            }
           },
           "name": "Low income",
           "offsetgroup": "Low income",
           "orientation": "v",
           "showlegend": true,
           "textposition": "auto",
           "type": "bar",
           "x": [
            "Low income"
           ],
           "xaxis": "x",
           "y": [
            52.241652173913046
           ],
           "yaxis": "y"
          },
          {
           "alignmentgroup": "True",
           "hovertemplate": "Grupo de Renda=%{x}<br>Anos=2004<br>Expectativa de Vida Média=%{y}<extra></extra>",
           "ids": [
            "Lower middle income"
           ],
           "legendgroup": "Lower middle income",
           "marker": {
            "color": "rgb(82, 188, 163)",
            "pattern": {
             "shape": ""
            }
           },
           "name": "Lower middle income",
           "offsetgroup": "Lower middle income",
           "orientation": "v",
           "showlegend": true,
           "textposition": "auto",
           "type": "bar",
           "x": [
            "Lower middle income"
           ],
           "xaxis": "x",
           "y": [
            62.50209701897019
           ],
           "yaxis": "y"
          },
          {
           "alignmentgroup": "True",
           "hovertemplate": "Grupo de Renda=%{x}<br>Anos=2004<br>Expectativa de Vida Média=%{y}<extra></extra>",
           "ids": [
            "Upper middle income"
           ],
           "legendgroup": "Upper middle income",
           "marker": {
            "color": "rgb(153, 201, 69)",
            "pattern": {
             "shape": ""
            }
           },
           "name": "Upper middle income",
           "offsetgroup": "Upper middle income",
           "orientation": "v",
           "showlegend": true,
           "textposition": "auto",
           "type": "bar",
           "x": [
            "Upper middle income"
           ],
           "xaxis": "x",
           "y": [
            69.55475277161862
           ],
           "yaxis": "y"
          }
         ],
         "name": "2004"
        },
        {
         "data": [
          {
           "alignmentgroup": "True",
           "hovertemplate": "Grupo de Renda=%{x}<br>Anos=2005<br>Expectativa de Vida Média=%{y}<extra></extra>",
           "ids": [
            "High income"
           ],
           "legendgroup": "High income",
           "marker": {
            "color": "rgb(229, 134, 6)",
            "pattern": {
             "shape": ""
            }
           },
           "name": "High income",
           "offsetgroup": "High income",
           "orientation": "v",
           "showlegend": true,
           "textposition": "auto",
           "type": "bar",
           "x": [
            "High income"
           ],
           "xaxis": "x",
           "y": [
            77.22247091932458
           ],
           "yaxis": "y"
          },
          {
           "alignmentgroup": "True",
           "hovertemplate": "Grupo de Renda=%{x}<br>Anos=2005<br>Expectativa de Vida Média=%{y}<extra></extra>",
           "ids": [
            "Low income"
           ],
           "legendgroup": "Low income",
           "marker": {
            "color": "rgb(93, 105, 177)",
            "pattern": {
             "shape": ""
            }
           },
           "name": "Low income",
           "offsetgroup": "Low income",
           "orientation": "v",
           "showlegend": true,
           "textposition": "auto",
           "type": "bar",
           "x": [
            "Low income"
           ],
           "xaxis": "x",
           "y": [
            52.96069565217391
           ],
           "yaxis": "y"
          },
          {
           "alignmentgroup": "True",
           "hovertemplate": "Grupo de Renda=%{x}<br>Anos=2005<br>Expectativa de Vida Média=%{y}<extra></extra>",
           "ids": [
            "Lower middle income"
           ],
           "legendgroup": "Lower middle income",
           "marker": {
            "color": "rgb(82, 188, 163)",
            "pattern": {
             "shape": ""
            }
           },
           "name": "Lower middle income",
           "offsetgroup": "Lower middle income",
           "orientation": "v",
           "showlegend": true,
           "textposition": "auto",
           "type": "bar",
           "x": [
            "Lower middle income"
           ],
           "xaxis": "x",
           "y": [
            62.88819620596206
           ],
           "yaxis": "y"
          },
          {
           "alignmentgroup": "True",
           "hovertemplate": "Grupo de Renda=%{x}<br>Anos=2005<br>Expectativa de Vida Média=%{y}<extra></extra>",
           "ids": [
            "Upper middle income"
           ],
           "legendgroup": "Upper middle income",
           "marker": {
            "color": "rgb(153, 201, 69)",
            "pattern": {
             "shape": ""
            }
           },
           "name": "Upper middle income",
           "offsetgroup": "Upper middle income",
           "orientation": "v",
           "showlegend": true,
           "textposition": "auto",
           "type": "bar",
           "x": [
            "Upper middle income"
           ],
           "xaxis": "x",
           "y": [
            69.74667317073171
           ],
           "yaxis": "y"
          }
         ],
         "name": "2005"
        },
        {
         "data": [
          {
           "alignmentgroup": "True",
           "hovertemplate": "Grupo de Renda=%{x}<br>Anos=2006<br>Expectativa de Vida Média=%{y}<extra></extra>",
           "ids": [
            "High income"
           ],
           "legendgroup": "High income",
           "marker": {
            "color": "rgb(229, 134, 6)",
            "pattern": {
             "shape": ""
            }
           },
           "name": "High income",
           "offsetgroup": "High income",
           "orientation": "v",
           "showlegend": true,
           "textposition": "auto",
           "type": "bar",
           "x": [
            "High income"
           ],
           "xaxis": "x",
           "y": [
            77.4487823639775
           ],
           "yaxis": "y"
          },
          {
           "alignmentgroup": "True",
           "hovertemplate": "Grupo de Renda=%{x}<br>Anos=2006<br>Expectativa de Vida Média=%{y}<extra></extra>",
           "ids": [
            "Low income"
           ],
           "legendgroup": "Low income",
           "marker": {
            "color": "rgb(93, 105, 177)",
            "pattern": {
             "shape": ""
            }
           },
           "name": "Low income",
           "offsetgroup": "Low income",
           "orientation": "v",
           "showlegend": true,
           "textposition": "auto",
           "type": "bar",
           "x": [
            "Low income"
           ],
           "xaxis": "x",
           "y": [
            53.72413043478261
           ],
           "yaxis": "y"
          },
          {
           "alignmentgroup": "True",
           "hovertemplate": "Grupo de Renda=%{x}<br>Anos=2006<br>Expectativa de Vida Média=%{y}<extra></extra>",
           "ids": [
            "Lower middle income"
           ],
           "legendgroup": "Lower middle income",
           "marker": {
            "color": "rgb(82, 188, 163)",
            "pattern": {
             "shape": ""
            }
           },
           "name": "Lower middle income",
           "offsetgroup": "Lower middle income",
           "orientation": "v",
           "showlegend": true,
           "textposition": "auto",
           "type": "bar",
           "x": [
            "Lower middle income"
           ],
           "xaxis": "x",
           "y": [
            63.31052357723578
           ],
           "yaxis": "y"
          },
          {
           "alignmentgroup": "True",
           "hovertemplate": "Grupo de Renda=%{x}<br>Anos=2006<br>Expectativa de Vida Média=%{y}<extra></extra>",
           "ids": [
            "Upper middle income"
           ],
           "legendgroup": "Upper middle income",
           "marker": {
            "color": "rgb(153, 201, 69)",
            "pattern": {
             "shape": ""
            }
           },
           "name": "Upper middle income",
           "offsetgroup": "Upper middle income",
           "orientation": "v",
           "showlegend": true,
           "textposition": "auto",
           "type": "bar",
           "x": [
            "Upper middle income"
           ],
           "xaxis": "x",
           "y": [
            70.01124501108647
           ],
           "yaxis": "y"
          }
         ],
         "name": "2006"
        },
        {
         "data": [
          {
           "alignmentgroup": "True",
           "hovertemplate": "Grupo de Renda=%{x}<br>Anos=2007<br>Expectativa de Vida Média=%{y}<extra></extra>",
           "ids": [
            "High income"
           ],
           "legendgroup": "High income",
           "marker": {
            "color": "rgb(229, 134, 6)",
            "pattern": {
             "shape": ""
            }
           },
           "name": "High income",
           "offsetgroup": "High income",
           "orientation": "v",
           "showlegend": true,
           "textposition": "auto",
           "type": "bar",
           "x": [
            "High income"
           ],
           "xaxis": "x",
           "y": [
            77.65041463414634
           ],
           "yaxis": "y"
          },
          {
           "alignmentgroup": "True",
           "hovertemplate": "Grupo de Renda=%{x}<br>Anos=2007<br>Expectativa de Vida Média=%{y}<extra></extra>",
           "ids": [
            "Low income"
           ],
           "legendgroup": "Low income",
           "marker": {
            "color": "rgb(93, 105, 177)",
            "pattern": {
             "shape": ""
            }
           },
           "name": "Low income",
           "offsetgroup": "Low income",
           "orientation": "v",
           "showlegend": true,
           "textposition": "auto",
           "type": "bar",
           "x": [
            "Low income"
           ],
           "xaxis": "x",
           "y": [
            54.510956521739125
           ],
           "yaxis": "y"
          },
          {
           "alignmentgroup": "True",
           "hovertemplate": "Grupo de Renda=%{x}<br>Anos=2007<br>Expectativa de Vida Média=%{y}<extra></extra>",
           "ids": [
            "Lower middle income"
           ],
           "legendgroup": "Lower middle income",
           "marker": {
            "color": "rgb(82, 188, 163)",
            "pattern": {
             "shape": ""
            }
           },
           "name": "Lower middle income",
           "offsetgroup": "Lower middle income",
           "orientation": "v",
           "showlegend": true,
           "textposition": "auto",
           "type": "bar",
           "x": [
            "Lower middle income"
           ],
           "xaxis": "x",
           "y": [
            63.756004336043354
           ],
           "yaxis": "y"
          },
          {
           "alignmentgroup": "True",
           "hovertemplate": "Grupo de Renda=%{x}<br>Anos=2007<br>Expectativa de Vida Média=%{y}<extra></extra>",
           "ids": [
            "Upper middle income"
           ],
           "legendgroup": "Upper middle income",
           "marker": {
            "color": "rgb(153, 201, 69)",
            "pattern": {
             "shape": ""
            }
           },
           "name": "Upper middle income",
           "offsetgroup": "Upper middle income",
           "orientation": "v",
           "showlegend": true,
           "textposition": "auto",
           "type": "bar",
           "x": [
            "Upper middle income"
           ],
           "xaxis": "x",
           "y": [
            70.29368625277162
           ],
           "yaxis": "y"
          }
         ],
         "name": "2007"
        },
        {
         "data": [
          {
           "alignmentgroup": "True",
           "hovertemplate": "Grupo de Renda=%{x}<br>Anos=2008<br>Expectativa de Vida Média=%{y}<extra></extra>",
           "ids": [
            "High income"
           ],
           "legendgroup": "High income",
           "marker": {
            "color": "rgb(229, 134, 6)",
            "pattern": {
             "shape": ""
            }
           },
           "name": "High income",
           "offsetgroup": "High income",
           "orientation": "v",
           "showlegend": true,
           "textposition": "auto",
           "type": "bar",
           "x": [
            "High income"
           ],
           "xaxis": "x",
           "y": [
            77.91276454033772
           ],
           "yaxis": "y"
          },
          {
           "alignmentgroup": "True",
           "hovertemplate": "Grupo de Renda=%{x}<br>Anos=2008<br>Expectativa de Vida Média=%{y}<extra></extra>",
           "ids": [
            "Low income"
           ],
           "legendgroup": "Low income",
           "marker": {
            "color": "rgb(93, 105, 177)",
            "pattern": {
             "shape": ""
            }
           },
           "name": "Low income",
           "offsetgroup": "Low income",
           "orientation": "v",
           "showlegend": true,
           "textposition": "auto",
           "type": "bar",
           "x": [
            "Low income"
           ],
           "xaxis": "x",
           "y": [
            55.29978260869565
           ],
           "yaxis": "y"
          },
          {
           "alignmentgroup": "True",
           "hovertemplate": "Grupo de Renda=%{x}<br>Anos=2008<br>Expectativa de Vida Média=%{y}<extra></extra>",
           "ids": [
            "Lower middle income"
           ],
           "legendgroup": "Lower middle income",
           "marker": {
            "color": "rgb(82, 188, 163)",
            "pattern": {
             "shape": ""
            }
           },
           "name": "Lower middle income",
           "offsetgroup": "Lower middle income",
           "orientation": "v",
           "showlegend": true,
           "textposition": "auto",
           "type": "bar",
           "x": [
            "Lower middle income"
           ],
           "xaxis": "x",
           "y": [
            64.21369918699187
           ],
           "yaxis": "y"
          },
          {
           "alignmentgroup": "True",
           "hovertemplate": "Grupo de Renda=%{x}<br>Anos=2008<br>Expectativa de Vida Média=%{y}<extra></extra>",
           "ids": [
            "Upper middle income"
           ],
           "legendgroup": "Upper middle income",
           "marker": {
            "color": "rgb(153, 201, 69)",
            "pattern": {
             "shape": ""
            }
           },
           "name": "Upper middle income",
           "offsetgroup": "Upper middle income",
           "orientation": "v",
           "showlegend": true,
           "textposition": "auto",
           "type": "bar",
           "x": [
            "Upper middle income"
           ],
           "xaxis": "x",
           "y": [
            70.62248170731708
           ],
           "yaxis": "y"
          }
         ],
         "name": "2008"
        },
        {
         "data": [
          {
           "alignmentgroup": "True",
           "hovertemplate": "Grupo de Renda=%{x}<br>Anos=2009<br>Expectativa de Vida Média=%{y}<extra></extra>",
           "ids": [
            "High income"
           ],
           "legendgroup": "High income",
           "marker": {
            "color": "rgb(229, 134, 6)",
            "pattern": {
             "shape": ""
            }
           },
           "name": "High income",
           "offsetgroup": "High income",
           "orientation": "v",
           "showlegend": true,
           "textposition": "auto",
           "type": "bar",
           "x": [
            "High income"
           ],
           "xaxis": "x",
           "y": [
            78.18420872420263
           ],
           "yaxis": "y"
          },
          {
           "alignmentgroup": "True",
           "hovertemplate": "Grupo de Renda=%{x}<br>Anos=2009<br>Expectativa de Vida Média=%{y}<extra></extra>",
           "ids": [
            "Low income"
           ],
           "legendgroup": "Low income",
           "marker": {
            "color": "rgb(93, 105, 177)",
            "pattern": {
             "shape": ""
            }
           },
           "name": "Low income",
           "offsetgroup": "Low income",
           "orientation": "v",
           "showlegend": true,
           "textposition": "auto",
           "type": "bar",
           "x": [
            "Low income"
           ],
           "xaxis": "x",
           "y": [
            56.0745652173913
           ],
           "yaxis": "y"
          },
          {
           "alignmentgroup": "True",
           "hovertemplate": "Grupo de Renda=%{x}<br>Anos=2009<br>Expectativa de Vida Média=%{y}<extra></extra>",
           "ids": [
            "Lower middle income"
           ],
           "legendgroup": "Lower middle income",
           "marker": {
            "color": "rgb(82, 188, 163)",
            "pattern": {
             "shape": ""
            }
           },
           "name": "Lower middle income",
           "offsetgroup": "Lower middle income",
           "orientation": "v",
           "showlegend": true,
           "textposition": "auto",
           "type": "bar",
           "x": [
            "Lower middle income"
           ],
           "xaxis": "x",
           "y": [
            64.69875555555555
           ],
           "yaxis": "y"
          },
          {
           "alignmentgroup": "True",
           "hovertemplate": "Grupo de Renda=%{x}<br>Anos=2009<br>Expectativa de Vida Média=%{y}<extra></extra>",
           "ids": [
            "Upper middle income"
           ],
           "legendgroup": "Upper middle income",
           "marker": {
            "color": "rgb(153, 201, 69)",
            "pattern": {
             "shape": ""
            }
           },
           "name": "Upper middle income",
           "offsetgroup": "Upper middle income",
           "orientation": "v",
           "showlegend": true,
           "textposition": "auto",
           "type": "bar",
           "x": [
            "Upper middle income"
           ],
           "xaxis": "x",
           "y": [
            70.94812638580932
           ],
           "yaxis": "y"
          }
         ],
         "name": "2009"
        },
        {
         "data": [
          {
           "alignmentgroup": "True",
           "hovertemplate": "Grupo de Renda=%{x}<br>Anos=2010<br>Expectativa de Vida Média=%{y}<extra></extra>",
           "ids": [
            "High income"
           ],
           "legendgroup": "High income",
           "marker": {
            "color": "rgb(229, 134, 6)",
            "pattern": {
             "shape": ""
            }
           },
           "name": "High income",
           "offsetgroup": "High income",
           "orientation": "v",
           "showlegend": true,
           "textposition": "auto",
           "type": "bar",
           "x": [
            "High income"
           ],
           "xaxis": "x",
           "y": [
            78.41485553470919
           ],
           "yaxis": "y"
          },
          {
           "alignmentgroup": "True",
           "hovertemplate": "Grupo de Renda=%{x}<br>Anos=2010<br>Expectativa de Vida Média=%{y}<extra></extra>",
           "ids": [
            "Low income"
           ],
           "legendgroup": "Low income",
           "marker": {
            "color": "rgb(93, 105, 177)",
            "pattern": {
             "shape": ""
            }
           },
           "name": "Low income",
           "offsetgroup": "Low income",
           "orientation": "v",
           "showlegend": true,
           "textposition": "auto",
           "type": "bar",
           "x": [
            "Low income"
           ],
           "xaxis": "x",
           "y": [
            56.821739130434786
           ],
           "yaxis": "y"
          },
          {
           "alignmentgroup": "True",
           "hovertemplate": "Grupo de Renda=%{x}<br>Anos=2010<br>Expectativa de Vida Média=%{y}<extra></extra>",
           "ids": [
            "Lower middle income"
           ],
           "legendgroup": "Lower middle income",
           "marker": {
            "color": "rgb(82, 188, 163)",
            "pattern": {
             "shape": ""
            }
           },
           "name": "Lower middle income",
           "offsetgroup": "Lower middle income",
           "orientation": "v",
           "showlegend": true,
           "textposition": "auto",
           "type": "bar",
           "x": [
            "Lower middle income"
           ],
           "xaxis": "x",
           "y": [
            65.18745257452574
           ],
           "yaxis": "y"
          },
          {
           "alignmentgroup": "True",
           "hovertemplate": "Grupo de Renda=%{x}<br>Anos=2010<br>Expectativa de Vida Média=%{y}<extra></extra>",
           "ids": [
            "Upper middle income"
           ],
           "legendgroup": "Upper middle income",
           "marker": {
            "color": "rgb(153, 201, 69)",
            "pattern": {
             "shape": ""
            }
           },
           "name": "Upper middle income",
           "offsetgroup": "Upper middle income",
           "orientation": "v",
           "showlegend": true,
           "textposition": "auto",
           "type": "bar",
           "x": [
            "Upper middle income"
           ],
           "xaxis": "x",
           "y": [
            71.27779046563192
           ],
           "yaxis": "y"
          }
         ],
         "name": "2010"
        },
        {
         "data": [
          {
           "alignmentgroup": "True",
           "hovertemplate": "Grupo de Renda=%{x}<br>Anos=2011<br>Expectativa de Vida Média=%{y}<extra></extra>",
           "ids": [
            "High income"
           ],
           "legendgroup": "High income",
           "marker": {
            "color": "rgb(229, 134, 6)",
            "pattern": {
             "shape": ""
            }
           },
           "name": "High income",
           "offsetgroup": "High income",
           "orientation": "v",
           "showlegend": true,
           "textposition": "auto",
           "type": "bar",
           "x": [
            "High income"
           ],
           "xaxis": "x",
           "y": [
            78.7335440900563
           ],
           "yaxis": "y"
          },
          {
           "alignmentgroup": "True",
           "hovertemplate": "Grupo de Renda=%{x}<br>Anos=2011<br>Expectativa de Vida Média=%{y}<extra></extra>",
           "ids": [
            "Low income"
           ],
           "legendgroup": "Low income",
           "marker": {
            "color": "rgb(93, 105, 177)",
            "pattern": {
             "shape": ""
            }
           },
           "name": "Low income",
           "offsetgroup": "Low income",
           "orientation": "v",
           "showlegend": true,
           "textposition": "auto",
           "type": "bar",
           "x": [
            "Low income"
           ],
           "xaxis": "x",
           "y": [
            57.53256521739131
           ],
           "yaxis": "y"
          },
          {
           "alignmentgroup": "True",
           "hovertemplate": "Grupo de Renda=%{x}<br>Anos=2011<br>Expectativa de Vida Média=%{y}<extra></extra>",
           "ids": [
            "Lower middle income"
           ],
           "legendgroup": "Lower middle income",
           "marker": {
            "color": "rgb(82, 188, 163)",
            "pattern": {
             "shape": ""
            }
           },
           "name": "Lower middle income",
           "offsetgroup": "Lower middle income",
           "orientation": "v",
           "showlegend": true,
           "textposition": "auto",
           "type": "bar",
           "x": [
            "Lower middle income"
           ],
           "xaxis": "x",
           "y": [
            65.66009485094851
           ],
           "yaxis": "y"
          },
          {
           "alignmentgroup": "True",
           "hovertemplate": "Grupo de Renda=%{x}<br>Anos=2011<br>Expectativa de Vida Média=%{y}<extra></extra>",
           "ids": [
            "Upper middle income"
           ],
           "legendgroup": "Upper middle income",
           "marker": {
            "color": "rgb(153, 201, 69)",
            "pattern": {
             "shape": ""
            }
           },
           "name": "Upper middle income",
           "offsetgroup": "Upper middle income",
           "orientation": "v",
           "showlegend": true,
           "textposition": "auto",
           "type": "bar",
           "x": [
            "Upper middle income"
           ],
           "xaxis": "x",
           "y": [
            71.59789578713969
           ],
           "yaxis": "y"
          }
         ],
         "name": "2011"
        },
        {
         "data": [
          {
           "alignmentgroup": "True",
           "hovertemplate": "Grupo de Renda=%{x}<br>Anos=2012<br>Expectativa de Vida Média=%{y}<extra></extra>",
           "ids": [
            "High income"
           ],
           "legendgroup": "High income",
           "marker": {
            "color": "rgb(229, 134, 6)",
            "pattern": {
             "shape": ""
            }
           },
           "name": "High income",
           "offsetgroup": "High income",
           "orientation": "v",
           "showlegend": true,
           "textposition": "auto",
           "type": "bar",
           "x": [
            "High income"
           ],
           "xaxis": "x",
           "y": [
            78.90600281425893
           ],
           "yaxis": "y"
          },
          {
           "alignmentgroup": "True",
           "hovertemplate": "Grupo de Renda=%{x}<br>Anos=2012<br>Expectativa de Vida Média=%{y}<extra></extra>",
           "ids": [
            "Low income"
           ],
           "legendgroup": "Low income",
           "marker": {
            "color": "rgb(93, 105, 177)",
            "pattern": {
             "shape": ""
            }
           },
           "name": "Low income",
           "offsetgroup": "Low income",
           "orientation": "v",
           "showlegend": true,
           "textposition": "auto",
           "type": "bar",
           "x": [
            "Low income"
           ],
           "xaxis": "x",
           "y": [
            58.20613043478261
           ],
           "yaxis": "y"
          },
          {
           "alignmentgroup": "True",
           "hovertemplate": "Grupo de Renda=%{x}<br>Anos=2012<br>Expectativa de Vida Média=%{y}<extra></extra>",
           "ids": [
            "Lower middle income"
           ],
           "legendgroup": "Lower middle income",
           "marker": {
            "color": "rgb(82, 188, 163)",
            "pattern": {
             "shape": ""
            }
           },
           "name": "Lower middle income",
           "offsetgroup": "Lower middle income",
           "orientation": "v",
           "showlegend": true,
           "textposition": "auto",
           "type": "bar",
           "x": [
            "Lower middle income"
           ],
           "xaxis": "x",
           "y": [
            66.11544769647696
           ],
           "yaxis": "y"
          },
          {
           "alignmentgroup": "True",
           "hovertemplate": "Grupo de Renda=%{x}<br>Anos=2012<br>Expectativa de Vida Média=%{y}<extra></extra>",
           "ids": [
            "Upper middle income"
           ],
           "legendgroup": "Upper middle income",
           "marker": {
            "color": "rgb(153, 201, 69)",
            "pattern": {
             "shape": ""
            }
           },
           "name": "Upper middle income",
           "offsetgroup": "Upper middle income",
           "orientation": "v",
           "showlegend": true,
           "textposition": "auto",
           "type": "bar",
           "x": [
            "Upper middle income"
           ],
           "xaxis": "x",
           "y": [
            71.94620288248338
           ],
           "yaxis": "y"
          }
         ],
         "name": "2012"
        },
        {
         "data": [
          {
           "alignmentgroup": "True",
           "hovertemplate": "Grupo de Renda=%{x}<br>Anos=2013<br>Expectativa de Vida Média=%{y}<extra></extra>",
           "ids": [
            "High income"
           ],
           "legendgroup": "High income",
           "marker": {
            "color": "rgb(229, 134, 6)",
            "pattern": {
             "shape": ""
            }
           },
           "name": "High income",
           "offsetgroup": "High income",
           "orientation": "v",
           "showlegend": true,
           "textposition": "auto",
           "type": "bar",
           "x": [
            "High income"
           ],
           "xaxis": "x",
           "y": [
            79.10543480300188
           ],
           "yaxis": "y"
          },
          {
           "alignmentgroup": "True",
           "hovertemplate": "Grupo de Renda=%{x}<br>Anos=2013<br>Expectativa de Vida Média=%{y}<extra></extra>",
           "ids": [
            "Low income"
           ],
           "legendgroup": "Low income",
           "marker": {
            "color": "rgb(93, 105, 177)",
            "pattern": {
             "shape": ""
            }
           },
           "name": "Low income",
           "offsetgroup": "Low income",
           "orientation": "v",
           "showlegend": true,
           "textposition": "auto",
           "type": "bar",
           "x": [
            "Low income"
           ],
           "xaxis": "x",
           "y": [
            58.841130434782606
           ],
           "yaxis": "y"
          },
          {
           "alignmentgroup": "True",
           "hovertemplate": "Grupo de Renda=%{x}<br>Anos=2013<br>Expectativa de Vida Média=%{y}<extra></extra>",
           "ids": [
            "Lower middle income"
           ],
           "legendgroup": "Lower middle income",
           "marker": {
            "color": "rgb(82, 188, 163)",
            "pattern": {
             "shape": ""
            }
           },
           "name": "Lower middle income",
           "offsetgroup": "Lower middle income",
           "orientation": "v",
           "showlegend": true,
           "textposition": "auto",
           "type": "bar",
           "x": [
            "Lower middle income"
           ],
           "xaxis": "x",
           "y": [
            66.55925582655826
           ],
           "yaxis": "y"
          },
          {
           "alignmentgroup": "True",
           "hovertemplate": "Grupo de Renda=%{x}<br>Anos=2013<br>Expectativa de Vida Média=%{y}<extra></extra>",
           "ids": [
            "Upper middle income"
           ],
           "legendgroup": "Upper middle income",
           "marker": {
            "color": "rgb(153, 201, 69)",
            "pattern": {
             "shape": ""
            }
           },
           "name": "Upper middle income",
           "offsetgroup": "Upper middle income",
           "orientation": "v",
           "showlegend": true,
           "textposition": "auto",
           "type": "bar",
           "x": [
            "Upper middle income"
           ],
           "xaxis": "x",
           "y": [
            72.28059977827051
           ],
           "yaxis": "y"
          }
         ],
         "name": "2013"
        },
        {
         "data": [
          {
           "alignmentgroup": "True",
           "hovertemplate": "Grupo de Renda=%{x}<br>Anos=2014<br>Expectativa de Vida Média=%{y}<extra></extra>",
           "ids": [
            "High income"
           ],
           "legendgroup": "High income",
           "marker": {
            "color": "rgb(229, 134, 6)",
            "pattern": {
             "shape": ""
            }
           },
           "name": "High income",
           "offsetgroup": "High income",
           "orientation": "v",
           "showlegend": true,
           "textposition": "auto",
           "type": "bar",
           "x": [
            "High income"
           ],
           "xaxis": "x",
           "y": [
            79.37380393996249
           ],
           "yaxis": "y"
          },
          {
           "alignmentgroup": "True",
           "hovertemplate": "Grupo de Renda=%{x}<br>Anos=2014<br>Expectativa de Vida Média=%{y}<extra></extra>",
           "ids": [
            "Low income"
           ],
           "legendgroup": "Low income",
           "marker": {
            "color": "rgb(93, 105, 177)",
            "pattern": {
             "shape": ""
            }
           },
           "name": "Low income",
           "offsetgroup": "Low income",
           "orientation": "v",
           "showlegend": true,
           "textposition": "auto",
           "type": "bar",
           "x": [
            "Low income"
           ],
           "xaxis": "x",
           "y": [
            59.43265217391304
           ],
           "yaxis": "y"
          },
          {
           "alignmentgroup": "True",
           "hovertemplate": "Grupo de Renda=%{x}<br>Anos=2014<br>Expectativa de Vida Média=%{y}<extra></extra>",
           "ids": [
            "Lower middle income"
           ],
           "legendgroup": "Lower middle income",
           "marker": {
            "color": "rgb(82, 188, 163)",
            "pattern": {
             "shape": ""
            }
           },
           "name": "Lower middle income",
           "offsetgroup": "Lower middle income",
           "orientation": "v",
           "showlegend": true,
           "textposition": "auto",
           "type": "bar",
           "x": [
            "Lower middle income"
           ],
           "xaxis": "x",
           "y": [
            66.97907967479675
           ],
           "yaxis": "y"
          },
          {
           "alignmentgroup": "True",
           "hovertemplate": "Grupo de Renda=%{x}<br>Anos=2014<br>Expectativa de Vida Média=%{y}<extra></extra>",
           "ids": [
            "Upper middle income"
           ],
           "legendgroup": "Upper middle income",
           "marker": {
            "color": "rgb(153, 201, 69)",
            "pattern": {
             "shape": ""
            }
           },
           "name": "Upper middle income",
           "offsetgroup": "Upper middle income",
           "orientation": "v",
           "showlegend": true,
           "textposition": "auto",
           "type": "bar",
           "x": [
            "Upper middle income"
           ],
           "xaxis": "x",
           "y": [
            72.54373281596453
           ],
           "yaxis": "y"
          }
         ],
         "name": "2014"
        },
        {
         "data": [
          {
           "alignmentgroup": "True",
           "hovertemplate": "Grupo de Renda=%{x}<br>Anos=2015<br>Expectativa de Vida Média=%{y}<extra></extra>",
           "ids": [
            "High income"
           ],
           "legendgroup": "High income",
           "marker": {
            "color": "rgb(229, 134, 6)",
            "pattern": {
             "shape": ""
            }
           },
           "name": "High income",
           "offsetgroup": "High income",
           "orientation": "v",
           "showlegend": true,
           "textposition": "auto",
           "type": "bar",
           "x": [
            "High income"
           ],
           "xaxis": "x",
           "y": [
            79.38238555347093
           ],
           "yaxis": "y"
          },
          {
           "alignmentgroup": "True",
           "hovertemplate": "Grupo de Renda=%{x}<br>Anos=2015<br>Expectativa de Vida Média=%{y}<extra></extra>",
           "ids": [
            "Low income"
           ],
           "legendgroup": "Low income",
           "marker": {
            "color": "rgb(93, 105, 177)",
            "pattern": {
             "shape": ""
            }
           },
           "name": "Low income",
           "offsetgroup": "Low income",
           "orientation": "v",
           "showlegend": true,
           "textposition": "auto",
           "type": "bar",
           "x": [
            "Low income"
           ],
           "xaxis": "x",
           "y": [
            59.97586956521739
           ],
           "yaxis": "y"
          },
          {
           "alignmentgroup": "True",
           "hovertemplate": "Grupo de Renda=%{x}<br>Anos=2015<br>Expectativa de Vida Média=%{y}<extra></extra>",
           "ids": [
            "Lower middle income"
           ],
           "legendgroup": "Lower middle income",
           "marker": {
            "color": "rgb(82, 188, 163)",
            "pattern": {
             "shape": ""
            }
           },
           "name": "Lower middle income",
           "offsetgroup": "Lower middle income",
           "orientation": "v",
           "showlegend": true,
           "textposition": "auto",
           "type": "bar",
           "x": [
            "Lower middle income"
           ],
           "xaxis": "x",
           "y": [
            67.37067804878049
           ],
           "yaxis": "y"
          },
          {
           "alignmentgroup": "True",
           "hovertemplate": "Grupo de Renda=%{x}<br>Anos=2015<br>Expectativa de Vida Média=%{y}<extra></extra>",
           "ids": [
            "Upper middle income"
           ],
           "legendgroup": "Upper middle income",
           "marker": {
            "color": "rgb(153, 201, 69)",
            "pattern": {
             "shape": ""
            }
           },
           "name": "Upper middle income",
           "offsetgroup": "Upper middle income",
           "orientation": "v",
           "showlegend": true,
           "textposition": "auto",
           "type": "bar",
           "x": [
            "Upper middle income"
           ],
           "xaxis": "x",
           "y": [
            72.78580044345898
           ],
           "yaxis": "y"
          }
         ],
         "name": "2015"
        },
        {
         "data": [
          {
           "alignmentgroup": "True",
           "hovertemplate": "Grupo de Renda=%{x}<br>Anos=2016<br>Expectativa de Vida Média=%{y}<extra></extra>",
           "ids": [
            "High income"
           ],
           "legendgroup": "High income",
           "marker": {
            "color": "rgb(229, 134, 6)",
            "pattern": {
             "shape": ""
            }
           },
           "name": "High income",
           "offsetgroup": "High income",
           "orientation": "v",
           "showlegend": true,
           "textposition": "auto",
           "type": "bar",
           "x": [
            "High income"
           ],
           "xaxis": "x",
           "y": [
            79.59554315196998
           ],
           "yaxis": "y"
          },
          {
           "alignmentgroup": "True",
           "hovertemplate": "Grupo de Renda=%{x}<br>Anos=2016<br>Expectativa de Vida Média=%{y}<extra></extra>",
           "ids": [
            "Low income"
           ],
           "legendgroup": "Low income",
           "marker": {
            "color": "rgb(93, 105, 177)",
            "pattern": {
             "shape": ""
            }
           },
           "name": "Low income",
           "offsetgroup": "Low income",
           "orientation": "v",
           "showlegend": true,
           "textposition": "auto",
           "type": "bar",
           "x": [
            "Low income"
           ],
           "xaxis": "x",
           "y": [
            60.468043478260874
           ],
           "yaxis": "y"
          },
          {
           "alignmentgroup": "True",
           "hovertemplate": "Grupo de Renda=%{x}<br>Anos=2016<br>Expectativa de Vida Média=%{y}<extra></extra>",
           "ids": [
            "Lower middle income"
           ],
           "legendgroup": "Lower middle income",
           "marker": {
            "color": "rgb(82, 188, 163)",
            "pattern": {
             "shape": ""
            }
           },
           "name": "Lower middle income",
           "offsetgroup": "Lower middle income",
           "orientation": "v",
           "showlegend": true,
           "textposition": "auto",
           "type": "bar",
           "x": [
            "Lower middle income"
           ],
           "xaxis": "x",
           "y": [
            67.73491869918699
           ],
           "yaxis": "y"
          },
          {
           "alignmentgroup": "True",
           "hovertemplate": "Grupo de Renda=%{x}<br>Anos=2016<br>Expectativa de Vida Média=%{y}<extra></extra>",
           "ids": [
            "Upper middle income"
           ],
           "legendgroup": "Upper middle income",
           "marker": {
            "color": "rgb(153, 201, 69)",
            "pattern": {
             "shape": ""
            }
           },
           "name": "Upper middle income",
           "offsetgroup": "Upper middle income",
           "orientation": "v",
           "showlegend": true,
           "textposition": "auto",
           "type": "bar",
           "x": [
            "Upper middle income"
           ],
           "xaxis": "x",
           "y": [
            73.00077660753881
           ],
           "yaxis": "y"
          }
         ],
         "name": "2016"
        },
        {
         "data": [
          {
           "alignmentgroup": "True",
           "hovertemplate": "Grupo de Renda=%{x}<br>Anos=2017<br>Expectativa de Vida Média=%{y}<extra></extra>",
           "ids": [
            "High income"
           ],
           "legendgroup": "High income",
           "marker": {
            "color": "rgb(229, 134, 6)",
            "pattern": {
             "shape": ""
            }
           },
           "name": "High income",
           "offsetgroup": "High income",
           "orientation": "v",
           "showlegend": true,
           "textposition": "auto",
           "type": "bar",
           "x": [
            "High income"
           ],
           "xaxis": "x",
           "y": [
            79.68605300187618
           ],
           "yaxis": "y"
          },
          {
           "alignmentgroup": "True",
           "hovertemplate": "Grupo de Renda=%{x}<br>Anos=2017<br>Expectativa de Vida Média=%{y}<extra></extra>",
           "ids": [
            "Low income"
           ],
           "legendgroup": "Low income",
           "marker": {
            "color": "rgb(93, 105, 177)",
            "pattern": {
             "shape": ""
            }
           },
           "name": "Low income",
           "offsetgroup": "Low income",
           "orientation": "v",
           "showlegend": true,
           "textposition": "auto",
           "type": "bar",
           "x": [
            "Low income"
           ],
           "xaxis": "x",
           "y": [
            60.91395652173913
           ],
           "yaxis": "y"
          },
          {
           "alignmentgroup": "True",
           "hovertemplate": "Grupo de Renda=%{x}<br>Anos=2017<br>Expectativa de Vida Média=%{y}<extra></extra>",
           "ids": [
            "Lower middle income"
           ],
           "legendgroup": "Lower middle income",
           "marker": {
            "color": "rgb(82, 188, 163)",
            "pattern": {
             "shape": ""
            }
           },
           "name": "Lower middle income",
           "offsetgroup": "Lower middle income",
           "orientation": "v",
           "showlegend": true,
           "textposition": "auto",
           "type": "bar",
           "x": [
            "Lower middle income"
           ],
           "xaxis": "x",
           "y": [
            68.06568834688346
           ],
           "yaxis": "y"
          },
          {
           "alignmentgroup": "True",
           "hovertemplate": "Grupo de Renda=%{x}<br>Anos=2017<br>Expectativa de Vida Média=%{y}<extra></extra>",
           "ids": [
            "Upper middle income"
           ],
           "legendgroup": "Upper middle income",
           "marker": {
            "color": "rgb(153, 201, 69)",
            "pattern": {
             "shape": ""
            }
           },
           "name": "Upper middle income",
           "offsetgroup": "Upper middle income",
           "orientation": "v",
           "showlegend": true,
           "textposition": "auto",
           "type": "bar",
           "x": [
            "Upper middle income"
           ],
           "xaxis": "x",
           "y": [
            73.20010421286031
           ],
           "yaxis": "y"
          }
         ],
         "name": "2017"
        },
        {
         "data": [
          {
           "alignmentgroup": "True",
           "hovertemplate": "Grupo de Renda=%{x}<br>Anos=2018<br>Expectativa de Vida Média=%{y}<extra></extra>",
           "ids": [
            "High income"
           ],
           "legendgroup": "High income",
           "marker": {
            "color": "rgb(229, 134, 6)",
            "pattern": {
             "shape": ""
            }
           },
           "name": "High income",
           "offsetgroup": "High income",
           "orientation": "v",
           "showlegend": true,
           "textposition": "auto",
           "type": "bar",
           "x": [
            "High income"
           ],
           "xaxis": "x",
           "y": [
            79.80019043151971
           ],
           "yaxis": "y"
          },
          {
           "alignmentgroup": "True",
           "hovertemplate": "Grupo de Renda=%{x}<br>Anos=2018<br>Expectativa de Vida Média=%{y}<extra></extra>",
           "ids": [
            "Low income"
           ],
           "legendgroup": "Low income",
           "marker": {
            "color": "rgb(93, 105, 177)",
            "pattern": {
             "shape": ""
            }
           },
           "name": "Low income",
           "offsetgroup": "Low income",
           "orientation": "v",
           "showlegend": true,
           "textposition": "auto",
           "type": "bar",
           "x": [
            "Low income"
           ],
           "xaxis": "x",
           "y": [
            61.32026086956522
           ],
           "yaxis": "y"
          },
          {
           "alignmentgroup": "True",
           "hovertemplate": "Grupo de Renda=%{x}<br>Anos=2018<br>Expectativa de Vida Média=%{y}<extra></extra>",
           "ids": [
            "Lower middle income"
           ],
           "legendgroup": "Lower middle income",
           "marker": {
            "color": "rgb(82, 188, 163)",
            "pattern": {
             "shape": ""
            }
           },
           "name": "Lower middle income",
           "offsetgroup": "Lower middle income",
           "orientation": "v",
           "showlegend": true,
           "textposition": "auto",
           "type": "bar",
           "x": [
            "Lower middle income"
           ],
           "xaxis": "x",
           "y": [
            68.35319295392954
           ],
           "yaxis": "y"
          },
          {
           "alignmentgroup": "True",
           "hovertemplate": "Grupo de Renda=%{x}<br>Anos=2018<br>Expectativa de Vida Média=%{y}<extra></extra>",
           "ids": [
            "Upper middle income"
           ],
           "legendgroup": "Upper middle income",
           "marker": {
            "color": "rgb(153, 201, 69)",
            "pattern": {
             "shape": ""
            }
           },
           "name": "Upper middle income",
           "offsetgroup": "Upper middle income",
           "orientation": "v",
           "showlegend": true,
           "textposition": "auto",
           "type": "bar",
           "x": [
            "Upper middle income"
           ],
           "xaxis": "x",
           "y": [
            73.39276940133037
           ],
           "yaxis": "y"
          }
         ],
         "name": "2018"
        },
        {
         "data": [
          {
           "alignmentgroup": "True",
           "hovertemplate": "Grupo de Renda=%{x}<br>Anos=2019<br>Expectativa de Vida Média=%{y}<extra></extra>",
           "ids": [
            "High income"
           ],
           "legendgroup": "High income",
           "marker": {
            "color": "rgb(229, 134, 6)",
            "pattern": {
             "shape": ""
            }
           },
           "name": "High income",
           "offsetgroup": "High income",
           "orientation": "v",
           "showlegend": true,
           "textposition": "auto",
           "type": "bar",
           "x": [
            "High income"
           ],
           "xaxis": "x",
           "y": [
            80.0437335834897
           ],
           "yaxis": "y"
          },
          {
           "alignmentgroup": "True",
           "hovertemplate": "Grupo de Renda=%{x}<br>Anos=2019<br>Expectativa de Vida Média=%{y}<extra></extra>",
           "ids": [
            "Low income"
           ],
           "legendgroup": "Low income",
           "marker": {
            "color": "rgb(93, 105, 177)",
            "pattern": {
             "shape": ""
            }
           },
           "name": "Low income",
           "offsetgroup": "Low income",
           "orientation": "v",
           "showlegend": true,
           "textposition": "auto",
           "type": "bar",
           "x": [
            "Low income"
           ],
           "xaxis": "x",
           "y": [
            61.692
           ],
           "yaxis": "y"
          },
          {
           "alignmentgroup": "True",
           "hovertemplate": "Grupo de Renda=%{x}<br>Anos=2019<br>Expectativa de Vida Média=%{y}<extra></extra>",
           "ids": [
            "Lower middle income"
           ],
           "legendgroup": "Lower middle income",
           "marker": {
            "color": "rgb(82, 188, 163)",
            "pattern": {
             "shape": ""
            }
           },
           "name": "Lower middle income",
           "offsetgroup": "Lower middle income",
           "orientation": "v",
           "showlegend": true,
           "textposition": "auto",
           "type": "bar",
           "x": [
            "Lower middle income"
           ],
           "xaxis": "x",
           "y": [
            68.62045149051491
           ],
           "yaxis": "y"
          },
          {
           "alignmentgroup": "True",
           "hovertemplate": "Grupo de Renda=%{x}<br>Anos=2019<br>Expectativa de Vida Média=%{y}<extra></extra>",
           "ids": [
            "Upper middle income"
           ],
           "legendgroup": "Upper middle income",
           "marker": {
            "color": "rgb(153, 201, 69)",
            "pattern": {
             "shape": ""
            }
           },
           "name": "Upper middle income",
           "offsetgroup": "Upper middle income",
           "orientation": "v",
           "showlegend": true,
           "textposition": "auto",
           "type": "bar",
           "x": [
            "Upper middle income"
           ],
           "xaxis": "x",
           "y": [
            73.53417793791574
           ],
           "yaxis": "y"
          }
         ],
         "name": "2019"
        }
       ],
       "layout": {
        "barmode": "relative",
        "legend": {
         "title": {
          "text": "Grupo de Renda"
         },
         "tracegroupgap": 0
        },
        "sliders": [
         {
          "active": 0,
          "currentvalue": {
           "prefix": "Anos="
          },
          "len": 0.9,
          "pad": {
           "b": 10,
           "t": 60
          },
          "steps": [
           {
            "args": [
             [
              "2001"
             ],
             {
              "frame": {
               "duration": 0,
               "redraw": true
              },
              "fromcurrent": true,
              "mode": "immediate",
              "transition": {
               "duration": 0,
               "easing": "linear"
              }
             }
            ],
            "label": "2001",
            "method": "animate"
           },
           {
            "args": [
             [
              "2002"
             ],
             {
              "frame": {
               "duration": 0,
               "redraw": true
              },
              "fromcurrent": true,
              "mode": "immediate",
              "transition": {
               "duration": 0,
               "easing": "linear"
              }
             }
            ],
            "label": "2002",
            "method": "animate"
           },
           {
            "args": [
             [
              "2003"
             ],
             {
              "frame": {
               "duration": 0,
               "redraw": true
              },
              "fromcurrent": true,
              "mode": "immediate",
              "transition": {
               "duration": 0,
               "easing": "linear"
              }
             }
            ],
            "label": "2003",
            "method": "animate"
           },
           {
            "args": [
             [
              "2004"
             ],
             {
              "frame": {
               "duration": 0,
               "redraw": true
              },
              "fromcurrent": true,
              "mode": "immediate",
              "transition": {
               "duration": 0,
               "easing": "linear"
              }
             }
            ],
            "label": "2004",
            "method": "animate"
           },
           {
            "args": [
             [
              "2005"
             ],
             {
              "frame": {
               "duration": 0,
               "redraw": true
              },
              "fromcurrent": true,
              "mode": "immediate",
              "transition": {
               "duration": 0,
               "easing": "linear"
              }
             }
            ],
            "label": "2005",
            "method": "animate"
           },
           {
            "args": [
             [
              "2006"
             ],
             {
              "frame": {
               "duration": 0,
               "redraw": true
              },
              "fromcurrent": true,
              "mode": "immediate",
              "transition": {
               "duration": 0,
               "easing": "linear"
              }
             }
            ],
            "label": "2006",
            "method": "animate"
           },
           {
            "args": [
             [
              "2007"
             ],
             {
              "frame": {
               "duration": 0,
               "redraw": true
              },
              "fromcurrent": true,
              "mode": "immediate",
              "transition": {
               "duration": 0,
               "easing": "linear"
              }
             }
            ],
            "label": "2007",
            "method": "animate"
           },
           {
            "args": [
             [
              "2008"
             ],
             {
              "frame": {
               "duration": 0,
               "redraw": true
              },
              "fromcurrent": true,
              "mode": "immediate",
              "transition": {
               "duration": 0,
               "easing": "linear"
              }
             }
            ],
            "label": "2008",
            "method": "animate"
           },
           {
            "args": [
             [
              "2009"
             ],
             {
              "frame": {
               "duration": 0,
               "redraw": true
              },
              "fromcurrent": true,
              "mode": "immediate",
              "transition": {
               "duration": 0,
               "easing": "linear"
              }
             }
            ],
            "label": "2009",
            "method": "animate"
           },
           {
            "args": [
             [
              "2010"
             ],
             {
              "frame": {
               "duration": 0,
               "redraw": true
              },
              "fromcurrent": true,
              "mode": "immediate",
              "transition": {
               "duration": 0,
               "easing": "linear"
              }
             }
            ],
            "label": "2010",
            "method": "animate"
           },
           {
            "args": [
             [
              "2011"
             ],
             {
              "frame": {
               "duration": 0,
               "redraw": true
              },
              "fromcurrent": true,
              "mode": "immediate",
              "transition": {
               "duration": 0,
               "easing": "linear"
              }
             }
            ],
            "label": "2011",
            "method": "animate"
           },
           {
            "args": [
             [
              "2012"
             ],
             {
              "frame": {
               "duration": 0,
               "redraw": true
              },
              "fromcurrent": true,
              "mode": "immediate",
              "transition": {
               "duration": 0,
               "easing": "linear"
              }
             }
            ],
            "label": "2012",
            "method": "animate"
           },
           {
            "args": [
             [
              "2013"
             ],
             {
              "frame": {
               "duration": 0,
               "redraw": true
              },
              "fromcurrent": true,
              "mode": "immediate",
              "transition": {
               "duration": 0,
               "easing": "linear"
              }
             }
            ],
            "label": "2013",
            "method": "animate"
           },
           {
            "args": [
             [
              "2014"
             ],
             {
              "frame": {
               "duration": 0,
               "redraw": true
              },
              "fromcurrent": true,
              "mode": "immediate",
              "transition": {
               "duration": 0,
               "easing": "linear"
              }
             }
            ],
            "label": "2014",
            "method": "animate"
           },
           {
            "args": [
             [
              "2015"
             ],
             {
              "frame": {
               "duration": 0,
               "redraw": true
              },
              "fromcurrent": true,
              "mode": "immediate",
              "transition": {
               "duration": 0,
               "easing": "linear"
              }
             }
            ],
            "label": "2015",
            "method": "animate"
           },
           {
            "args": [
             [
              "2016"
             ],
             {
              "frame": {
               "duration": 0,
               "redraw": true
              },
              "fromcurrent": true,
              "mode": "immediate",
              "transition": {
               "duration": 0,
               "easing": "linear"
              }
             }
            ],
            "label": "2016",
            "method": "animate"
           },
           {
            "args": [
             [
              "2017"
             ],
             {
              "frame": {
               "duration": 0,
               "redraw": true
              },
              "fromcurrent": true,
              "mode": "immediate",
              "transition": {
               "duration": 0,
               "easing": "linear"
              }
             }
            ],
            "label": "2017",
            "method": "animate"
           },
           {
            "args": [
             [
              "2018"
             ],
             {
              "frame": {
               "duration": 0,
               "redraw": true
              },
              "fromcurrent": true,
              "mode": "immediate",
              "transition": {
               "duration": 0,
               "easing": "linear"
              }
             }
            ],
            "label": "2018",
            "method": "animate"
           },
           {
            "args": [
             [
              "2019"
             ],
             {
              "frame": {
               "duration": 0,
               "redraw": true
              },
              "fromcurrent": true,
              "mode": "immediate",
              "transition": {
               "duration": 0,
               "easing": "linear"
              }
             }
            ],
            "label": "2019",
            "method": "animate"
           }
          ],
          "x": 0.1,
          "xanchor": "left",
          "y": 0,
          "yanchor": "top"
         }
        ],
        "template": {
         "data": {
          "bar": [
           {
            "error_x": {
             "color": "#2a3f5f"
            },
            "error_y": {
             "color": "#2a3f5f"
            },
            "marker": {
             "line": {
              "color": "#E5ECF6",
              "width": 0.5
             },
             "pattern": {
              "fillmode": "overlay",
              "size": 10,
              "solidity": 0.2
             }
            },
            "type": "bar"
           }
          ],
          "barpolar": [
           {
            "marker": {
             "line": {
              "color": "#E5ECF6",
              "width": 0.5
             },
             "pattern": {
              "fillmode": "overlay",
              "size": 10,
              "solidity": 0.2
             }
            },
            "type": "barpolar"
           }
          ],
          "carpet": [
           {
            "aaxis": {
             "endlinecolor": "#2a3f5f",
             "gridcolor": "white",
             "linecolor": "white",
             "minorgridcolor": "white",
             "startlinecolor": "#2a3f5f"
            },
            "baxis": {
             "endlinecolor": "#2a3f5f",
             "gridcolor": "white",
             "linecolor": "white",
             "minorgridcolor": "white",
             "startlinecolor": "#2a3f5f"
            },
            "type": "carpet"
           }
          ],
          "choropleth": [
           {
            "colorbar": {
             "outlinewidth": 0,
             "ticks": ""
            },
            "type": "choropleth"
           }
          ],
          "contour": [
           {
            "colorbar": {
             "outlinewidth": 0,
             "ticks": ""
            },
            "colorscale": [
             [
              0,
              "#0d0887"
             ],
             [
              0.1111111111111111,
              "#46039f"
             ],
             [
              0.2222222222222222,
              "#7201a8"
             ],
             [
              0.3333333333333333,
              "#9c179e"
             ],
             [
              0.4444444444444444,
              "#bd3786"
             ],
             [
              0.5555555555555556,
              "#d8576b"
             ],
             [
              0.6666666666666666,
              "#ed7953"
             ],
             [
              0.7777777777777778,
              "#fb9f3a"
             ],
             [
              0.8888888888888888,
              "#fdca26"
             ],
             [
              1,
              "#f0f921"
             ]
            ],
            "type": "contour"
           }
          ],
          "contourcarpet": [
           {
            "colorbar": {
             "outlinewidth": 0,
             "ticks": ""
            },
            "type": "contourcarpet"
           }
          ],
          "heatmap": [
           {
            "colorbar": {
             "outlinewidth": 0,
             "ticks": ""
            },
            "colorscale": [
             [
              0,
              "#0d0887"
             ],
             [
              0.1111111111111111,
              "#46039f"
             ],
             [
              0.2222222222222222,
              "#7201a8"
             ],
             [
              0.3333333333333333,
              "#9c179e"
             ],
             [
              0.4444444444444444,
              "#bd3786"
             ],
             [
              0.5555555555555556,
              "#d8576b"
             ],
             [
              0.6666666666666666,
              "#ed7953"
             ],
             [
              0.7777777777777778,
              "#fb9f3a"
             ],
             [
              0.8888888888888888,
              "#fdca26"
             ],
             [
              1,
              "#f0f921"
             ]
            ],
            "type": "heatmap"
           }
          ],
          "heatmapgl": [
           {
            "colorbar": {
             "outlinewidth": 0,
             "ticks": ""
            },
            "colorscale": [
             [
              0,
              "#0d0887"
             ],
             [
              0.1111111111111111,
              "#46039f"
             ],
             [
              0.2222222222222222,
              "#7201a8"
             ],
             [
              0.3333333333333333,
              "#9c179e"
             ],
             [
              0.4444444444444444,
              "#bd3786"
             ],
             [
              0.5555555555555556,
              "#d8576b"
             ],
             [
              0.6666666666666666,
              "#ed7953"
             ],
             [
              0.7777777777777778,
              "#fb9f3a"
             ],
             [
              0.8888888888888888,
              "#fdca26"
             ],
             [
              1,
              "#f0f921"
             ]
            ],
            "type": "heatmapgl"
           }
          ],
          "histogram": [
           {
            "marker": {
             "pattern": {
              "fillmode": "overlay",
              "size": 10,
              "solidity": 0.2
             }
            },
            "type": "histogram"
           }
          ],
          "histogram2d": [
           {
            "colorbar": {
             "outlinewidth": 0,
             "ticks": ""
            },
            "colorscale": [
             [
              0,
              "#0d0887"
             ],
             [
              0.1111111111111111,
              "#46039f"
             ],
             [
              0.2222222222222222,
              "#7201a8"
             ],
             [
              0.3333333333333333,
              "#9c179e"
             ],
             [
              0.4444444444444444,
              "#bd3786"
             ],
             [
              0.5555555555555556,
              "#d8576b"
             ],
             [
              0.6666666666666666,
              "#ed7953"
             ],
             [
              0.7777777777777778,
              "#fb9f3a"
             ],
             [
              0.8888888888888888,
              "#fdca26"
             ],
             [
              1,
              "#f0f921"
             ]
            ],
            "type": "histogram2d"
           }
          ],
          "histogram2dcontour": [
           {
            "colorbar": {
             "outlinewidth": 0,
             "ticks": ""
            },
            "colorscale": [
             [
              0,
              "#0d0887"
             ],
             [
              0.1111111111111111,
              "#46039f"
             ],
             [
              0.2222222222222222,
              "#7201a8"
             ],
             [
              0.3333333333333333,
              "#9c179e"
             ],
             [
              0.4444444444444444,
              "#bd3786"
             ],
             [
              0.5555555555555556,
              "#d8576b"
             ],
             [
              0.6666666666666666,
              "#ed7953"
             ],
             [
              0.7777777777777778,
              "#fb9f3a"
             ],
             [
              0.8888888888888888,
              "#fdca26"
             ],
             [
              1,
              "#f0f921"
             ]
            ],
            "type": "histogram2dcontour"
           }
          ],
          "mesh3d": [
           {
            "colorbar": {
             "outlinewidth": 0,
             "ticks": ""
            },
            "type": "mesh3d"
           }
          ],
          "parcoords": [
           {
            "line": {
             "colorbar": {
              "outlinewidth": 0,
              "ticks": ""
             }
            },
            "type": "parcoords"
           }
          ],
          "pie": [
           {
            "automargin": true,
            "type": "pie"
           }
          ],
          "scatter": [
           {
            "fillpattern": {
             "fillmode": "overlay",
             "size": 10,
             "solidity": 0.2
            },
            "type": "scatter"
           }
          ],
          "scatter3d": [
           {
            "line": {
             "colorbar": {
              "outlinewidth": 0,
              "ticks": ""
             }
            },
            "marker": {
             "colorbar": {
              "outlinewidth": 0,
              "ticks": ""
             }
            },
            "type": "scatter3d"
           }
          ],
          "scattercarpet": [
           {
            "marker": {
             "colorbar": {
              "outlinewidth": 0,
              "ticks": ""
             }
            },
            "type": "scattercarpet"
           }
          ],
          "scattergeo": [
           {
            "marker": {
             "colorbar": {
              "outlinewidth": 0,
              "ticks": ""
             }
            },
            "type": "scattergeo"
           }
          ],
          "scattergl": [
           {
            "marker": {
             "colorbar": {
              "outlinewidth": 0,
              "ticks": ""
             }
            },
            "type": "scattergl"
           }
          ],
          "scattermapbox": [
           {
            "marker": {
             "colorbar": {
              "outlinewidth": 0,
              "ticks": ""
             }
            },
            "type": "scattermapbox"
           }
          ],
          "scatterpolar": [
           {
            "marker": {
             "colorbar": {
              "outlinewidth": 0,
              "ticks": ""
             }
            },
            "type": "scatterpolar"
           }
          ],
          "scatterpolargl": [
           {
            "marker": {
             "colorbar": {
              "outlinewidth": 0,
              "ticks": ""
             }
            },
            "type": "scatterpolargl"
           }
          ],
          "scatterternary": [
           {
            "marker": {
             "colorbar": {
              "outlinewidth": 0,
              "ticks": ""
             }
            },
            "type": "scatterternary"
           }
          ],
          "surface": [
           {
            "colorbar": {
             "outlinewidth": 0,
             "ticks": ""
            },
            "colorscale": [
             [
              0,
              "#0d0887"
             ],
             [
              0.1111111111111111,
              "#46039f"
             ],
             [
              0.2222222222222222,
              "#7201a8"
             ],
             [
              0.3333333333333333,
              "#9c179e"
             ],
             [
              0.4444444444444444,
              "#bd3786"
             ],
             [
              0.5555555555555556,
              "#d8576b"
             ],
             [
              0.6666666666666666,
              "#ed7953"
             ],
             [
              0.7777777777777778,
              "#fb9f3a"
             ],
             [
              0.8888888888888888,
              "#fdca26"
             ],
             [
              1,
              "#f0f921"
             ]
            ],
            "type": "surface"
           }
          ],
          "table": [
           {
            "cells": {
             "fill": {
              "color": "#EBF0F8"
             },
             "line": {
              "color": "white"
             }
            },
            "header": {
             "fill": {
              "color": "#C8D4E3"
             },
             "line": {
              "color": "white"
             }
            },
            "type": "table"
           }
          ]
         },
         "layout": {
          "annotationdefaults": {
           "arrowcolor": "#2a3f5f",
           "arrowhead": 0,
           "arrowwidth": 1
          },
          "autotypenumbers": "strict",
          "coloraxis": {
           "colorbar": {
            "outlinewidth": 0,
            "ticks": ""
           }
          },
          "colorscale": {
           "diverging": [
            [
             0,
             "#8e0152"
            ],
            [
             0.1,
             "#c51b7d"
            ],
            [
             0.2,
             "#de77ae"
            ],
            [
             0.3,
             "#f1b6da"
            ],
            [
             0.4,
             "#fde0ef"
            ],
            [
             0.5,
             "#f7f7f7"
            ],
            [
             0.6,
             "#e6f5d0"
            ],
            [
             0.7,
             "#b8e186"
            ],
            [
             0.8,
             "#7fbc41"
            ],
            [
             0.9,
             "#4d9221"
            ],
            [
             1,
             "#276419"
            ]
           ],
           "sequential": [
            [
             0,
             "#0d0887"
            ],
            [
             0.1111111111111111,
             "#46039f"
            ],
            [
             0.2222222222222222,
             "#7201a8"
            ],
            [
             0.3333333333333333,
             "#9c179e"
            ],
            [
             0.4444444444444444,
             "#bd3786"
            ],
            [
             0.5555555555555556,
             "#d8576b"
            ],
            [
             0.6666666666666666,
             "#ed7953"
            ],
            [
             0.7777777777777778,
             "#fb9f3a"
            ],
            [
             0.8888888888888888,
             "#fdca26"
            ],
            [
             1,
             "#f0f921"
            ]
           ],
           "sequentialminus": [
            [
             0,
             "#0d0887"
            ],
            [
             0.1111111111111111,
             "#46039f"
            ],
            [
             0.2222222222222222,
             "#7201a8"
            ],
            [
             0.3333333333333333,
             "#9c179e"
            ],
            [
             0.4444444444444444,
             "#bd3786"
            ],
            [
             0.5555555555555556,
             "#d8576b"
            ],
            [
             0.6666666666666666,
             "#ed7953"
            ],
            [
             0.7777777777777778,
             "#fb9f3a"
            ],
            [
             0.8888888888888888,
             "#fdca26"
            ],
            [
             1,
             "#f0f921"
            ]
           ]
          },
          "colorway": [
           "#636efa",
           "#EF553B",
           "#00cc96",
           "#ab63fa",
           "#FFA15A",
           "#19d3f3",
           "#FF6692",
           "#B6E880",
           "#FF97FF",
           "#FECB52"
          ],
          "font": {
           "color": "#2a3f5f"
          },
          "geo": {
           "bgcolor": "white",
           "lakecolor": "white",
           "landcolor": "#E5ECF6",
           "showlakes": true,
           "showland": true,
           "subunitcolor": "white"
          },
          "hoverlabel": {
           "align": "left"
          },
          "hovermode": "closest",
          "mapbox": {
           "style": "light"
          },
          "paper_bgcolor": "white",
          "plot_bgcolor": "#E5ECF6",
          "polar": {
           "angularaxis": {
            "gridcolor": "white",
            "linecolor": "white",
            "ticks": ""
           },
           "bgcolor": "#E5ECF6",
           "radialaxis": {
            "gridcolor": "white",
            "linecolor": "white",
            "ticks": ""
           }
          },
          "scene": {
           "xaxis": {
            "backgroundcolor": "#E5ECF6",
            "gridcolor": "white",
            "gridwidth": 2,
            "linecolor": "white",
            "showbackground": true,
            "ticks": "",
            "zerolinecolor": "white"
           },
           "yaxis": {
            "backgroundcolor": "#E5ECF6",
            "gridcolor": "white",
            "gridwidth": 2,
            "linecolor": "white",
            "showbackground": true,
            "ticks": "",
            "zerolinecolor": "white"
           },
           "zaxis": {
            "backgroundcolor": "#E5ECF6",
            "gridcolor": "white",
            "gridwidth": 2,
            "linecolor": "white",
            "showbackground": true,
            "ticks": "",
            "zerolinecolor": "white"
           }
          },
          "shapedefaults": {
           "line": {
            "color": "#2a3f5f"
           }
          },
          "ternary": {
           "aaxis": {
            "gridcolor": "white",
            "linecolor": "white",
            "ticks": ""
           },
           "baxis": {
            "gridcolor": "white",
            "linecolor": "white",
            "ticks": ""
           },
           "bgcolor": "#E5ECF6",
           "caxis": {
            "gridcolor": "white",
            "linecolor": "white",
            "ticks": ""
           }
          },
          "title": {
           "x": 0.05
          },
          "xaxis": {
           "automargin": true,
           "gridcolor": "white",
           "linecolor": "white",
           "ticks": "",
           "title": {
            "standoff": 15
           },
           "zerolinecolor": "white",
           "zerolinewidth": 2
          },
          "yaxis": {
           "automargin": true,
           "gridcolor": "white",
           "linecolor": "white",
           "ticks": "",
           "title": {
            "standoff": 15
           },
           "zerolinecolor": "white",
           "zerolinewidth": 2
          }
         }
        },
        "title": {
         "text": "Expectativa de Vida Média por Grupo de Renda ao Longo dos Anos",
         "x": 0.5
        },
        "uniformtext": {
         "minsize": 8,
         "mode": "hide"
        },
        "updatemenus": [
         {
          "buttons": [
           {
            "args": [
             null,
             {
              "frame": {
               "duration": 500,
               "redraw": true
              },
              "fromcurrent": true,
              "mode": "immediate",
              "transition": {
               "duration": 500,
               "easing": "linear"
              }
             }
            ],
            "label": "&#9654;",
            "method": "animate"
           },
           {
            "args": [
             [
              null
             ],
             {
              "frame": {
               "duration": 0,
               "redraw": true
              },
              "fromcurrent": true,
              "mode": "immediate",
              "transition": {
               "duration": 0,
               "easing": "linear"
              }
             }
            ],
            "label": "&#9724;",
            "method": "animate"
           }
          ],
          "direction": "left",
          "pad": {
           "r": 10,
           "t": 70
          },
          "showactive": false,
          "type": "buttons",
          "x": 0.1,
          "xanchor": "right",
          "y": 0,
          "yanchor": "top"
         }
        ],
        "xaxis": {
         "anchor": "y",
         "categoryarray": [
          "High income",
          "Low income",
          "Lower middle income",
          "Upper middle income"
         ],
         "categoryorder": "array",
         "domain": [
          0,
          1
         ],
         "title": {
          "text": "Grupo de Renda"
         }
        },
        "yaxis": {
         "anchor": "x",
         "domain": [
          0,
          1
         ],
         "range": [
          0,
          100
         ],
         "title": {
          "text": "Expectativa de Vida Média"
         }
        }
       }
      }
     },
     "metadata": {},
     "output_type": "display_data"
    }
   ],
   "source": [
    "data = pd.read_csv('mapa.csv')\n",
    "\n",
    "# Agrupando os dados por ano e grupo de renda para obter a média da expectativa de vida\n",
    "grouped_data = data.groupby(['Anos', 'Grupo de renda'])['Expectativa de vida'].mean().reset_index()\n",
    "\n",
    "# Dashboard\n",
    "fig = px.bar(grouped_data, \n",
    "             x='Grupo de renda', \n",
    "             y='Expectativa de vida', \n",
    "             animation_frame='Anos', \n",
    "             animation_group='Grupo de renda', \n",
    "             range_y=[0, 100], \n",
    "             title='Expectativa de Vida Média por Grupo de Renda ao Longo dos Anos',\n",
    "             labels={'Expectativa de vida': 'Expectativa de Vida Média', 'Grupo de renda': 'Grupo de Renda'},\n",
    "             color='Grupo de renda',\n",
    "             color_discrete_sequence=px.colors.qualitative.Vivid)\n",
    "\n",
    "fig.update_layout(yaxis=dict(title='Expectativa de Vida Média'),\n",
    "                  xaxis=dict(title='Grupo de Renda'),\n",
    "                  title={'text': 'Expectativa de Vida Média por Grupo de Renda ao Longo dos Anos', 'x': 0.5},\n",
    "                  uniformtext_minsize=8, uniformtext_mode='hide')\n",
    "\n",
    "fig.update_traces(texttemplate='%{y:.2f}', textposition='outside', textfont=dict(color='white'))\n",
    "\n",
    "fig.show()\n"
   ]
  },
  {
   "cell_type": "code",
   "execution_count": 9,
   "metadata": {},
   "outputs": [],
   "source": [
    "import plotly.express as px\n",
    "import pandas as pd\n",
    "import imageio\n",
    "from PIL import Image"
   ]
  },
  {
   "cell_type": "code",
   "execution_count": 10,
   "metadata": {},
   "outputs": [
    {
     "data": {
      "application/vnd.plotly.v1+json": {
       "config": {
        "plotlyServerURL": "https://plot.ly"
       },
       "data": [
        {
         "coloraxis": "coloraxis",
         "geo": "geo",
         "hovertemplate": "Year=2001<br>Country=%{location}<br>Expectativa de Vida=%{z}<extra></extra>",
         "locationmode": "country names",
         "locations": [
          "Afghanistan",
          "Albania",
          "Algeria",
          "American Samoa",
          "Andorra",
          "Angola",
          "Antigua and Barbuda",
          "Argentina",
          "Armenia",
          "Australia",
          "Austria",
          "Azerbaijan",
          "Bahrain",
          "Bangladesh",
          "Barbados",
          "Belarus",
          "Belgium",
          "Belize",
          "Benin",
          "Bermuda",
          "Bhutan",
          "Bolivia",
          "Bosnia and Herzegovina",
          "Botswana",
          "Brazil",
          "Bulgaria",
          "Burkina Faso",
          "Burundi",
          "Cambodia",
          "Cameroon",
          "Canada",
          "Central African Republic",
          "Chad",
          "Chile",
          "China",
          "Colombia",
          "Comoros",
          "Costa Rica",
          "Cote d'Ivoire",
          "Croatia",
          "Cuba",
          "Cyprus",
          "Denmark",
          "Djibouti",
          "Dominica",
          "Dominican Republic",
          "Ecuador",
          "El Salvador",
          "Equatorial Guinea",
          "Eritrea",
          "Estonia",
          "Eswatini",
          "Ethiopia",
          "Fiji",
          "Finland",
          "France",
          "Gabon",
          "Georgia",
          "Germany",
          "Ghana",
          "Greece",
          "Greenland",
          "Grenada",
          "Guam",
          "Guatemala",
          "Guinea",
          "Guinea-Bissau",
          "Guyana",
          "Haiti",
          "Honduras",
          "Hungary",
          "Iceland",
          "India",
          "Indonesia",
          "Iraq",
          "Ireland",
          "Israel",
          "Italy",
          "Jamaica",
          "Japan",
          "Jordan",
          "Kazakhstan",
          "Kenya",
          "Kiribati",
          "Kuwait",
          "Latvia",
          "Lebanon",
          "Lesotho",
          "Liberia",
          "Libya",
          "Lithuania",
          "Luxembourg",
          "Madagascar",
          "Malawi",
          "Malaysia",
          "Maldives",
          "Mali",
          "Malta",
          "Marshall Islands",
          "Mauritania",
          "Mauritius",
          "Mexico",
          "Moldova",
          "Monaco",
          "Mongolia",
          "Montenegro",
          "Morocco",
          "Mozambique",
          "Myanmar",
          "Namibia",
          "Nauru",
          "Nepal",
          "Netherlands",
          "New Zealand",
          "Nicaragua",
          "Niger",
          "Nigeria",
          "North Macedonia",
          "Northern Mariana Islands",
          "Norway",
          "Oman",
          "Pakistan",
          "Palau",
          "Panama",
          "Papua New Guinea",
          "Paraguay",
          "Peru",
          "Philippines",
          "Poland",
          "Portugal",
          "Puerto Rico",
          "Qatar",
          "Romania",
          "Rwanda",
          "Samoa",
          "San Marino",
          "Sao Tome and Principe",
          "Saudi Arabia",
          "Senegal",
          "Serbia",
          "Seychelles",
          "Sierra Leone",
          "Singapore",
          "Slovenia",
          "Solomon Islands",
          "Somalia",
          "South Africa",
          "South Sudan",
          "Spain",
          "Sri Lanka",
          "Sudan",
          "Suriname",
          "Sweden",
          "Switzerland",
          "Tajikistan",
          "Tanzania",
          "Thailand",
          "Togo",
          "Tonga",
          "Trinidad and Tobago",
          "Tunisia",
          "Turkmenistan",
          "Tuvalu",
          "Uganda",
          "Ukraine",
          "United Arab Emirates",
          "United Kingdom",
          "United States",
          "Uruguay",
          "Uzbekistan",
          "Vanuatu",
          "Vietnam",
          "Zambia",
          "Zimbabwe"
         ],
         "name": "",
         "type": "choropleth",
         "z": [
          56.308,
          74.288,
          71.116,
          null,
          null,
          47.059,
          74.171,
          73.755,
          71.8,
          79.63414634146342,
          78.57560975609756,
          67.054,
          74.635,
          65.956,
          77.362,
          68.50731707317074,
          77.97317073170734,
          69.04,
          55.668,
          77.88536585365854,
          61.808,
          63.054,
          74.637,
          50.281,
          70.462,
          71.76829268292684,
          50.893,
          49.93,
          59.335,
          51.222,
          79.33902439024392,
          44.061,
          47.789,
          76.634,
          71.732,
          73.241,
          59.529,
          77.601,
          49.495,
          74.51292682926831,
          76.905,
          78.139,
          76.79268292682929,
          57.1,
          null,
          69.69,
          73.078,
          69.162,
          53.581,
          55.864,
          70.25853658536586,
          45.799,
          52.595,
          65.863,
          77.96585365853659,
          79.15853658536587,
          57.968,
          70.065,
          78.32926829268293,
          57.158,
          78.38780487804878,
          66.70926829268294,
          72.805,
          75.373,
          68.304,
          51.255,
          50.744,
          65.532,
          57.382,
          70.976,
          72.2487804878049,
          80.69024390243904,
          62.907,
          66.037,
          68.983,
          77.13414634146342,
          79.40731707317074,
          80.12682926829268,
          74.139,
          81.41707317073171,
          71.907,
          65.76,
          51.101,
          63.446,
          73.21,
          70.7609756097561,
          74.999,
          46.197,
          52.236,
          71.038,
          71.65853658536585,
          77.82439024390246,
          59.129,
          45.204,
          72.782,
          70.964,
          48.758,
          78.84390243902439,
          null,
          60.788,
          71.7658536585366,
          74.658,
          67.185,
          null,
          63.319,
          73.18751219512195,
          69.193,
          49.295,
          60.377,
          51.399,
          null,
          62.945,
          78.19024390243904,
          78.69268292682928,
          69.934,
          50.584,
          46.51,
          73.43658536585367,
          null,
          78.78536585365853,
          72.58,
          63.066,
          null,
          75.233,
          59.487,
          70.786,
          71.505,
          68.835,
          74.2,
          76.81463414634149,
          77.06682926829271,
          77.612,
          71.16097560975611,
          49.936,
          69.103,
          null,
          62.017,
          72.759,
          58.177,
          72.23414634146341,
          73.25365853658538,
          40.369,
          78.25121951219512,
          75.75853658536586,
          67.816,
          51.213,
          55.089,
          49.592,
          79.36829268292684,
          72.233,
          58.859,
          67.913,
          79.79512195121951,
          80.18048780487806,
          62.807,
          51.444,
          70.832,
          53.554,
          69.725,
          69.65,
          73.415,
          63.842,
          null,
          47.22,
          67.83707317073171,
          74.544,
          77.99268292682927,
          76.83658536585367,
          74.939,
          67.374,
          67.583,
          73.228,
          44.615,
          44.01
         ]
        }
       ],
       "frames": [
        {
         "data": [
          {
           "coloraxis": "coloraxis",
           "geo": "geo",
           "hovertemplate": "Year=2001<br>Country=%{location}<br>Expectativa de Vida=%{z}<extra></extra>",
           "locationmode": "country names",
           "locations": [
            "Afghanistan",
            "Albania",
            "Algeria",
            "American Samoa",
            "Andorra",
            "Angola",
            "Antigua and Barbuda",
            "Argentina",
            "Armenia",
            "Australia",
            "Austria",
            "Azerbaijan",
            "Bahrain",
            "Bangladesh",
            "Barbados",
            "Belarus",
            "Belgium",
            "Belize",
            "Benin",
            "Bermuda",
            "Bhutan",
            "Bolivia",
            "Bosnia and Herzegovina",
            "Botswana",
            "Brazil",
            "Bulgaria",
            "Burkina Faso",
            "Burundi",
            "Cambodia",
            "Cameroon",
            "Canada",
            "Central African Republic",
            "Chad",
            "Chile",
            "China",
            "Colombia",
            "Comoros",
            "Costa Rica",
            "Cote d'Ivoire",
            "Croatia",
            "Cuba",
            "Cyprus",
            "Denmark",
            "Djibouti",
            "Dominica",
            "Dominican Republic",
            "Ecuador",
            "El Salvador",
            "Equatorial Guinea",
            "Eritrea",
            "Estonia",
            "Eswatini",
            "Ethiopia",
            "Fiji",
            "Finland",
            "France",
            "Gabon",
            "Georgia",
            "Germany",
            "Ghana",
            "Greece",
            "Greenland",
            "Grenada",
            "Guam",
            "Guatemala",
            "Guinea",
            "Guinea-Bissau",
            "Guyana",
            "Haiti",
            "Honduras",
            "Hungary",
            "Iceland",
            "India",
            "Indonesia",
            "Iraq",
            "Ireland",
            "Israel",
            "Italy",
            "Jamaica",
            "Japan",
            "Jordan",
            "Kazakhstan",
            "Kenya",
            "Kiribati",
            "Kuwait",
            "Latvia",
            "Lebanon",
            "Lesotho",
            "Liberia",
            "Libya",
            "Lithuania",
            "Luxembourg",
            "Madagascar",
            "Malawi",
            "Malaysia",
            "Maldives",
            "Mali",
            "Malta",
            "Marshall Islands",
            "Mauritania",
            "Mauritius",
            "Mexico",
            "Moldova",
            "Monaco",
            "Mongolia",
            "Montenegro",
            "Morocco",
            "Mozambique",
            "Myanmar",
            "Namibia",
            "Nauru",
            "Nepal",
            "Netherlands",
            "New Zealand",
            "Nicaragua",
            "Niger",
            "Nigeria",
            "North Macedonia",
            "Northern Mariana Islands",
            "Norway",
            "Oman",
            "Pakistan",
            "Palau",
            "Panama",
            "Papua New Guinea",
            "Paraguay",
            "Peru",
            "Philippines",
            "Poland",
            "Portugal",
            "Puerto Rico",
            "Qatar",
            "Romania",
            "Rwanda",
            "Samoa",
            "San Marino",
            "Sao Tome and Principe",
            "Saudi Arabia",
            "Senegal",
            "Serbia",
            "Seychelles",
            "Sierra Leone",
            "Singapore",
            "Slovenia",
            "Solomon Islands",
            "Somalia",
            "South Africa",
            "South Sudan",
            "Spain",
            "Sri Lanka",
            "Sudan",
            "Suriname",
            "Sweden",
            "Switzerland",
            "Tajikistan",
            "Tanzania",
            "Thailand",
            "Togo",
            "Tonga",
            "Trinidad and Tobago",
            "Tunisia",
            "Turkmenistan",
            "Tuvalu",
            "Uganda",
            "Ukraine",
            "United Arab Emirates",
            "United Kingdom",
            "United States",
            "Uruguay",
            "Uzbekistan",
            "Vanuatu",
            "Vietnam",
            "Zambia",
            "Zimbabwe"
           ],
           "name": "",
           "type": "choropleth",
           "z": [
            56.308,
            74.288,
            71.116,
            null,
            null,
            47.059,
            74.171,
            73.755,
            71.8,
            79.63414634146342,
            78.57560975609756,
            67.054,
            74.635,
            65.956,
            77.362,
            68.50731707317074,
            77.97317073170734,
            69.04,
            55.668,
            77.88536585365854,
            61.808,
            63.054,
            74.637,
            50.281,
            70.462,
            71.76829268292684,
            50.893,
            49.93,
            59.335,
            51.222,
            79.33902439024392,
            44.061,
            47.789,
            76.634,
            71.732,
            73.241,
            59.529,
            77.601,
            49.495,
            74.51292682926831,
            76.905,
            78.139,
            76.79268292682929,
            57.1,
            null,
            69.69,
            73.078,
            69.162,
            53.581,
            55.864,
            70.25853658536586,
            45.799,
            52.595,
            65.863,
            77.96585365853659,
            79.15853658536587,
            57.968,
            70.065,
            78.32926829268293,
            57.158,
            78.38780487804878,
            66.70926829268294,
            72.805,
            75.373,
            68.304,
            51.255,
            50.744,
            65.532,
            57.382,
            70.976,
            72.2487804878049,
            80.69024390243904,
            62.907,
            66.037,
            68.983,
            77.13414634146342,
            79.40731707317074,
            80.12682926829268,
            74.139,
            81.41707317073171,
            71.907,
            65.76,
            51.101,
            63.446,
            73.21,
            70.7609756097561,
            74.999,
            46.197,
            52.236,
            71.038,
            71.65853658536585,
            77.82439024390246,
            59.129,
            45.204,
            72.782,
            70.964,
            48.758,
            78.84390243902439,
            null,
            60.788,
            71.7658536585366,
            74.658,
            67.185,
            null,
            63.319,
            73.18751219512195,
            69.193,
            49.295,
            60.377,
            51.399,
            null,
            62.945,
            78.19024390243904,
            78.69268292682928,
            69.934,
            50.584,
            46.51,
            73.43658536585367,
            null,
            78.78536585365853,
            72.58,
            63.066,
            null,
            75.233,
            59.487,
            70.786,
            71.505,
            68.835,
            74.2,
            76.81463414634149,
            77.06682926829271,
            77.612,
            71.16097560975611,
            49.936,
            69.103,
            null,
            62.017,
            72.759,
            58.177,
            72.23414634146341,
            73.25365853658538,
            40.369,
            78.25121951219512,
            75.75853658536586,
            67.816,
            51.213,
            55.089,
            49.592,
            79.36829268292684,
            72.233,
            58.859,
            67.913,
            79.79512195121951,
            80.18048780487806,
            62.807,
            51.444,
            70.832,
            53.554,
            69.725,
            69.65,
            73.415,
            63.842,
            null,
            47.22,
            67.83707317073171,
            74.544,
            77.99268292682927,
            76.83658536585367,
            74.939,
            67.374,
            67.583,
            73.228,
            44.615,
            44.01
           ]
          }
         ],
         "name": "2001"
        },
        {
         "data": [
          {
           "coloraxis": "coloraxis",
           "geo": "geo",
           "hovertemplate": "Year=2002<br>Country=%{location}<br>Expectativa de Vida=%{z}<extra></extra>",
           "locationmode": "country names",
           "locations": [
            "Afghanistan",
            "Albania",
            "Algeria",
            "American Samoa",
            "Andorra",
            "Angola",
            "Antigua and Barbuda",
            "Argentina",
            "Armenia",
            "Australia",
            "Austria",
            "Azerbaijan",
            "Bahrain",
            "Bangladesh",
            "Barbados",
            "Belarus",
            "Belgium",
            "Belize",
            "Benin",
            "Bermuda",
            "Bhutan",
            "Bolivia",
            "Bosnia and Herzegovina",
            "Botswana",
            "Brazil",
            "Bulgaria",
            "Burkina Faso",
            "Burundi",
            "Cambodia",
            "Cameroon",
            "Canada",
            "Central African Republic",
            "Chad",
            "Chile",
            "China",
            "Colombia",
            "Comoros",
            "Costa Rica",
            "Cote d'Ivoire",
            "Croatia",
            "Cuba",
            "Cyprus",
            "Denmark",
            "Djibouti",
            "Dominica",
            "Dominican Republic",
            "Ecuador",
            "El Salvador",
            "Equatorial Guinea",
            "Eritrea",
            "Estonia",
            "Eswatini",
            "Ethiopia",
            "Fiji",
            "Finland",
            "France",
            "Gabon",
            "Georgia",
            "Germany",
            "Ghana",
            "Greece",
            "Greenland",
            "Grenada",
            "Guam",
            "Guatemala",
            "Guinea",
            "Guinea-Bissau",
            "Guyana",
            "Haiti",
            "Honduras",
            "Hungary",
            "Iceland",
            "India",
            "Indonesia",
            "Iraq",
            "Ireland",
            "Israel",
            "Italy",
            "Jamaica",
            "Japan",
            "Jordan",
            "Kazakhstan",
            "Kenya",
            "Kiribati",
            "Kuwait",
            "Latvia",
            "Lebanon",
            "Lesotho",
            "Liberia",
            "Libya",
            "Lithuania",
            "Luxembourg",
            "Madagascar",
            "Malawi",
            "Malaysia",
            "Maldives",
            "Mali",
            "Malta",
            "Marshall Islands",
            "Mauritania",
            "Mauritius",
            "Mexico",
            "Moldova",
            "Monaco",
            "Mongolia",
            "Montenegro",
            "Morocco",
            "Mozambique",
            "Myanmar",
            "Namibia",
            "Nauru",
            "Nepal",
            "Netherlands",
            "New Zealand",
            "Nicaragua",
            "Niger",
            "Nigeria",
            "North Macedonia",
            "Northern Mariana Islands",
            "Norway",
            "Oman",
            "Pakistan",
            "Palau",
            "Panama",
            "Papua New Guinea",
            "Paraguay",
            "Peru",
            "Philippines",
            "Poland",
            "Portugal",
            "Puerto Rico",
            "Qatar",
            "Romania",
            "Rwanda",
            "Samoa",
            "San Marino",
            "Sao Tome and Principe",
            "Saudi Arabia",
            "Senegal",
            "Serbia",
            "Seychelles",
            "Sierra Leone",
            "Singapore",
            "Slovenia",
            "Solomon Islands",
            "Somalia",
            "South Africa",
            "South Sudan",
            "Spain",
            "Sri Lanka",
            "Sudan",
            "Suriname",
            "Sweden",
            "Switzerland",
            "Tajikistan",
            "Tanzania",
            "Thailand",
            "Togo",
            "Tonga",
            "Trinidad and Tobago",
            "Tunisia",
            "Turkmenistan",
            "Tuvalu",
            "Uganda",
            "Ukraine",
            "United Arab Emirates",
            "United Kingdom",
            "United States",
            "Uruguay",
            "Uzbekistan",
            "Vanuatu",
            "Vietnam",
            "Zambia",
            "Zimbabwe"
           ],
           "name": "",
           "type": "choropleth",
           "z": [
            56.784,
            74.579,
            71.605,
            null,
            null,
            47.702,
            74.395,
            73.932,
            72.112,
            79.93658536585367,
            78.67804878048783,
            67.391,
            74.822,
            66.43,
            77.534,
            68.05609756097562,
            78.07560975609758,
            69.272,
            56.025,
            78.08780487804879,
            62.728,
            63.64,
            74.803,
            50.232,
            70.813,
            71.86585365853658,
            51.384,
            50.81,
            60.283,
            51.536,
            79.49024390243902,
            44.063,
            47.9,
            76.894,
            72.061,
            73.517,
            59.617,
            77.74,
            49.475,
            74.71731707317075,
            77.105,
            78.264,
            76.89512195121951,
            57.235,
            76.59756097560977,
            69.957,
            73.371,
            69.432,
            53.84,
            56.5,
            70.9048780487805,
            44.41,
            53.349,
            66.022,
            78.11951219512196,
            79.26097560975612,
            57.791,
            70.22,
            78.22926829268293,
            57.425,
            78.64146341463415,
            67.19634146341464,
            72.929,
            75.726,
            68.717,
            51.484,
            51.123,
            65.828,
            57.655,
            71.249,
            72.34878048780489,
            80.50243902439026,
            63.304,
            66.321,
            68.827,
            77.63414634146342,
            79.45121951219512,
            80.22926829268295,
            74.14,
            81.56341463414634,
            72.083,
            65.95,
            51.606,
            63.731,
            73.28,
            70.96097560975612,
            75.488,
            44.898,
            52.826,
            71.244,
            71.76097560975612,
            77.96585365853659,
            59.717,
            45.517,
            72.976,
            71.708,
            49.54,
            78.73902439024391,
            null,
            60.892,
            71.96585365853659,
            74.922,
            67.362,
            null,
            63.777,
            73.23726829268294,
            69.769,
            49.61,
            60.685,
            50.862,
            null,
            63.57,
            78.29268292682927,
            78.84634146341463,
            70.308,
            51.256,
            46.835,
            73.03902439024391,
            null,
            78.98780487804879,
            73.022,
            63.3,
            null,
            75.401,
            59.722,
            71.023,
            71.882,
            68.88,
            74.49756097560977,
            77.0658536585366,
            77.76048780487805,
            77.762,
            71.00975609756098,
            50.987,
            69.451,
            null,
            62.687,
            72.92,
            58.675,
            72.28536585365855,
            71.08780487804879,
            41.376,
            78.55121951219512,
            76.00731707317074,
            68.175,
            51.492,
            54.31,
            50.05,
            79.56829268292684,
            73.085,
            59.258,
            68.064,
            79.84634146341465,
            80.38536585365854,
            63.653,
            52.142,
            71.089,
            53.71,
            69.771,
            69.903,
            73.638,
            64.101,
            null,
            48.299,
            68.27560975609757,
            74.758,
            78.14390243902439,
            76.93658536585366,
            75.152,
            67.613,
            67.793,
            73.438,
            45.4,
            43.523
           ]
          }
         ],
         "name": "2002"
        },
        {
         "data": [
          {
           "coloraxis": "coloraxis",
           "geo": "geo",
           "hovertemplate": "Year=2003<br>Country=%{location}<br>Expectativa de Vida=%{z}<extra></extra>",
           "locationmode": "country names",
           "locations": [
            "Afghanistan",
            "Albania",
            "Algeria",
            "American Samoa",
            "Andorra",
            "Angola",
            "Antigua and Barbuda",
            "Argentina",
            "Armenia",
            "Australia",
            "Austria",
            "Azerbaijan",
            "Bahrain",
            "Bangladesh",
            "Barbados",
            "Belarus",
            "Belgium",
            "Belize",
            "Benin",
            "Bermuda",
            "Bhutan",
            "Bolivia",
            "Bosnia and Herzegovina",
            "Botswana",
            "Brazil",
            "Bulgaria",
            "Burkina Faso",
            "Burundi",
            "Cambodia",
            "Cameroon",
            "Canada",
            "Central African Republic",
            "Chad",
            "Chile",
            "China",
            "Colombia",
            "Comoros",
            "Costa Rica",
            "Cote d'Ivoire",
            "Croatia",
            "Cuba",
            "Cyprus",
            "Denmark",
            "Djibouti",
            "Dominica",
            "Dominican Republic",
            "Ecuador",
            "El Salvador",
            "Equatorial Guinea",
            "Eritrea",
            "Estonia",
            "Eswatini",
            "Ethiopia",
            "Fiji",
            "Finland",
            "France",
            "Gabon",
            "Georgia",
            "Germany",
            "Ghana",
            "Greece",
            "Greenland",
            "Grenada",
            "Guam",
            "Guatemala",
            "Guinea",
            "Guinea-Bissau",
            "Guyana",
            "Haiti",
            "Honduras",
            "Hungary",
            "Iceland",
            "India",
            "Indonesia",
            "Iraq",
            "Ireland",
            "Israel",
            "Italy",
            "Jamaica",
            "Japan",
            "Jordan",
            "Kazakhstan",
            "Kenya",
            "Kiribati",
            "Kuwait",
            "Latvia",
            "Lebanon",
            "Lesotho",
            "Liberia",
            "Libya",
            "Lithuania",
            "Luxembourg",
            "Madagascar",
            "Malawi",
            "Malaysia",
            "Maldives",
            "Mali",
            "Malta",
            "Marshall Islands",
            "Mauritania",
            "Mauritius",
            "Mexico",
            "Moldova",
            "Monaco",
            "Mongolia",
            "Montenegro",
            "Morocco",
            "Mozambique",
            "Myanmar",
            "Namibia",
            "Nauru",
            "Nepal",
            "Netherlands",
            "New Zealand",
            "Nicaragua",
            "Niger",
            "Nigeria",
            "North Macedonia",
            "Northern Mariana Islands",
            "Norway",
            "Oman",
            "Pakistan",
            "Palau",
            "Panama",
            "Papua New Guinea",
            "Paraguay",
            "Peru",
            "Philippines",
            "Poland",
            "Portugal",
            "Puerto Rico",
            "Qatar",
            "Romania",
            "Rwanda",
            "Samoa",
            "San Marino",
            "Sao Tome and Principe",
            "Saudi Arabia",
            "Senegal",
            "Serbia",
            "Seychelles",
            "Sierra Leone",
            "Singapore",
            "Slovenia",
            "Solomon Islands",
            "Somalia",
            "South Africa",
            "South Sudan",
            "Spain",
            "Sri Lanka",
            "Sudan",
            "Suriname",
            "Sweden",
            "Switzerland",
            "Tajikistan",
            "Tanzania",
            "Thailand",
            "Togo",
            "Tonga",
            "Trinidad and Tobago",
            "Tunisia",
            "Turkmenistan",
            "Tuvalu",
            "Uganda",
            "Ukraine",
            "United Arab Emirates",
            "United Kingdom",
            "United States",
            "Uruguay",
            "Uzbekistan",
            "Vanuatu",
            "Vietnam",
            "Zambia",
            "Zimbabwe"
           ],
           "name": "",
           "type": "choropleth",
           "z": [
            57.271,
            74.828,
            72.101,
            null,
            null,
            48.44,
            74.613,
            74.107,
            72.348,
            80.23902439024391,
            78.63170731707318,
            67.791,
            74.999,
            66.886,
            77.682,
            68.55365853658539,
            78.12926829268292,
            69.511,
            56.436,
            78.33414634146341,
            63.624,
            64.21,
            74.941,
            50.518,
            71.17,
            72.0658536585366,
            51.956,
            51.69,
            61.241,
            51.908,
            79.74146341463417,
            44.182,
            48.057,
            77.146,
            72.381,
            73.777,
            59.738,
            77.871,
            49.572,
            74.6139024390244,
            77.303,
            78.385,
            77.1439024390244,
            57.427,
            null,
            70.227,
            73.641,
            69.68,
            54.064,
            57.191,
            71.3170731707317,
            43.372,
            54.211,
            66.152,
            78.36829268292684,
            79.11463414634147,
            57.759,
            70.349,
            78.38048780487806,
            57.785,
            78.84146341463415,
            68.1148780487805,
            73.023,
            76.065,
            69.092,
            51.901,
            51.501,
            66.122,
            57.959,
            71.511,
            72.3,
            80.96341463414636,
            63.699,
            66.631,
            68.636,
            78.1390243902439,
            79.64878048780488,
            79.98292682926831,
            74.142,
            81.76,
            72.256,
            65.74,
            52.41,
            63.995,
            73.355,
            71.2658536585366,
            75.969,
            43.845,
            53.554,
            71.466,
            72.06097560975611,
            77.72682926829269,
            60.256,
            46.052,
            73.17,
            72.399,
            50.373,
            78.54634146341465,
            null,
            61.018,
            72.1170731707317,
            75.118,
            67.521,
            null,
            64.23,
            73.31853658536586,
            70.399,
            49.889,
            60.989,
            50.589,
            null,
            64.165,
            78.49268292682929,
            79.14634146341464,
            70.64,
            51.95,
            47.242,
            73.24146341463415,
            null,
            79.39024390243902,
            73.447,
            63.522,
            null,
            75.565,
            59.974,
            71.249,
            72.24,
            68.937,
            74.59756097560977,
            77.21951219512196,
            78.07121951219513,
            77.919,
            71.30975609756098,
            52.178,
            69.781,
            null,
            63.359,
            73.051,
            59.259,
            72.43658536585367,
            71.02926829268294,
            42.419,
            79.0390243902439,
            76.85853658536585,
            68.518,
            51.762,
            53.749,
            50.55,
            79.61951219512197,
            73.799,
            59.67,
            68.28,
            80.09512195121953,
            80.53658536585368,
            64.496,
            52.866,
            71.389,
            53.938,
            69.803,
            70.164,
            73.842,
            64.386,
            null,
            49.421,
            68.21073170731708,
            74.968,
            78.44634146341464,
            77.03658536585367,
            75.373,
            67.868,
            67.99,
            73.654,
            46.322,
            43.195
           ]
          }
         ],
         "name": "2003"
        },
        {
         "data": [
          {
           "coloraxis": "coloraxis",
           "geo": "geo",
           "hovertemplate": "Year=2004<br>Country=%{location}<br>Expectativa de Vida=%{z}<extra></extra>",
           "locationmode": "country names",
           "locations": [
            "Afghanistan",
            "Albania",
            "Algeria",
            "American Samoa",
            "Andorra",
            "Angola",
            "Antigua and Barbuda",
            "Argentina",
            "Armenia",
            "Australia",
            "Austria",
            "Azerbaijan",
            "Bahrain",
            "Bangladesh",
            "Barbados",
            "Belarus",
            "Belgium",
            "Belize",
            "Benin",
            "Bermuda",
            "Bhutan",
            "Bolivia",
            "Bosnia and Herzegovina",
            "Botswana",
            "Brazil",
            "Bulgaria",
            "Burkina Faso",
            "Burundi",
            "Cambodia",
            "Cameroon",
            "Canada",
            "Central African Republic",
            "Chad",
            "Chile",
            "China",
            "Colombia",
            "Comoros",
            "Costa Rica",
            "Cote d'Ivoire",
            "Croatia",
            "Cuba",
            "Cyprus",
            "Denmark",
            "Djibouti",
            "Dominica",
            "Dominican Republic",
            "Ecuador",
            "El Salvador",
            "Equatorial Guinea",
            "Eritrea",
            "Estonia",
            "Eswatini",
            "Ethiopia",
            "Fiji",
            "Finland",
            "France",
            "Gabon",
            "Georgia",
            "Germany",
            "Ghana",
            "Greece",
            "Greenland",
            "Grenada",
            "Guam",
            "Guatemala",
            "Guinea",
            "Guinea-Bissau",
            "Guyana",
            "Haiti",
            "Honduras",
            "Hungary",
            "Iceland",
            "India",
            "Indonesia",
            "Iraq",
            "Ireland",
            "Israel",
            "Italy",
            "Jamaica",
            "Japan",
            "Jordan",
            "Kazakhstan",
            "Kenya",
            "Kiribati",
            "Kuwait",
            "Latvia",
            "Lebanon",
            "Lesotho",
            "Liberia",
            "Libya",
            "Lithuania",
            "Luxembourg",
            "Madagascar",
            "Malawi",
            "Malaysia",
            "Maldives",
            "Mali",
            "Malta",
            "Marshall Islands",
            "Mauritania",
            "Mauritius",
            "Mexico",
            "Moldova",
            "Monaco",
            "Mongolia",
            "Montenegro",
            "Morocco",
            "Mozambique",
            "Myanmar",
            "Namibia",
            "Nauru",
            "Nepal",
            "Netherlands",
            "New Zealand",
            "Nicaragua",
            "Niger",
            "Nigeria",
            "North Macedonia",
            "Northern Mariana Islands",
            "Norway",
            "Oman",
            "Pakistan",
            "Palau",
            "Panama",
            "Papua New Guinea",
            "Paraguay",
            "Peru",
            "Philippines",
            "Poland",
            "Portugal",
            "Puerto Rico",
            "Qatar",
            "Romania",
            "Rwanda",
            "Samoa",
            "San Marino",
            "Sao Tome and Principe",
            "Saudi Arabia",
            "Senegal",
            "Serbia",
            "Seychelles",
            "Sierra Leone",
            "Singapore",
            "Slovenia",
            "Solomon Islands",
            "Somalia",
            "South Africa",
            "South Sudan",
            "Spain",
            "Sri Lanka",
            "Sudan",
            "Suriname",
            "Sweden",
            "Switzerland",
            "Tajikistan",
            "Tanzania",
            "Thailand",
            "Togo",
            "Tonga",
            "Trinidad and Tobago",
            "Tunisia",
            "Turkmenistan",
            "Tuvalu",
            "Uganda",
            "Ukraine",
            "United Arab Emirates",
            "United Kingdom",
            "United States",
            "Uruguay",
            "Uzbekistan",
            "Vanuatu",
            "Vietnam",
            "Zambia",
            "Zimbabwe"
           ],
           "name": "",
           "type": "choropleth",
           "z": [
            57.772,
            75.039,
            72.594,
            null,
            null,
            49.263,
            74.821,
            74.28,
            72.513,
            80.49024390243903,
            79.18048780487806,
            68.249,
            75.167,
            67.331,
            77.808,
            68.95609756097562,
            78.8780487804878,
            69.749,
            56.887,
            78.48536585365855,
            64.483,
            64.766,
            75.068,
            51.15,
            71.531,
            72.56341463414634,
            52.602,
            52.547,
            62.186,
            52.321,
            79.89268292682928,
            44.413,
            48.27,
            77.391,
            72.689,
            74.026,
            59.904,
            77.996,
            49.788,
            75.52024390243902,
            77.499,
            78.506,
            77.49268292682927,
            57.682,
            null,
            70.499,
            73.887,
            69.908,
            54.263,
            57.932,
            71.90975609756097,
            42.731,
            55.174,
            66.247,
            78.71463414634148,
            80.16341463414635,
            57.885,
            70.451,
            78.68048780487807,
            58.225,
            79.0390243902439,
            68.59268292682928,
            73.088,
            76.387,
            69.437,
            52.499,
            51.883,
            66.412,
            58.292,
            71.77,
            72.64878048780488,
            80.99756097560977,
            64.095,
            66.969,
            68.437,
            78.53902439024391,
            80.14634146341464,
            80.78048780487806,
            74.146,
            82.03024390243904,
            72.427,
            66.06,
            53.475,
            64.242,
            73.439,
            72.02682926829269,
            76.432,
            43.083,
            54.422,
            71.693,
            71.9609756097561,
            79.1219512195122,
            60.752,
            46.823,
            73.364,
            73.034,
            51.224,
            79.25365853658539,
            null,
            61.17,
            72.2658536585366,
            75.243,
            67.665,
            null,
            64.671,
            73.42926829268292,
            71.067,
            50.143,
            61.294,
            50.6,
            null,
            64.729,
            79.09512195121953,
            79.54878048780488,
            70.933,
            52.668,
            47.72,
            73.59756097560977,
            null,
            79.84146341463416,
            73.851,
            63.736,
            null,
            75.728,
            60.245,
            71.464,
            72.581,
            69.013,
            74.84634146341465,
            77.67073170731709,
            78.17585365853658,
            78.083,
            71.5609756097561,
            53.595,
            70.089,
            null,
            64.02,
            73.159,
            59.912,
            72.6829268292683,
            72.6609756097561,
            43.467,
            79.49024390243902,
            77.20731707317073,
            68.845,
            52.043,
            53.444,
            51.095,
            79.87073170731709,
            74.337,
            60.092,
            68.555,
            80.49756097560977,
            81.0878048780488,
            65.314,
            53.602,
            71.728,
            54.234,
            69.822,
            70.428,
            74.034,
            64.693,
            null,
            50.554,
            68.18536585365854,
            75.174,
            78.74634146341464,
            77.48780487804878,
            75.599,
            68.135,
            68.176,
            73.875,
            47.354,
            43.065
           ]
          }
         ],
         "name": "2004"
        },
        {
         "data": [
          {
           "coloraxis": "coloraxis",
           "geo": "geo",
           "hovertemplate": "Year=2005<br>Country=%{location}<br>Expectativa de Vida=%{z}<extra></extra>",
           "locationmode": "country names",
           "locations": [
            "Afghanistan",
            "Albania",
            "Algeria",
            "American Samoa",
            "Andorra",
            "Angola",
            "Antigua and Barbuda",
            "Argentina",
            "Armenia",
            "Australia",
            "Austria",
            "Azerbaijan",
            "Bahrain",
            "Bangladesh",
            "Barbados",
            "Belarus",
            "Belgium",
            "Belize",
            "Benin",
            "Bermuda",
            "Bhutan",
            "Bolivia",
            "Bosnia and Herzegovina",
            "Botswana",
            "Brazil",
            "Bulgaria",
            "Burkina Faso",
            "Burundi",
            "Cambodia",
            "Cameroon",
            "Canada",
            "Central African Republic",
            "Chad",
            "Chile",
            "China",
            "Colombia",
            "Comoros",
            "Costa Rica",
            "Cote d'Ivoire",
            "Croatia",
            "Cuba",
            "Cyprus",
            "Denmark",
            "Djibouti",
            "Dominica",
            "Dominican Republic",
            "Ecuador",
            "El Salvador",
            "Equatorial Guinea",
            "Eritrea",
            "Estonia",
            "Eswatini",
            "Ethiopia",
            "Fiji",
            "Finland",
            "France",
            "Gabon",
            "Georgia",
            "Germany",
            "Ghana",
            "Greece",
            "Greenland",
            "Grenada",
            "Guam",
            "Guatemala",
            "Guinea",
            "Guinea-Bissau",
            "Guyana",
            "Haiti",
            "Honduras",
            "Hungary",
            "Iceland",
            "India",
            "Indonesia",
            "Iraq",
            "Ireland",
            "Israel",
            "Italy",
            "Jamaica",
            "Japan",
            "Jordan",
            "Kazakhstan",
            "Kenya",
            "Kiribati",
            "Kuwait",
            "Latvia",
            "Lebanon",
            "Lesotho",
            "Liberia",
            "Libya",
            "Lithuania",
            "Luxembourg",
            "Madagascar",
            "Malawi",
            "Malaysia",
            "Maldives",
            "Mali",
            "Malta",
            "Marshall Islands",
            "Mauritania",
            "Mauritius",
            "Mexico",
            "Moldova",
            "Monaco",
            "Mongolia",
            "Montenegro",
            "Morocco",
            "Mozambique",
            "Myanmar",
            "Namibia",
            "Nauru",
            "Nepal",
            "Netherlands",
            "New Zealand",
            "Nicaragua",
            "Niger",
            "Nigeria",
            "North Macedonia",
            "Northern Mariana Islands",
            "Norway",
            "Oman",
            "Pakistan",
            "Palau",
            "Panama",
            "Papua New Guinea",
            "Paraguay",
            "Peru",
            "Philippines",
            "Poland",
            "Portugal",
            "Puerto Rico",
            "Qatar",
            "Romania",
            "Rwanda",
            "Samoa",
            "San Marino",
            "Sao Tome and Principe",
            "Saudi Arabia",
            "Senegal",
            "Serbia",
            "Seychelles",
            "Sierra Leone",
            "Singapore",
            "Slovenia",
            "Solomon Islands",
            "Somalia",
            "South Africa",
            "South Sudan",
            "Spain",
            "Sri Lanka",
            "Sudan",
            "Suriname",
            "Sweden",
            "Switzerland",
            "Tajikistan",
            "Tanzania",
            "Thailand",
            "Togo",
            "Tonga",
            "Trinidad and Tobago",
            "Tunisia",
            "Turkmenistan",
            "Tuvalu",
            "Uganda",
            "Ukraine",
            "United Arab Emirates",
            "United Kingdom",
            "United States",
            "Uruguay",
            "Uzbekistan",
            "Vanuatu",
            "Vietnam",
            "Zambia",
            "Zimbabwe"
           ],
           "name": "",
           "type": "choropleth",
           "z": [
            58.29,
            75.228,
            73.072,
            null,
            null,
            50.165,
            75.019,
            74.451,
            72.626,
            80.84146341463415,
            79.33170731707318,
            68.747,
            75.326,
            67.773,
            77.915,
            68.85121951219512,
            78.98048780487807,
            69.998,
            57.355,
            78.68536585365855,
            65.289,
            65.312,
            75.198,
            52.13,
            71.896,
            72.5609756097561,
            53.31,
            53.369,
            63.088,
            52.76,
            80.19268292682928,
            44.744,
            48.549,
            77.63,
            72.985,
            74.265,
            60.126,
            78.117,
            50.12,
            75.24463414634147,
            77.688,
            78.63,
            77.84390243902439,
            57.991,
            null,
            70.771,
            74.112,
            70.124,
            54.449,
            58.707,
            72.56829268292682,
            42.518,
            56.223,
            66.313,
            78.8170731707317,
            80.16341463414635,
            58.181,
            70.538,
            78.93170731707318,
            58.719,
            79.23902439024391,
            68.42731707317074,
            73.123,
            76.687,
            69.762,
            53.238,
            52.275,
            66.694,
            58.652,
            72.026,
            72.64878048780488,
            81.50243902439024,
            64.5,
            67.334,
            68.266,
            78.9439024390244,
            80.15121951219513,
            80.78292682926829,
            74.148,
            81.92512195121952,
            72.595,
            65.86,
            54.732,
            64.478,
            73.538,
            71.35609756097561,
            76.865,
            42.658,
            55.393,
            71.902,
            71.25365853658538,
            79.43170731707318,
            61.212,
            47.844,
            73.555,
            73.612,
            52.057,
            79.3,
            null,
            61.349,
            72.43219512195122,
            75.3,
            67.82,
            null,
            65.103,
            73.9829268292683,
            71.746,
            50.387,
            61.607,
            50.931,
            null,
            65.264,
            79.34634146341465,
            79.85121951219514,
            71.195,
            53.411,
            48.252,
            73.69756097560976,
            null,
            80.04146341463415,
            74.23,
            63.951,
            69.12926829268292,
            75.892,
            60.534,
            71.667,
            72.908,
            69.112,
            74.99512195121952,
            78.0707317073171,
            78.29609756097562,
            78.252,
            71.91219512195123,
            55.254,
            70.374,
            null,
            64.659,
            73.256,
            60.62,
            72.83414634146342,
            72.13170731707318,
            44.502,
            79.99024390243903,
            77.61219512195122,
            69.158,
            52.346,
            53.447,
            51.686,
            80.17073170731709,
            74.695,
            60.525,
            68.877,
            80.54634146341465,
            81.23658536585367,
            66.08,
            54.349,
            72.099,
            54.602,
            69.836,
            70.691,
            74.217,
            65.017,
            null,
            51.676,
            67.95682926829268,
            75.376,
            79.04878048780489,
            77.48780487804878,
            75.826,
            68.407,
            68.35,
            74.092,
            48.496,
            43.241
           ]
          }
         ],
         "name": "2005"
        },
        {
         "data": [
          {
           "coloraxis": "coloraxis",
           "geo": "geo",
           "hovertemplate": "Year=2006<br>Country=%{location}<br>Expectativa de Vida=%{z}<extra></extra>",
           "locationmode": "country names",
           "locations": [
            "Afghanistan",
            "Albania",
            "Algeria",
            "American Samoa",
            "Andorra",
            "Angola",
            "Antigua and Barbuda",
            "Argentina",
            "Armenia",
            "Australia",
            "Austria",
            "Azerbaijan",
            "Bahrain",
            "Bangladesh",
            "Barbados",
            "Belarus",
            "Belgium",
            "Belize",
            "Benin",
            "Bermuda",
            "Bhutan",
            "Bolivia",
            "Bosnia and Herzegovina",
            "Botswana",
            "Brazil",
            "Bulgaria",
            "Burkina Faso",
            "Burundi",
            "Cambodia",
            "Cameroon",
            "Canada",
            "Central African Republic",
            "Chad",
            "Chile",
            "China",
            "Colombia",
            "Comoros",
            "Costa Rica",
            "Cote d'Ivoire",
            "Croatia",
            "Cuba",
            "Cyprus",
            "Denmark",
            "Djibouti",
            "Dominica",
            "Dominican Republic",
            "Ecuador",
            "El Salvador",
            "Equatorial Guinea",
            "Eritrea",
            "Estonia",
            "Eswatini",
            "Ethiopia",
            "Fiji",
            "Finland",
            "France",
            "Gabon",
            "Georgia",
            "Germany",
            "Ghana",
            "Greece",
            "Greenland",
            "Grenada",
            "Guam",
            "Guatemala",
            "Guinea",
            "Guinea-Bissau",
            "Guyana",
            "Haiti",
            "Honduras",
            "Hungary",
            "Iceland",
            "India",
            "Indonesia",
            "Iraq",
            "Ireland",
            "Israel",
            "Italy",
            "Jamaica",
            "Japan",
            "Jordan",
            "Kazakhstan",
            "Kenya",
            "Kiribati",
            "Kuwait",
            "Latvia",
            "Lebanon",
            "Lesotho",
            "Liberia",
            "Libya",
            "Lithuania",
            "Luxembourg",
            "Madagascar",
            "Malawi",
            "Malaysia",
            "Maldives",
            "Mali",
            "Malta",
            "Marshall Islands",
            "Mauritania",
            "Mauritius",
            "Mexico",
            "Moldova",
            "Monaco",
            "Mongolia",
            "Montenegro",
            "Morocco",
            "Mozambique",
            "Myanmar",
            "Namibia",
            "Nauru",
            "Nepal",
            "Netherlands",
            "New Zealand",
            "Nicaragua",
            "Niger",
            "Nigeria",
            "North Macedonia",
            "Northern Mariana Islands",
            "Norway",
            "Oman",
            "Pakistan",
            "Palau",
            "Panama",
            "Papua New Guinea",
            "Paraguay",
            "Peru",
            "Philippines",
            "Poland",
            "Portugal",
            "Puerto Rico",
            "Qatar",
            "Romania",
            "Rwanda",
            "Samoa",
            "San Marino",
            "Sao Tome and Principe",
            "Saudi Arabia",
            "Senegal",
            "Serbia",
            "Seychelles",
            "Sierra Leone",
            "Singapore",
            "Slovenia",
            "Solomon Islands",
            "Somalia",
            "South Africa",
            "South Sudan",
            "Spain",
            "Sri Lanka",
            "Sudan",
            "Suriname",
            "Sweden",
            "Switzerland",
            "Tajikistan",
            "Tanzania",
            "Thailand",
            "Togo",
            "Tonga",
            "Trinidad and Tobago",
            "Tunisia",
            "Turkmenistan",
            "Tuvalu",
            "Uganda",
            "Ukraine",
            "United Arab Emirates",
            "United Kingdom",
            "United States",
            "Uruguay",
            "Uzbekistan",
            "Vanuatu",
            "Vietnam",
            "Zambia",
            "Zimbabwe"
           ],
           "name": "",
           "type": "choropleth",
           "z": [
            58.826,
            75.423,
            73.521,
            null,
            null,
            51.143,
            75.204,
            74.62,
            72.716,
            81.04146341463415,
            79.88048780487806,
            69.259,
            75.478,
            68.213,
            78.009,
            69.40487804878049,
            79.38048780487804,
            70.286,
            57.817,
            78.8878048780488,
            66.031,
            65.853,
            75.342,
            53.435,
            72.26,
            72.61219512195122,
            54.063,
            54.163,
            63.927,
            53.215,
            80.34390243902439,
            45.158,
            48.907,
            77.865,
            73.271,
            74.5,
            60.407,
            78.239,
            50.561,
            75.8368292682927,
            77.864,
            78.764,
            78.09512195121954,
            58.34,
            null,
            71.041,
            74.319,
            70.333,
            54.638,
            59.487,
            72.69146341463414,
            42.733,
            57.334,
            66.362,
            79.21463414634147,
            80.81219512195123,
            58.641,
            70.635,
            79.1317073170732,
            59.234,
            79.43902439024392,
            68.66658536585366,
            73.125,
            76.966,
            70.082,
            54.052,
            52.691,
            66.972,
            59.028,
            72.285,
            73.09756097560977,
            81.15853658536587,
            64.918,
            67.717,
            68.157,
            79.24146341463415,
            80.55365853658537,
            81.28292682926829,
            74.143,
            82.3219512195122,
            72.763,
            66.15,
            56.093,
            64.712,
            73.66,
            70.8658536585366,
            77.26,
            42.595,
            56.4,
            72.063,
            71.05609756097562,
            79.2878048780488,
            61.65,
            49.118,
            73.744,
            74.138,
            52.839,
            79.43902439024392,
            null,
            61.552,
            72.43219512195122,
            75.296,
            68.022,
            null,
            65.538,
            73.8390243902439,
            72.403,
            50.641,
            61.938,
            51.609,
            null,
            65.773,
            79.69756097560976,
            80.04878048780489,
            71.436,
            54.18,
            48.812,
            73.89512195121952,
            null,
            80.34390243902439,
            74.577,
            64.176,
            null,
            76.06,
            60.836,
            71.862,
            73.222,
            69.233,
            75.1439024390244,
            78.41951219512195,
            78.41634146341464,
            78.425,
            72.16341463414635,
            57.083,
            70.642,
            null,
            65.27,
            73.355,
            61.365,
            73.38536585365854,
            72.21707317073172,
            45.517,
            80.14146341463415,
            78.08658536585367,
            69.462,
            52.669,
            53.795,
            52.315,
            80.8219512195122,
            74.904,
            60.969,
            69.227,
            80.7487804878049,
            81.49024390243903,
            66.771,
            55.119,
            72.499,
            55.052,
            69.852,
            70.952,
            74.391,
            65.354,
            null,
            52.784,
            68.07756097560977,
            75.573,
            79.2487804878049,
            77.68780487804878,
            76.046,
            68.676,
            68.515,
            74.295,
            49.757,
            43.853
           ]
          }
         ],
         "name": "2006"
        },
        {
         "data": [
          {
           "coloraxis": "coloraxis",
           "geo": "geo",
           "hovertemplate": "Year=2007<br>Country=%{location}<br>Expectativa de Vida=%{z}<extra></extra>",
           "locationmode": "country names",
           "locations": [
            "Afghanistan",
            "Albania",
            "Algeria",
            "American Samoa",
            "Andorra",
            "Angola",
            "Antigua and Barbuda",
            "Argentina",
            "Armenia",
            "Australia",
            "Austria",
            "Azerbaijan",
            "Bahrain",
            "Bangladesh",
            "Barbados",
            "Belarus",
            "Belgium",
            "Belize",
            "Benin",
            "Bermuda",
            "Bhutan",
            "Bolivia",
            "Bosnia and Herzegovina",
            "Botswana",
            "Brazil",
            "Bulgaria",
            "Burkina Faso",
            "Burundi",
            "Cambodia",
            "Cameroon",
            "Canada",
            "Central African Republic",
            "Chad",
            "Chile",
            "China",
            "Colombia",
            "Comoros",
            "Costa Rica",
            "Cote d'Ivoire",
            "Croatia",
            "Cuba",
            "Cyprus",
            "Denmark",
            "Djibouti",
            "Dominica",
            "Dominican Republic",
            "Ecuador",
            "El Salvador",
            "Equatorial Guinea",
            "Eritrea",
            "Estonia",
            "Eswatini",
            "Ethiopia",
            "Fiji",
            "Finland",
            "France",
            "Gabon",
            "Georgia",
            "Germany",
            "Ghana",
            "Greece",
            "Greenland",
            "Grenada",
            "Guam",
            "Guatemala",
            "Guinea",
            "Guinea-Bissau",
            "Guyana",
            "Haiti",
            "Honduras",
            "Hungary",
            "Iceland",
            "India",
            "Indonesia",
            "Iraq",
            "Ireland",
            "Israel",
            "Italy",
            "Jamaica",
            "Japan",
            "Jordan",
            "Kazakhstan",
            "Kenya",
            "Kiribati",
            "Kuwait",
            "Latvia",
            "Lebanon",
            "Lesotho",
            "Liberia",
            "Libya",
            "Lithuania",
            "Luxembourg",
            "Madagascar",
            "Malawi",
            "Malaysia",
            "Maldives",
            "Mali",
            "Malta",
            "Marshall Islands",
            "Mauritania",
            "Mauritius",
            "Mexico",
            "Moldova",
            "Monaco",
            "Mongolia",
            "Montenegro",
            "Morocco",
            "Mozambique",
            "Myanmar",
            "Namibia",
            "Nauru",
            "Nepal",
            "Netherlands",
            "New Zealand",
            "Nicaragua",
            "Niger",
            "Nigeria",
            "North Macedonia",
            "Northern Mariana Islands",
            "Norway",
            "Oman",
            "Pakistan",
            "Palau",
            "Panama",
            "Papua New Guinea",
            "Paraguay",
            "Peru",
            "Philippines",
            "Poland",
            "Portugal",
            "Puerto Rico",
            "Qatar",
            "Romania",
            "Rwanda",
            "Samoa",
            "San Marino",
            "Sao Tome and Principe",
            "Saudi Arabia",
            "Senegal",
            "Serbia",
            "Seychelles",
            "Sierra Leone",
            "Singapore",
            "Slovenia",
            "Solomon Islands",
            "Somalia",
            "South Africa",
            "South Sudan",
            "Spain",
            "Sri Lanka",
            "Sudan",
            "Suriname",
            "Sweden",
            "Switzerland",
            "Tajikistan",
            "Tanzania",
            "Thailand",
            "Togo",
            "Tonga",
            "Trinidad and Tobago",
            "Tunisia",
            "Turkmenistan",
            "Tuvalu",
            "Uganda",
            "Ukraine",
            "United Arab Emirates",
            "United Kingdom",
            "United States",
            "Uruguay",
            "Uzbekistan",
            "Vanuatu",
            "Vietnam",
            "Zambia",
            "Zimbabwe"
           ],
           "name": "",
           "type": "choropleth",
           "z": [
            59.375,
            75.646,
            73.936,
            null,
            null,
            52.177,
            75.376,
            74.787,
            72.815,
            81.29268292682927,
            80.18048780487806,
            69.752,
            75.625,
            68.648,
            78.097,
            70.20731707317074,
            79.7829268292683,
            70.636,
            58.255,
            78.93414634146342,
            66.709,
            66.395,
            75.498,
            54.983,
            72.618,
            72.66341463414635,
            54.841,
            54.944,
            64.697,
            53.681,
            80.54390243902441,
            45.636,
            49.335,
            78.099,
            73.553,
            74.732,
            60.734,
            78.362,
            51.091,
            75.70560975609757,
            78.019,
            78.91,
            78.19512195121952,
            58.719,
            null,
            71.304,
            74.514,
            70.542,
            54.842,
            60.243,
            72.81463414634148,
            43.308,
            58.467,
            66.413,
            79.26341463414636,
            81.11219512195123,
            59.229,
            70.765,
            79.53414634146343,
            59.741,
            79.43902439024392,
            69.37268292682927,
            73.096,
            77.227,
            70.409,
            54.864,
            53.136,
            67.247,
            59.408,
            72.544,
            73.15121951219513,
            81.45365853658538,
            65.35,
            68.105,
            68.13,
            79.64146341463415,
            80.50487804878051,
            81.43414634146342,
            74.129,
            82.50707317073172,
            72.931,
            66.34,
            57.463,
            64.953,
            73.807,
            71.01951219512196,
            77.609,
            42.854,
            57.365,
            72.155,
            70.9,
            79.3829268292683,
            62.079,
            50.595,
            73.931,
            74.621,
            53.553,
            79.79268292682927,
            null,
            61.776,
            72.57073170731708,
            75.255,
            68.302,
            null,
            65.985,
            74.33902439024392,
            73.009,
            50.934,
            62.294,
            52.593,
            null,
            66.26,
            80.09756097560975,
            80.15121951219513,
            71.673,
            54.968,
            49.373,
            73.8,
            null,
            80.39512195121952,
            74.893,
            64.42,
            null,
            76.234,
            61.141,
            72.055,
            73.528,
            69.37,
            75.2439024390244,
            78.3219512195122,
            78.4258536585366,
            78.601,
            72.56585365853658,
            58.915,
            70.901,
            null,
            65.854,
            73.467,
            62.126,
            73.63170731707318,
            73.14390243902439,
            46.52,
            80.44146341463416,
            78.56097560975611,
            69.762,
            52.998,
            54.452,
            52.96,
            80.87317073170732,
            75.037,
            61.422,
            69.579,
            80.9,
            81.74146341463415,
            67.382,
            55.926,
            72.916,
            55.581,
            69.878,
            71.21,
            74.558,
            65.695,
            null,
            53.887,
            68.22219512195123,
            75.767,
            79.44878048780488,
            77.98780487804879,
            76.251,
            68.939,
            68.672,
            74.474,
            51.134,
            44.947
           ]
          }
         ],
         "name": "2007"
        },
        {
         "data": [
          {
           "coloraxis": "coloraxis",
           "geo": "geo",
           "hovertemplate": "Year=2008<br>Country=%{location}<br>Expectativa de Vida=%{z}<extra></extra>",
           "locationmode": "country names",
           "locations": [
            "Afghanistan",
            "Albania",
            "Algeria",
            "American Samoa",
            "Andorra",
            "Angola",
            "Antigua and Barbuda",
            "Argentina",
            "Armenia",
            "Australia",
            "Austria",
            "Azerbaijan",
            "Bahrain",
            "Bangladesh",
            "Barbados",
            "Belarus",
            "Belgium",
            "Belize",
            "Benin",
            "Bermuda",
            "Bhutan",
            "Bolivia",
            "Bosnia and Herzegovina",
            "Botswana",
            "Brazil",
            "Bulgaria",
            "Burkina Faso",
            "Burundi",
            "Cambodia",
            "Cameroon",
            "Canada",
            "Central African Republic",
            "Chad",
            "Chile",
            "China",
            "Colombia",
            "Comoros",
            "Costa Rica",
            "Cote d'Ivoire",
            "Croatia",
            "Cuba",
            "Cyprus",
            "Denmark",
            "Djibouti",
            "Dominica",
            "Dominican Republic",
            "Ecuador",
            "El Salvador",
            "Equatorial Guinea",
            "Eritrea",
            "Estonia",
            "Eswatini",
            "Ethiopia",
            "Fiji",
            "Finland",
            "France",
            "Gabon",
            "Georgia",
            "Germany",
            "Ghana",
            "Greece",
            "Greenland",
            "Grenada",
            "Guam",
            "Guatemala",
            "Guinea",
            "Guinea-Bissau",
            "Guyana",
            "Haiti",
            "Honduras",
            "Hungary",
            "Iceland",
            "India",
            "Indonesia",
            "Iraq",
            "Ireland",
            "Israel",
            "Italy",
            "Jamaica",
            "Japan",
            "Jordan",
            "Kazakhstan",
            "Kenya",
            "Kiribati",
            "Kuwait",
            "Latvia",
            "Lebanon",
            "Lesotho",
            "Liberia",
            "Libya",
            "Lithuania",
            "Luxembourg",
            "Madagascar",
            "Malawi",
            "Malaysia",
            "Maldives",
            "Mali",
            "Malta",
            "Marshall Islands",
            "Mauritania",
            "Mauritius",
            "Mexico",
            "Moldova",
            "Monaco",
            "Mongolia",
            "Montenegro",
            "Morocco",
            "Mozambique",
            "Myanmar",
            "Namibia",
            "Nauru",
            "Nepal",
            "Netherlands",
            "New Zealand",
            "Nicaragua",
            "Niger",
            "Nigeria",
            "North Macedonia",
            "Northern Mariana Islands",
            "Norway",
            "Oman",
            "Pakistan",
            "Palau",
            "Panama",
            "Papua New Guinea",
            "Paraguay",
            "Peru",
            "Philippines",
            "Poland",
            "Portugal",
            "Puerto Rico",
            "Qatar",
            "Romania",
            "Rwanda",
            "Samoa",
            "San Marino",
            "Sao Tome and Principe",
            "Saudi Arabia",
            "Senegal",
            "Serbia",
            "Seychelles",
            "Sierra Leone",
            "Singapore",
            "Slovenia",
            "Solomon Islands",
            "Somalia",
            "South Africa",
            "South Sudan",
            "Spain",
            "Sri Lanka",
            "Sudan",
            "Suriname",
            "Sweden",
            "Switzerland",
            "Tajikistan",
            "Tanzania",
            "Thailand",
            "Togo",
            "Tonga",
            "Trinidad and Tobago",
            "Tunisia",
            "Turkmenistan",
            "Tuvalu",
            "Uganda",
            "Ukraine",
            "United Arab Emirates",
            "United Kingdom",
            "United States",
            "Uruguay",
            "Uzbekistan",
            "Vanuatu",
            "Vietnam",
            "Zambia",
            "Zimbabwe"
           ],
           "name": "",
           "type": "choropleth",
           "z": [
            59.93,
            75.912,
            74.311,
            null,
            null,
            53.243,
            75.535,
            74.952,
            72.946,
            81.39512195121952,
            80.43170731707318,
            70.201,
            75.77,
            69.072,
            78.184,
            70.45609756097562,
            79.68048780487806,
            71.059,
            58.654,
            79.23658536585367,
            67.325,
            66.937,
            75.665,
            56.679,
            72.966,
            72.96341463414635,
            55.618,
            55.721,
            65.394,
            54.153,
            80.69512195121952,
            46.161,
            49.82,
            78.33,
            73.835,
            74.962,
            61.094,
            78.491,
            51.682,
            75.91219512195123,
            78.15,
            79.071,
            78.44634146341464,
            59.124,
            null,
            71.559,
            74.705,
            70.756,
            55.07,
            60.952,
            73.77073170731708,
            44.17,
            59.581,
            66.477,
            79.56829268292684,
            81.21463414634148,
            59.904,
            70.946,
            79.73658536585367,
            60.216,
            79.93902439024392,
            70.01512195121953,
            73.038,
            77.474,
            70.75,
            55.614,
            53.612,
            67.521,
            59.782,
            72.803,
            73.70243902439026,
            81.60975609756099,
            65.794,
            68.485,
            68.19,
            80.09512195121953,
            80.95121951219512,
            81.48536585365855,
            74.103,
            82.58756097560978,
            73.099,
            67.11,
            58.76,
            65.208,
            73.976,
            72.41951219512197,
            77.911,
            43.384,
            58.229,
            72.174,
            71.81219512195122,
            80.53902439024391,
            62.509,
            52.206,
            74.118,
            75.073,
            54.193,
            79.63658536585366,
            null,
            62.015,
            72.57073170731708,
            75.194,
            68.671,
            null,
            66.447,
            75.13658536585366,
            73.546,
            51.292,
            62.678,
            53.817,
            null,
            66.727,
            80.25121951219512,
            80.35121951219514,
            71.915,
            55.764,
            49.913,
            74.4,
            null,
            80.59268292682928,
            75.179,
            64.685,
            null,
            76.414,
            61.442,
            72.251,
            73.826,
            69.515,
            75.54390243902441,
            78.52439024390246,
            77.96292682926831,
            78.775,
            72.56585365853658,
            60.612,
            71.158,
            null,
            66.412,
            73.598,
            62.88,
            73.88536585365853,
            73.16341463414635,
            47.508,
            80.79024390243903,
            78.7658536585366,
            70.063,
            53.326,
            55.36,
            53.6,
            81.17560975609757,
            75.157,
            61.879,
            69.91,
            81.1,
            81.99268292682927,
            67.911,
            56.777,
            73.341,
            56.178,
            69.921,
            71.464,
            74.72,
            66.031,
            null,
            54.984,
            68.25146341463416,
            75.957,
            79.6,
            78.03902439024391,
            76.437,
            69.193,
            68.824,
            74.625,
            52.606,
            46.504
           ]
          }
         ],
         "name": "2008"
        },
        {
         "data": [
          {
           "coloraxis": "coloraxis",
           "geo": "geo",
           "hovertemplate": "Year=2009<br>Country=%{location}<br>Expectativa de Vida=%{z}<extra></extra>",
           "locationmode": "country names",
           "locations": [
            "Afghanistan",
            "Albania",
            "Algeria",
            "American Samoa",
            "Andorra",
            "Angola",
            "Antigua and Barbuda",
            "Argentina",
            "Armenia",
            "Australia",
            "Austria",
            "Azerbaijan",
            "Bahrain",
            "Bangladesh",
            "Barbados",
            "Belarus",
            "Belgium",
            "Belize",
            "Benin",
            "Bermuda",
            "Bhutan",
            "Bolivia",
            "Bosnia and Herzegovina",
            "Botswana",
            "Brazil",
            "Bulgaria",
            "Burkina Faso",
            "Burundi",
            "Cambodia",
            "Cameroon",
            "Canada",
            "Central African Republic",
            "Chad",
            "Chile",
            "China",
            "Colombia",
            "Comoros",
            "Costa Rica",
            "Cote d'Ivoire",
            "Croatia",
            "Cuba",
            "Cyprus",
            "Denmark",
            "Djibouti",
            "Dominica",
            "Dominican Republic",
            "Ecuador",
            "El Salvador",
            "Equatorial Guinea",
            "Eritrea",
            "Estonia",
            "Eswatini",
            "Ethiopia",
            "Fiji",
            "Finland",
            "France",
            "Gabon",
            "Georgia",
            "Germany",
            "Ghana",
            "Greece",
            "Greenland",
            "Grenada",
            "Guam",
            "Guatemala",
            "Guinea",
            "Guinea-Bissau",
            "Guyana",
            "Haiti",
            "Honduras",
            "Hungary",
            "Iceland",
            "India",
            "Indonesia",
            "Iraq",
            "Ireland",
            "Israel",
            "Italy",
            "Jamaica",
            "Japan",
            "Jordan",
            "Kazakhstan",
            "Kenya",
            "Kiribati",
            "Kuwait",
            "Latvia",
            "Lebanon",
            "Lesotho",
            "Liberia",
            "Libya",
            "Lithuania",
            "Luxembourg",
            "Madagascar",
            "Malawi",
            "Malaysia",
            "Maldives",
            "Mali",
            "Malta",
            "Marshall Islands",
            "Mauritania",
            "Mauritius",
            "Mexico",
            "Moldova",
            "Monaco",
            "Mongolia",
            "Montenegro",
            "Morocco",
            "Mozambique",
            "Myanmar",
            "Namibia",
            "Nauru",
            "Nepal",
            "Netherlands",
            "New Zealand",
            "Nicaragua",
            "Niger",
            "Nigeria",
            "North Macedonia",
            "Northern Mariana Islands",
            "Norway",
            "Oman",
            "Pakistan",
            "Palau",
            "Panama",
            "Papua New Guinea",
            "Paraguay",
            "Peru",
            "Philippines",
            "Poland",
            "Portugal",
            "Puerto Rico",
            "Qatar",
            "Romania",
            "Rwanda",
            "Samoa",
            "San Marino",
            "Sao Tome and Principe",
            "Saudi Arabia",
            "Senegal",
            "Serbia",
            "Seychelles",
            "Sierra Leone",
            "Singapore",
            "Slovenia",
            "Solomon Islands",
            "Somalia",
            "South Africa",
            "South Sudan",
            "Spain",
            "Sri Lanka",
            "Sudan",
            "Suriname",
            "Sweden",
            "Switzerland",
            "Tajikistan",
            "Tanzania",
            "Thailand",
            "Togo",
            "Tonga",
            "Trinidad and Tobago",
            "Tunisia",
            "Turkmenistan",
            "Tuvalu",
            "Uganda",
            "Ukraine",
            "United Arab Emirates",
            "United Kingdom",
            "United States",
            "Uruguay",
            "Uzbekistan",
            "Vanuatu",
            "Vietnam",
            "Zambia",
            "Zimbabwe"
           ],
           "name": "",
           "type": "choropleth",
           "z": [
            60.484,
            76.221,
            74.644,
            null,
            null,
            54.311,
            75.683,
            75.116,
            73.118,
            81.54390243902441,
            80.33170731707318,
            70.597,
            75.913,
            69.485,
            78.272,
            70.40731707317074,
            80.03414634146341,
            71.541,
            59.009,
            79.38843902439025,
            67.882,
            67.476,
            75.844,
            58.447,
            73.3,
            73.41219512195123,
            56.377,
            56.488,
            66.014,
            54.627,
            80.99512195121952,
            46.719,
            50.346,
            78.558,
            74.119,
            75.193,
            61.475,
            78.626,
            52.313,
            76.16829268292685,
            78.256,
            79.245,
            78.59756097560977,
            59.561,
            null,
            71.806,
            74.895,
            70.978,
            55.329,
            61.602,
            74.82439024390244,
            45.275,
            60.645,
            66.559,
            79.71951219512196,
            81.41463414634147,
            60.637,
            71.18,
            79.83658536585368,
            60.645,
            80.18780487804878,
            70.53195121951221,
            72.96,
            77.71,
            71.108,
            56.279,
            54.113,
            67.792,
            60.148,
            73.061,
            73.90487804878049,
            81.75121951219514,
            66.244,
            68.853,
            68.34,
            80.19024390243902,
            81.40487804878049,
            81.63658536585366,
            74.071,
            82.93146341463415,
            73.266,
            68.39,
            59.932,
            65.48,
            74.162,
            73.08048780487806,
            78.161,
            44.146,
            58.971,
            72.129,
            72.91463414634147,
            80.63658536585366,
            62.944,
            53.888,
            74.305,
            75.499,
            54.756,
            80.24146341463415,
            null,
            62.266,
            72.88243902439025,
            75.128,
            69.119,
            null,
            66.916,
            75.1439024390244,
            74.003,
            51.738,
            63.089,
            55.207,
            null,
            67.178,
            80.54878048780489,
            80.70243902439024,
            72.167,
            56.557,
            50.422,
            74.44634146341464,
            null,
            80.79512195121951,
            75.44,
            64.969,
            null,
            76.6,
            61.739,
            72.45,
            74.12,
            69.667,
            75.69512195121952,
            78.72682926829269,
            78.191,
            78.945,
            73.30975609756098,
            62.129,
            71.412,
            null,
            66.938,
            73.75,
            63.607,
            73.98536585365855,
            73.0829268292683,
            48.468,
            81.24146341463415,
            78.97073170731707,
            70.366,
            53.654,
            56.46,
            54.219,
            81.47560975609755,
            75.286,
            62.33,
            70.209,
            81.35121951219513,
            82.0439024390244,
            68.36,
            57.666,
            73.766,
            56.818,
            69.982,
            71.71,
            74.88,
            66.355,
            null,
            56.06,
            69.19,
            76.145,
            80.05121951219512,
            78.39024390243902,
            76.603,
            69.435,
            68.974,
            74.745,
            54.13,
            48.449
           ]
          }
         ],
         "name": "2009"
        },
        {
         "data": [
          {
           "coloraxis": "coloraxis",
           "geo": "geo",
           "hovertemplate": "Year=2010<br>Country=%{location}<br>Expectativa de Vida=%{z}<extra></extra>",
           "locationmode": "country names",
           "locations": [
            "Afghanistan",
            "Albania",
            "Algeria",
            "American Samoa",
            "Andorra",
            "Angola",
            "Antigua and Barbuda",
            "Argentina",
            "Armenia",
            "Australia",
            "Austria",
            "Azerbaijan",
            "Bahrain",
            "Bangladesh",
            "Barbados",
            "Belarus",
            "Belgium",
            "Belize",
            "Benin",
            "Bermuda",
            "Bhutan",
            "Bolivia",
            "Bosnia and Herzegovina",
            "Botswana",
            "Brazil",
            "Bulgaria",
            "Burkina Faso",
            "Burundi",
            "Cambodia",
            "Cameroon",
            "Canada",
            "Central African Republic",
            "Chad",
            "Chile",
            "China",
            "Colombia",
            "Comoros",
            "Costa Rica",
            "Cote d'Ivoire",
            "Croatia",
            "Cuba",
            "Cyprus",
            "Denmark",
            "Djibouti",
            "Dominica",
            "Dominican Republic",
            "Ecuador",
            "El Salvador",
            "Equatorial Guinea",
            "Eritrea",
            "Estonia",
            "Eswatini",
            "Ethiopia",
            "Fiji",
            "Finland",
            "France",
            "Gabon",
            "Georgia",
            "Germany",
            "Ghana",
            "Greece",
            "Greenland",
            "Grenada",
            "Guam",
            "Guatemala",
            "Guinea",
            "Guinea-Bissau",
            "Guyana",
            "Haiti",
            "Honduras",
            "Hungary",
            "Iceland",
            "India",
            "Indonesia",
            "Iraq",
            "Ireland",
            "Israel",
            "Italy",
            "Jamaica",
            "Japan",
            "Jordan",
            "Kazakhstan",
            "Kenya",
            "Kiribati",
            "Kuwait",
            "Latvia",
            "Lebanon",
            "Lesotho",
            "Liberia",
            "Libya",
            "Lithuania",
            "Luxembourg",
            "Madagascar",
            "Malawi",
            "Malaysia",
            "Maldives",
            "Mali",
            "Malta",
            "Marshall Islands",
            "Mauritania",
            "Mauritius",
            "Mexico",
            "Moldova",
            "Monaco",
            "Mongolia",
            "Montenegro",
            "Morocco",
            "Mozambique",
            "Myanmar",
            "Namibia",
            "Nauru",
            "Nepal",
            "Netherlands",
            "New Zealand",
            "Nicaragua",
            "Niger",
            "Nigeria",
            "North Macedonia",
            "Northern Mariana Islands",
            "Norway",
            "Oman",
            "Pakistan",
            "Palau",
            "Panama",
            "Papua New Guinea",
            "Paraguay",
            "Peru",
            "Philippines",
            "Poland",
            "Portugal",
            "Puerto Rico",
            "Qatar",
            "Romania",
            "Rwanda",
            "Samoa",
            "San Marino",
            "Sao Tome and Principe",
            "Saudi Arabia",
            "Senegal",
            "Serbia",
            "Seychelles",
            "Sierra Leone",
            "Singapore",
            "Slovenia",
            "Solomon Islands",
            "Somalia",
            "South Africa",
            "South Sudan",
            "Spain",
            "Sri Lanka",
            "Sudan",
            "Suriname",
            "Sweden",
            "Switzerland",
            "Tajikistan",
            "Tanzania",
            "Thailand",
            "Togo",
            "Tonga",
            "Trinidad and Tobago",
            "Tunisia",
            "Turkmenistan",
            "Tuvalu",
            "Uganda",
            "Ukraine",
            "United Arab Emirates",
            "United Kingdom",
            "United States",
            "Uruguay",
            "Uzbekistan",
            "Vanuatu",
            "Vietnam",
            "Zambia",
            "Zimbabwe"
           ],
           "name": "",
           "type": "choropleth",
           "z": [
            61.028,
            76.562,
            74.938,
            null,
            null,
            55.35,
            75.823,
            75.278,
            73.331,
            81.69512195121953,
            80.58048780487806,
            70.938,
            76.057,
            69.881,
            78.364,
            70.40487804878049,
            80.1829268292683,
            72.057,
            59.318,
            79.28853658536585,
            68.384,
            68.007,
            76.031,
            60.211,
            73.619,
            73.51219512195122,
            57.096,
            57.228,
            66.56,
            55.101,
            81.24634146341464,
            47.312,
            50.89,
            78.779,
            74.409,
            75.424,
            61.862,
            78.769,
            52.964,
            76.47560975609755,
            78.338,
            79.43,
            79.1,
            60.062,
            null,
            72.046,
            75.089,
            71.21,
            55.622,
            62.193,
            75.42926829268293,
            46.601,
            61.627,
            66.655,
            79.87073170731709,
            81.66341463414635,
            61.4,
            71.46,
            79.98780487804879,
            61.03,
            80.3878048780488,
            70.2919512195122,
            72.867,
            77.941,
            71.481,
            56.861,
            54.628,
            68.059,
            60.511,
            73.317,
            74.20731707317074,
            81.89756097560975,
            66.693,
            69.205,
            68.567,
            80.74390243902438,
            81.60243902439025,
            82.03658536585367,
            74.038,
            82.84268292682927,
            73.428,
            68.45,
            60.959,
            65.769,
            74.358,
            73.4829268292683,
            78.36,
            45.1,
            59.6,
            72.044,
            73.26829268292683,
            80.63170731707318,
            63.388,
            55.564,
            74.493,
            75.905,
            55.251,
            81.39756097560976,
            null,
            62.527,
            72.96731707317073,
            75.065,
            69.616,
            null,
            67.38,
            75.99024390243903,
            74.382,
            52.31,
            63.525,
            56.665,
            null,
            67.611,
            80.70243902439024,
            80.70243902439024,
            72.428,
            57.333,
            50.896,
            74.99756097560976,
            null,
            80.99756097560977,
            75.682,
            65.264,
            null,
            76.792,
            62.029,
            72.653,
            74.41,
            69.823,
            76.24634146341464,
            79.02682926829269,
            78.41909756097562,
            79.108,
            73.45853658536586,
            63.433,
            71.663,
            null,
            67.43,
            73.917,
            64.284,
            74.33658536585367,
            73.19756097560976,
            49.382,
            81.54146341463417,
            79.4219512195122,
            70.674,
            53.99,
            57.669,
            54.8,
            81.6268292682927,
            75.439,
            62.764,
            70.465,
            81.45121951219514,
            82.24634146341465,
            68.736,
            58.584,
            74.184,
            57.468,
            70.059,
            71.946,
            75.041,
            66.657,
            null,
            57.099,
            70.26536585365855,
            76.332,
            80.40243902439025,
            78.54146341463415,
            76.75,
            69.672,
            69.123,
            74.837,
            55.655,
            50.64
           ]
          }
         ],
         "name": "2010"
        },
        {
         "data": [
          {
           "coloraxis": "coloraxis",
           "geo": "geo",
           "hovertemplate": "Year=2011<br>Country=%{location}<br>Expectativa de Vida=%{z}<extra></extra>",
           "locationmode": "country names",
           "locations": [
            "Afghanistan",
            "Albania",
            "Algeria",
            "American Samoa",
            "Andorra",
            "Angola",
            "Antigua and Barbuda",
            "Argentina",
            "Armenia",
            "Australia",
            "Austria",
            "Azerbaijan",
            "Bahrain",
            "Bangladesh",
            "Barbados",
            "Belarus",
            "Belgium",
            "Belize",
            "Benin",
            "Bermuda",
            "Bhutan",
            "Bolivia",
            "Bosnia and Herzegovina",
            "Botswana",
            "Brazil",
            "Bulgaria",
            "Burkina Faso",
            "Burundi",
            "Cambodia",
            "Cameroon",
            "Canada",
            "Central African Republic",
            "Chad",
            "Chile",
            "China",
            "Colombia",
            "Comoros",
            "Costa Rica",
            "Cote d'Ivoire",
            "Croatia",
            "Cuba",
            "Cyprus",
            "Denmark",
            "Djibouti",
            "Dominica",
            "Dominican Republic",
            "Ecuador",
            "El Salvador",
            "Equatorial Guinea",
            "Eritrea",
            "Estonia",
            "Eswatini",
            "Ethiopia",
            "Fiji",
            "Finland",
            "France",
            "Gabon",
            "Georgia",
            "Germany",
            "Ghana",
            "Greece",
            "Greenland",
            "Grenada",
            "Guam",
            "Guatemala",
            "Guinea",
            "Guinea-Bissau",
            "Guyana",
            "Haiti",
            "Honduras",
            "Hungary",
            "Iceland",
            "India",
            "Indonesia",
            "Iraq",
            "Ireland",
            "Israel",
            "Italy",
            "Jamaica",
            "Japan",
            "Jordan",
            "Kazakhstan",
            "Kenya",
            "Kiribati",
            "Kuwait",
            "Latvia",
            "Lebanon",
            "Lesotho",
            "Liberia",
            "Libya",
            "Lithuania",
            "Luxembourg",
            "Madagascar",
            "Malawi",
            "Malaysia",
            "Maldives",
            "Mali",
            "Malta",
            "Marshall Islands",
            "Mauritania",
            "Mauritius",
            "Mexico",
            "Moldova",
            "Monaco",
            "Mongolia",
            "Montenegro",
            "Morocco",
            "Mozambique",
            "Myanmar",
            "Namibia",
            "Nauru",
            "Nepal",
            "Netherlands",
            "New Zealand",
            "Nicaragua",
            "Niger",
            "Nigeria",
            "North Macedonia",
            "Northern Mariana Islands",
            "Norway",
            "Oman",
            "Pakistan",
            "Palau",
            "Panama",
            "Papua New Guinea",
            "Paraguay",
            "Peru",
            "Philippines",
            "Poland",
            "Portugal",
            "Puerto Rico",
            "Qatar",
            "Romania",
            "Rwanda",
            "Samoa",
            "San Marino",
            "Sao Tome and Principe",
            "Saudi Arabia",
            "Senegal",
            "Serbia",
            "Seychelles",
            "Sierra Leone",
            "Singapore",
            "Slovenia",
            "Solomon Islands",
            "Somalia",
            "South Africa",
            "South Sudan",
            "Spain",
            "Sri Lanka",
            "Sudan",
            "Suriname",
            "Sweden",
            "Switzerland",
            "Tajikistan",
            "Tanzania",
            "Thailand",
            "Togo",
            "Tonga",
            "Trinidad and Tobago",
            "Tunisia",
            "Turkmenistan",
            "Tuvalu",
            "Uganda",
            "Ukraine",
            "United Arab Emirates",
            "United Kingdom",
            "United States",
            "Uruguay",
            "Uzbekistan",
            "Vanuatu",
            "Vietnam",
            "Zambia",
            "Zimbabwe"
           ],
           "name": "",
           "type": "choropleth",
           "z": [
            61.553,
            76.914,
            75.199,
            null,
            null,
            56.33,
            75.956,
            75.439,
            73.572,
            81.89512195121951,
            80.9829268292683,
            71.234,
            76.2,
            70.256,
            78.456,
            70.55365853658537,
            80.58536585365854,
            72.57,
            59.59,
            81.15268292682927,
            68.84,
            68.521,
            76.219,
            61.91,
            73.921,
            74.16341463414635,
            57.761,
            57.925,
            67.043,
            55.581,
            81.44878048780488,
            47.95,
            51.424,
            78.986,
            74.708,
            75.655,
            62.24,
            78.919,
            53.62,
            76.77560975609757,
            78.4,
            79.621,
            79.8,
            60.667,
            null,
            72.284,
            75.289,
            71.449,
            55.945,
            62.732,
            76.22926829268293,
            48.141,
            62.505,
            66.759,
            80.47073170731709,
            82.11463414634147,
            62.168,
            71.773,
            80.43658536585367,
            61.381,
            80.73170731707317,
            69.85414634146343,
            72.768,
            78.173,
            71.861,
            57.387,
            55.144,
            68.321,
            60.879,
            73.569,
            74.85853658536587,
            82.35853658536587,
            67.13,
            69.542,
            68.848,
            80.74634146341464,
            81.65609756097562,
            82.1878048780488,
            74.012,
            82.59121951219514,
            73.581,
            68.69,
            61.851,
            66.072,
            74.55,
            73.57560975609756,
            78.507,
            46.207,
            60.146,
            71.956,
            73.56341463414635,
            80.98780487804878,
            63.836,
            57.161,
            74.683,
            76.293,
            55.701,
            80.74634146341464,
            null,
            62.799,
            73.2668292682927,
            75.011,
            70.119,
            null,
            67.818,
            75.9829268292683,
            74.696,
            53.043,
            63.983,
            58.085,
            null,
            68.028,
            81.2048780487805,
            80.90487804878049,
            72.692,
            58.081,
            51.346,
            75.1,
            null,
            81.2951219512195,
            75.916,
            65.562,
            null,
            76.989,
            62.316,
            72.86,
            74.697,
            69.984,
            76.69512195121952,
            80.47073170731709,
            78.64065853658536,
            79.26,
            74.40975609756099,
            64.523,
            71.906,
            null,
            67.885,
            74.089,
            64.898,
            74.53658536585367,
            72.72439024390245,
            50.234,
            81.7439024390244,
            79.97073170731709,
            70.985,
            54.342,
            58.895,
            55.325,
            82.47560975609757,
            75.614,
            63.171,
            70.676,
            81.80243902439025,
            82.69512195121952,
            69.055,
            59.525,
            74.593,
            58.092,
            70.148,
            72.17,
            75.206,
            66.928,
            null,
            58.087,
            70.80926829268293,
            76.521,
            80.95121951219512,
            78.64146341463415,
            76.882,
            69.91,
            69.272,
            74.904,
            57.126,
            52.896
           ]
          }
         ],
         "name": "2011"
        },
        {
         "data": [
          {
           "coloraxis": "coloraxis",
           "geo": "geo",
           "hovertemplate": "Year=2012<br>Country=%{location}<br>Expectativa de Vida=%{z}<extra></extra>",
           "locationmode": "country names",
           "locations": [
            "Afghanistan",
            "Albania",
            "Algeria",
            "American Samoa",
            "Andorra",
            "Angola",
            "Antigua and Barbuda",
            "Argentina",
            "Armenia",
            "Australia",
            "Austria",
            "Azerbaijan",
            "Bahrain",
            "Bangladesh",
            "Barbados",
            "Belarus",
            "Belgium",
            "Belize",
            "Benin",
            "Bermuda",
            "Bhutan",
            "Bolivia",
            "Bosnia and Herzegovina",
            "Botswana",
            "Brazil",
            "Bulgaria",
            "Burkina Faso",
            "Burundi",
            "Cambodia",
            "Cameroon",
            "Canada",
            "Central African Republic",
            "Chad",
            "Chile",
            "China",
            "Colombia",
            "Comoros",
            "Costa Rica",
            "Cote d'Ivoire",
            "Croatia",
            "Cuba",
            "Cyprus",
            "Denmark",
            "Djibouti",
            "Dominica",
            "Dominican Republic",
            "Ecuador",
            "El Salvador",
            "Equatorial Guinea",
            "Eritrea",
            "Estonia",
            "Eswatini",
            "Ethiopia",
            "Fiji",
            "Finland",
            "France",
            "Gabon",
            "Georgia",
            "Germany",
            "Ghana",
            "Greece",
            "Greenland",
            "Grenada",
            "Guam",
            "Guatemala",
            "Guinea",
            "Guinea-Bissau",
            "Guyana",
            "Haiti",
            "Honduras",
            "Hungary",
            "Iceland",
            "India",
            "Indonesia",
            "Iraq",
            "Ireland",
            "Israel",
            "Italy",
            "Jamaica",
            "Japan",
            "Jordan",
            "Kazakhstan",
            "Kenya",
            "Kiribati",
            "Kuwait",
            "Latvia",
            "Lebanon",
            "Lesotho",
            "Liberia",
            "Libya",
            "Lithuania",
            "Luxembourg",
            "Madagascar",
            "Malawi",
            "Malaysia",
            "Maldives",
            "Mali",
            "Malta",
            "Marshall Islands",
            "Mauritania",
            "Mauritius",
            "Mexico",
            "Moldova",
            "Monaco",
            "Mongolia",
            "Montenegro",
            "Morocco",
            "Mozambique",
            "Myanmar",
            "Namibia",
            "Nauru",
            "Nepal",
            "Netherlands",
            "New Zealand",
            "Nicaragua",
            "Niger",
            "Nigeria",
            "North Macedonia",
            "Northern Mariana Islands",
            "Norway",
            "Oman",
            "Pakistan",
            "Palau",
            "Panama",
            "Papua New Guinea",
            "Paraguay",
            "Peru",
            "Philippines",
            "Poland",
            "Portugal",
            "Puerto Rico",
            "Qatar",
            "Romania",
            "Rwanda",
            "Samoa",
            "San Marino",
            "Sao Tome and Principe",
            "Saudi Arabia",
            "Senegal",
            "Serbia",
            "Seychelles",
            "Sierra Leone",
            "Singapore",
            "Slovenia",
            "Solomon Islands",
            "Somalia",
            "South Africa",
            "South Sudan",
            "Spain",
            "Sri Lanka",
            "Sudan",
            "Suriname",
            "Sweden",
            "Switzerland",
            "Tajikistan",
            "Tanzania",
            "Thailand",
            "Togo",
            "Tonga",
            "Trinidad and Tobago",
            "Tunisia",
            "Turkmenistan",
            "Tuvalu",
            "Uganda",
            "Ukraine",
            "United Arab Emirates",
            "United Kingdom",
            "United States",
            "Uruguay",
            "Uzbekistan",
            "Vanuatu",
            "Vietnam",
            "Zambia",
            "Zimbabwe"
           ],
           "name": "",
           "type": "choropleth",
           "z": [
            62.054,
            77.252,
            75.436,
            null,
            null,
            57.236,
            76.087,
            75.598,
            73.82,
            82.04634146341463,
            80.93658536585367,
            71.506,
            76.342,
            70.606,
            78.547,
            71.96585365853657,
            80.38536585365854,
            73.044,
            59.842,
            81.67780487804879,
            69.263,
            69.01,
            76.401,
            63.511,
            74.209,
            74.31463414634149,
            58.374,
            58.568,
            67.48,
            56.073,
            81.64878048780488,
            48.638,
            51.928,
            79.176,
            75.013,
            75.882,
            62.595,
            79.074,
            54.271,
            76.92439024390244,
            78.446,
            79.812,
            80.05121951219512,
            61.395,
            null,
            72.523,
            75.495,
            71.692,
            56.288,
            63.238,
            76.3268292682927,
            49.862,
            63.281,
            66.859,
            80.6268292682927,
            81.96829268292684,
            62.924,
            72.097,
            80.53902439024391,
            61.72,
            80.63414634146342,
            70.55,
            72.669,
            78.408,
            72.236,
            57.905,
            55.645,
            68.575,
            61.26,
            73.814,
            75.06341463414634,
            82.91707317073171,
            67.545,
            69.866,
            69.148,
            80.84634146341465,
            81.7048780487805,
            82.23902439024391,
            74.001,
            83.09609756097561,
            73.722,
            69.52,
            62.659,
            66.381,
            74.728,
            73.77804878048781,
            78.611,
            47.416,
            60.663,
            71.901,
            73.86341463414635,
            81.39268292682927,
            64.28,
            58.629,
            74.877,
            76.664,
            56.135,
            80.74634146341464,
            null,
            63.079,
            73.86341463414635,
            74.966,
            70.581,
            null,
            68.217,
            76.2,
            74.97,
            53.931,
            64.453,
            59.387,
            null,
            68.426,
            81.10487804878049,
            81.15609756097562,
            72.951,
            58.79,
            51.786,
            74.90243902439026,
            null,
            81.45121951219514,
            76.149,
            65.849,
            null,
            77.188,
            62.604,
            73.068,
            74.981,
            70.149,
            76.74634146341464,
            80.37317073170732,
            78.84758536585366,
            79.399,
            74.41219512195123,
            65.438,
            72.136,
            null,
            68.306,
            74.254,
            65.448,
            74.83658536585368,
            74.27560975609757,
            51.018,
            81.99512195121952,
            80.12439024390244,
            71.296,
            54.713,
            60.06,
            55.791,
            82.4268292682927,
            75.796,
            63.542,
            70.851,
            81.7048780487805,
            82.69756097560976,
            69.34,
            60.47,
            74.992,
            58.661,
            70.242,
            72.382,
            75.376,
            67.167,
            null,
            59.017,
            70.94414634146342,
            76.711,
            80.90487804878049,
            78.74146341463415,
            77.004,
            70.155,
            69.421,
            74.958,
            58.502,
            55.032
           ]
          }
         ],
         "name": "2012"
        },
        {
         "data": [
          {
           "coloraxis": "coloraxis",
           "geo": "geo",
           "hovertemplate": "Year=2013<br>Country=%{location}<br>Expectativa de Vida=%{z}<extra></extra>",
           "locationmode": "country names",
           "locations": [
            "Afghanistan",
            "Albania",
            "Algeria",
            "American Samoa",
            "Andorra",
            "Angola",
            "Antigua and Barbuda",
            "Argentina",
            "Armenia",
            "Australia",
            "Austria",
            "Azerbaijan",
            "Bahrain",
            "Bangladesh",
            "Barbados",
            "Belarus",
            "Belgium",
            "Belize",
            "Benin",
            "Bermuda",
            "Bhutan",
            "Bolivia",
            "Bosnia and Herzegovina",
            "Botswana",
            "Brazil",
            "Bulgaria",
            "Burkina Faso",
            "Burundi",
            "Cambodia",
            "Cameroon",
            "Canada",
            "Central African Republic",
            "Chad",
            "Chile",
            "China",
            "Colombia",
            "Comoros",
            "Costa Rica",
            "Cote d'Ivoire",
            "Croatia",
            "Cuba",
            "Cyprus",
            "Denmark",
            "Djibouti",
            "Dominica",
            "Dominican Republic",
            "Ecuador",
            "El Salvador",
            "Equatorial Guinea",
            "Eritrea",
            "Estonia",
            "Eswatini",
            "Ethiopia",
            "Fiji",
            "Finland",
            "France",
            "Gabon",
            "Georgia",
            "Germany",
            "Ghana",
            "Greece",
            "Greenland",
            "Grenada",
            "Guam",
            "Guatemala",
            "Guinea",
            "Guinea-Bissau",
            "Guyana",
            "Haiti",
            "Honduras",
            "Hungary",
            "Iceland",
            "India",
            "Indonesia",
            "Iraq",
            "Ireland",
            "Israel",
            "Italy",
            "Jamaica",
            "Japan",
            "Jordan",
            "Kazakhstan",
            "Kenya",
            "Kiribati",
            "Kuwait",
            "Latvia",
            "Lebanon",
            "Lesotho",
            "Liberia",
            "Libya",
            "Lithuania",
            "Luxembourg",
            "Madagascar",
            "Malawi",
            "Malaysia",
            "Maldives",
            "Mali",
            "Malta",
            "Marshall Islands",
            "Mauritania",
            "Mauritius",
            "Mexico",
            "Moldova",
            "Monaco",
            "Mongolia",
            "Montenegro",
            "Morocco",
            "Mozambique",
            "Myanmar",
            "Namibia",
            "Nauru",
            "Nepal",
            "Netherlands",
            "New Zealand",
            "Nicaragua",
            "Niger",
            "Nigeria",
            "North Macedonia",
            "Northern Mariana Islands",
            "Norway",
            "Oman",
            "Pakistan",
            "Palau",
            "Panama",
            "Papua New Guinea",
            "Paraguay",
            "Peru",
            "Philippines",
            "Poland",
            "Portugal",
            "Puerto Rico",
            "Qatar",
            "Romania",
            "Rwanda",
            "Samoa",
            "San Marino",
            "Sao Tome and Principe",
            "Saudi Arabia",
            "Senegal",
            "Serbia",
            "Seychelles",
            "Sierra Leone",
            "Singapore",
            "Slovenia",
            "Solomon Islands",
            "Somalia",
            "South Africa",
            "South Sudan",
            "Spain",
            "Sri Lanka",
            "Sudan",
            "Suriname",
            "Sweden",
            "Switzerland",
            "Tajikistan",
            "Tanzania",
            "Thailand",
            "Togo",
            "Tonga",
            "Trinidad and Tobago",
            "Tunisia",
            "Turkmenistan",
            "Tuvalu",
            "Uganda",
            "Ukraine",
            "United Arab Emirates",
            "United Kingdom",
            "United States",
            "Uruguay",
            "Uzbekistan",
            "Vanuatu",
            "Vietnam",
            "Zambia",
            "Zimbabwe"
           ],
           "name": "",
           "type": "choropleth",
           "z": [
            62.525,
            77.554,
            75.661,
            null,
            null,
            58.054,
            76.218,
            75.756,
            74.056,
            82.14878048780488,
            81.13658536585366,
            71.768,
            76.484,
            70.93,
            78.633,
            72.47073170731707,
            80.58780487804879,
            73.452,
            60.092,
            80.57243902439025,
            69.662,
            69.468,
            76.569,
            64.976,
            74.483,
            74.8609756097561,
            58.937,
            59.148,
            67.888,
            56.576,
            81.7487804878049,
            49.371,
            52.386,
            79.349,
            75.321,
            76.105,
            62.922,
            79.234,
            54.906,
            77.1268292682927,
            78.485,
            79.999,
            80.3,
            62.239,
            null,
            72.763,
            75.707,
            71.935,
            56.642,
            63.726,
            77.14146341463415,
            51.699,
            63.961,
            66.95,
            80.97560975609757,
            82.21951219512196,
            63.648,
            72.412,
            80.49024390243903,
            62.064,
            81.28536585365853,
            71.57341463414636,
            72.579,
            78.649,
            72.596,
            58.447,
            56.117,
            68.819,
            61.658,
            74.051,
            75.5658536585366,
            82.06097560975611,
            67.931,
            70.179,
            69.437,
            80.94878048780488,
            82.05609756097562,
            82.69024390243902,
            74.01,
            83.3319512195122,
            73.851,
            70.62,
            63.419,
            66.69,
            74.885,
            73.98292682926831,
            78.683,
            48.663,
            61.186,
            71.907,
            73.91463414634146,
            81.8,
            64.713,
            59.931,
            75.072,
            77.018,
            56.578,
            81.74634146341464,
            null,
            63.366,
            74.01707317073172,
            74.93,
            70.968,
            null,
            68.566,
            76.49024390243903,
            75.227,
            54.949,
            64.921,
            60.513,
            null,
            68.806,
            81.3048780487805,
            81.40731707317073,
            73.197,
            59.455,
            52.228,
            75.4,
            null,
            81.75121951219514,
            76.388,
            66.117,
            null,
            77.386,
            62.892,
            73.274,
            75.258,
            70.315,
            77,
            80.7219512195122,
            79.03434146341463,
            79.527,
            75.06341463414634,
            66.219,
            72.351,
            null,
            68.695,
            74.402,
            65.939,
            75.18536585365854,
            73.11951219512196,
            51.731,
            82.24634146341465,
            80.3219512195122,
            71.601,
            55.104,
            61.099,
            56.2,
            83.07804878048782,
            75.974,
            63.875,
            71.002,
            81.9560975609756,
            82.79756097560977,
            69.609,
            61.398,
            75.378,
            59.16,
            70.335,
            72.582,
            75.552,
            67.375,
            null,
            59.881,
            71.15951219512196,
            76.903,
            81.0048780487805,
            78.74146341463415,
            77.124,
            70.41,
            69.57,
            75.006,
            59.746,
            56.897
           ]
          }
         ],
         "name": "2013"
        },
        {
         "data": [
          {
           "coloraxis": "coloraxis",
           "geo": "geo",
           "hovertemplate": "Year=2014<br>Country=%{location}<br>Expectativa de Vida=%{z}<extra></extra>",
           "locationmode": "country names",
           "locations": [
            "Afghanistan",
            "Albania",
            "Algeria",
            "American Samoa",
            "Andorra",
            "Angola",
            "Antigua and Barbuda",
            "Argentina",
            "Armenia",
            "Australia",
            "Austria",
            "Azerbaijan",
            "Bahrain",
            "Bangladesh",
            "Barbados",
            "Belarus",
            "Belgium",
            "Belize",
            "Benin",
            "Bermuda",
            "Bhutan",
            "Bolivia",
            "Bosnia and Herzegovina",
            "Botswana",
            "Brazil",
            "Bulgaria",
            "Burkina Faso",
            "Burundi",
            "Cambodia",
            "Cameroon",
            "Canada",
            "Central African Republic",
            "Chad",
            "Chile",
            "China",
            "Colombia",
            "Comoros",
            "Costa Rica",
            "Cote d'Ivoire",
            "Croatia",
            "Cuba",
            "Cyprus",
            "Denmark",
            "Djibouti",
            "Dominica",
            "Dominican Republic",
            "Ecuador",
            "El Salvador",
            "Equatorial Guinea",
            "Eritrea",
            "Estonia",
            "Eswatini",
            "Ethiopia",
            "Fiji",
            "Finland",
            "France",
            "Gabon",
            "Georgia",
            "Germany",
            "Ghana",
            "Greece",
            "Greenland",
            "Grenada",
            "Guam",
            "Guatemala",
            "Guinea",
            "Guinea-Bissau",
            "Guyana",
            "Haiti",
            "Honduras",
            "Hungary",
            "Iceland",
            "India",
            "Indonesia",
            "Iraq",
            "Ireland",
            "Israel",
            "Italy",
            "Jamaica",
            "Japan",
            "Jordan",
            "Kazakhstan",
            "Kenya",
            "Kiribati",
            "Kuwait",
            "Latvia",
            "Lebanon",
            "Lesotho",
            "Liberia",
            "Libya",
            "Lithuania",
            "Luxembourg",
            "Madagascar",
            "Malawi",
            "Malaysia",
            "Maldives",
            "Mali",
            "Malta",
            "Marshall Islands",
            "Mauritania",
            "Mauritius",
            "Mexico",
            "Moldova",
            "Monaco",
            "Mongolia",
            "Montenegro",
            "Morocco",
            "Mozambique",
            "Myanmar",
            "Namibia",
            "Nauru",
            "Nepal",
            "Netherlands",
            "New Zealand",
            "Nicaragua",
            "Niger",
            "Nigeria",
            "North Macedonia",
            "Northern Mariana Islands",
            "Norway",
            "Oman",
            "Pakistan",
            "Palau",
            "Panama",
            "Papua New Guinea",
            "Paraguay",
            "Peru",
            "Philippines",
            "Poland",
            "Portugal",
            "Puerto Rico",
            "Qatar",
            "Romania",
            "Rwanda",
            "Samoa",
            "San Marino",
            "Sao Tome and Principe",
            "Saudi Arabia",
            "Senegal",
            "Serbia",
            "Seychelles",
            "Sierra Leone",
            "Singapore",
            "Slovenia",
            "Solomon Islands",
            "Somalia",
            "South Africa",
            "South Sudan",
            "Spain",
            "Sri Lanka",
            "Sudan",
            "Suriname",
            "Sweden",
            "Switzerland",
            "Tajikistan",
            "Tanzania",
            "Thailand",
            "Togo",
            "Tonga",
            "Trinidad and Tobago",
            "Tunisia",
            "Turkmenistan",
            "Tuvalu",
            "Uganda",
            "Ukraine",
            "United Arab Emirates",
            "United Kingdom",
            "United States",
            "Uruguay",
            "Uzbekistan",
            "Vanuatu",
            "Vietnam",
            "Zambia",
            "Zimbabwe"
           ],
           "name": "",
           "type": "choropleth",
           "z": [
            62.966,
            77.813,
            75.878,
            null,
            null,
            58.776,
            76.349,
            75.913,
            74.273,
            82.3,
            81.49024390243903,
            72.022,
            76.624,
            71.231,
            78.717,
            72.97073170731709,
            81.28780487804877,
            73.782,
            60.345,
            80.79731707317075,
            70.046,
            69.891,
            76.723,
            66.265,
            74.745,
            74.46585365853659,
            59.45,
            59.665,
            68.273,
            57.083,
            81.8,
            50.129,
            52.789,
            79.504,
            75.629,
            76.322,
            63.214,
            79.398,
            55.508,
            77.47804878048781,
            78.521,
            80.178,
            80.7,
            63.171,
            null,
            73.003,
            75.923,
            72.175,
            57.001,
            64.201,
            77.03414634146343,
            53.569,
            64.547,
            67.03,
            81.18048780487807,
            82.71951219512195,
            64.318,
            72.707,
            81.09024390243904,
            62.416,
            81.38536585365853,
            71.98560975609757,
            72.503,
            78.895,
            72.935,
            59.016,
            56.556,
            69.049,
            62.069,
            74.278,
            75.76341463414634,
            82.86097560975611,
            68.286,
            70.481,
            69.7,
            81.34878048780487,
            82.15365853658537,
            83.09024390243904,
            74.042,
            83.5878048780488,
            73.969,
            71.44,
            64.135,
            66.995,
            75.019,
            74.12439024390244,
            78.732,
            49.891,
            61.723,
            71.981,
            74.5170731707317,
            82.22926829268293,
            65.133,
            61.042,
            75.268,
            77.36,
            57.036,
            82.04634146341463,
            null,
            63.654,
            74.19439024390245,
            74.908,
            71.267,
            null,
            68.863,
            76.44146341463414,
            75.477,
            56.062,
            65.378,
            61.425,
            null,
            69.168,
            81.70731707317074,
            81.40487804878049,
            73.429,
            60.07,
            52.672,
            75.45121951219514,
            null,
            82.1,
            76.634,
            66.36,
            null,
            77.583,
            63.181,
            73.473,
            75.529,
            70.481,
            77.60243902439025,
            81.12195121951221,
            79.20246341463415,
            79.646,
            74.90975609756099,
            66.884,
            72.549,
            null,
            69.052,
            74.533,
            66.37,
            75.33658536585367,
            73.22926829268293,
            52.372,
            82.49512195121953,
            81.0780487804878,
            71.896,
            55.509,
            61.968,
            56.552,
            83.22926829268293,
            76.147,
            64.169,
            71.133,
            82.25365853658538,
            83.19756097560976,
            69.874,
            62.288,
            75.747,
            59.58,
            70.427,
            72.768,
            75.734,
            67.552,
            null,
            60.669,
            71.18658536585367,
            77.095,
            81.3048780487805,
            78.84146341463415,
            77.244,
            70.671,
            69.719,
            75.056,
            60.831,
            58.41
           ]
          }
         ],
         "name": "2014"
        },
        {
         "data": [
          {
           "coloraxis": "coloraxis",
           "geo": "geo",
           "hovertemplate": "Year=2015<br>Country=%{location}<br>Expectativa de Vida=%{z}<extra></extra>",
           "locationmode": "country names",
           "locations": [
            "Afghanistan",
            "Albania",
            "Algeria",
            "American Samoa",
            "Andorra",
            "Angola",
            "Antigua and Barbuda",
            "Argentina",
            "Armenia",
            "Australia",
            "Austria",
            "Azerbaijan",
            "Bahrain",
            "Bangladesh",
            "Barbados",
            "Belarus",
            "Belgium",
            "Belize",
            "Benin",
            "Bermuda",
            "Bhutan",
            "Bolivia",
            "Bosnia and Herzegovina",
            "Botswana",
            "Brazil",
            "Bulgaria",
            "Burkina Faso",
            "Burundi",
            "Cambodia",
            "Cameroon",
            "Canada",
            "Central African Republic",
            "Chad",
            "Chile",
            "China",
            "Colombia",
            "Comoros",
            "Costa Rica",
            "Cote d'Ivoire",
            "Croatia",
            "Cuba",
            "Cyprus",
            "Denmark",
            "Djibouti",
            "Dominica",
            "Dominican Republic",
            "Ecuador",
            "El Salvador",
            "Equatorial Guinea",
            "Eritrea",
            "Estonia",
            "Eswatini",
            "Ethiopia",
            "Fiji",
            "Finland",
            "France",
            "Gabon",
            "Georgia",
            "Germany",
            "Ghana",
            "Greece",
            "Greenland",
            "Grenada",
            "Guam",
            "Guatemala",
            "Guinea",
            "Guinea-Bissau",
            "Guyana",
            "Haiti",
            "Honduras",
            "Hungary",
            "Iceland",
            "India",
            "Indonesia",
            "Iraq",
            "Ireland",
            "Israel",
            "Italy",
            "Jamaica",
            "Japan",
            "Jordan",
            "Kazakhstan",
            "Kenya",
            "Kiribati",
            "Kuwait",
            "Latvia",
            "Lebanon",
            "Lesotho",
            "Liberia",
            "Libya",
            "Lithuania",
            "Luxembourg",
            "Madagascar",
            "Malawi",
            "Malaysia",
            "Maldives",
            "Mali",
            "Malta",
            "Marshall Islands",
            "Mauritania",
            "Mauritius",
            "Mexico",
            "Moldova",
            "Monaco",
            "Mongolia",
            "Montenegro",
            "Morocco",
            "Mozambique",
            "Myanmar",
            "Namibia",
            "Nauru",
            "Nepal",
            "Netherlands",
            "New Zealand",
            "Nicaragua",
            "Niger",
            "Nigeria",
            "North Macedonia",
            "Northern Mariana Islands",
            "Norway",
            "Oman",
            "Pakistan",
            "Palau",
            "Panama",
            "Papua New Guinea",
            "Paraguay",
            "Peru",
            "Philippines",
            "Poland",
            "Portugal",
            "Puerto Rico",
            "Qatar",
            "Romania",
            "Rwanda",
            "Samoa",
            "San Marino",
            "Sao Tome and Principe",
            "Saudi Arabia",
            "Senegal",
            "Serbia",
            "Seychelles",
            "Sierra Leone",
            "Singapore",
            "Slovenia",
            "Solomon Islands",
            "Somalia",
            "South Africa",
            "South Sudan",
            "Spain",
            "Sri Lanka",
            "Sudan",
            "Suriname",
            "Sweden",
            "Switzerland",
            "Tajikistan",
            "Tanzania",
            "Thailand",
            "Togo",
            "Tonga",
            "Trinidad and Tobago",
            "Tunisia",
            "Turkmenistan",
            "Tuvalu",
            "Uganda",
            "Ukraine",
            "United Arab Emirates",
            "United Kingdom",
            "United States",
            "Uruguay",
            "Uzbekistan",
            "Vanuatu",
            "Vietnam",
            "Zambia",
            "Zimbabwe"
           ],
           "name": "",
           "type": "choropleth",
           "z": [
            63.377,
            78.025,
            76.09,
            null,
            null,
            59.398,
            76.483,
            76.068,
            74.467,
            82.4,
            81.19024390243904,
            72.266,
            76.762,
            71.514,
            78.801,
            73.62439024390245,
            80.99268292682929,
            74.034,
            60.608,
            81.01219512195122,
            70.419,
            70.277,
            76.865,
            67.338,
            74.994,
            74.61463414634147,
            59.919,
            60.123,
            68.637,
            57.583,
            81.9,
            50.881,
            53.137,
            79.646,
            75.928,
            76.531,
            63.471,
            79.565,
            56.065,
            77.27560975609758,
            78.561,
            80.35,
            80.70243902439024,
            64.136,
            null,
            73.241,
            76.143,
            72.412,
            57.359,
            64.664,
            77.59024390243903,
            55.359,
            65.048,
            67.103,
            81.48048780487807,
            82.3219512195122,
            64.913,
            72.973,
            80.64146341463415,
            62.772,
            81.03658536585367,
            71.97731707317072,
            72.445,
            79.144,
            73.25,
            59.598,
            56.959,
            69.262,
            62.485,
            74.495,
            75.56829268292685,
            82.46829268292684,
            68.607,
            70.768,
            69.929,
            81.45365853658538,
            82.05121951219512,
            82.5439024390244,
            74.098,
            83.7939024390244,
            74.078,
            71.97,
            64.798,
            67.291,
            75.13,
            74.48048780487805,
            78.768,
            51.038,
            62.269,
            72.121,
            74.32195121951221,
            82.29268292682927,
            65.539,
            61.953,
            75.461,
            77.691,
            57.509,
            81.89756097560975,
            null,
            63.936,
            74.35317073170732,
            74.904,
            71.478,
            null,
            69.111,
            76.44878048780488,
            75.726,
            57.206,
            65.81,
            62.119,
            null,
            69.515,
            81.509756097561,
            81.4568292682927,
            73.649,
            60.631,
            53.112,
            75.40243902439025,
            null,
            82.30487804878051,
            76.887,
            66.577,
            null,
            77.776,
            63.466,
            73.662,
            75.792,
            70.644,
            77.45121951219512,
            81.12439024390245,
            79.35348780487804,
            79.758,
            74.91219512195123,
            67.45,
            72.73,
            null,
            69.377,
            74.651,
            66.747,
            75.28780487804879,
            74.29512195121953,
            52.941,
            82.7439024390244,
            80.77560975609757,
            72.173,
            55.92,
            62.649,
            56.855,
            82.83170731707318,
            76.316,
            64.429,
            71.249,
            82.2048780487805,
            82.89756097560976,
            70.137,
            63.111,
            76.091,
            59.927,
            70.517,
            72.941,
            75.922,
            67.704,
            null,
            61.373,
            71.18951219512196,
            77.285,
            80.95609756097562,
            78.69024390243904,
            77.369,
            70.928,
            69.869,
            75.11,
            61.737,
            59.534
           ]
          }
         ],
         "name": "2015"
        },
        {
         "data": [
          {
           "coloraxis": "coloraxis",
           "geo": "geo",
           "hovertemplate": "Year=2016<br>Country=%{location}<br>Expectativa de Vida=%{z}<extra></extra>",
           "locationmode": "country names",
           "locations": [
            "Afghanistan",
            "Albania",
            "Algeria",
            "American Samoa",
            "Andorra",
            "Angola",
            "Antigua and Barbuda",
            "Argentina",
            "Armenia",
            "Australia",
            "Austria",
            "Azerbaijan",
            "Bahrain",
            "Bangladesh",
            "Barbados",
            "Belarus",
            "Belgium",
            "Belize",
            "Benin",
            "Bermuda",
            "Bhutan",
            "Bolivia",
            "Bosnia and Herzegovina",
            "Botswana",
            "Brazil",
            "Bulgaria",
            "Burkina Faso",
            "Burundi",
            "Cambodia",
            "Cameroon",
            "Canada",
            "Central African Republic",
            "Chad",
            "Chile",
            "China",
            "Colombia",
            "Comoros",
            "Costa Rica",
            "Cote d'Ivoire",
            "Croatia",
            "Cuba",
            "Cyprus",
            "Denmark",
            "Djibouti",
            "Dominica",
            "Dominican Republic",
            "Ecuador",
            "El Salvador",
            "Equatorial Guinea",
            "Eritrea",
            "Estonia",
            "Eswatini",
            "Ethiopia",
            "Fiji",
            "Finland",
            "France",
            "Gabon",
            "Georgia",
            "Germany",
            "Ghana",
            "Greece",
            "Greenland",
            "Grenada",
            "Guam",
            "Guatemala",
            "Guinea",
            "Guinea-Bissau",
            "Guyana",
            "Haiti",
            "Honduras",
            "Hungary",
            "Iceland",
            "India",
            "Indonesia",
            "Iraq",
            "Ireland",
            "Israel",
            "Italy",
            "Jamaica",
            "Japan",
            "Jordan",
            "Kazakhstan",
            "Kenya",
            "Kiribati",
            "Kuwait",
            "Latvia",
            "Lebanon",
            "Lesotho",
            "Liberia",
            "Libya",
            "Lithuania",
            "Luxembourg",
            "Madagascar",
            "Malawi",
            "Malaysia",
            "Maldives",
            "Mali",
            "Malta",
            "Marshall Islands",
            "Mauritania",
            "Mauritius",
            "Mexico",
            "Moldova",
            "Monaco",
            "Mongolia",
            "Montenegro",
            "Morocco",
            "Mozambique",
            "Myanmar",
            "Namibia",
            "Nauru",
            "Nepal",
            "Netherlands",
            "New Zealand",
            "Nicaragua",
            "Niger",
            "Nigeria",
            "North Macedonia",
            "Northern Mariana Islands",
            "Norway",
            "Oman",
            "Pakistan",
            "Palau",
            "Panama",
            "Papua New Guinea",
            "Paraguay",
            "Peru",
            "Philippines",
            "Poland",
            "Portugal",
            "Puerto Rico",
            "Qatar",
            "Romania",
            "Rwanda",
            "Samoa",
            "San Marino",
            "Sao Tome and Principe",
            "Saudi Arabia",
            "Senegal",
            "Serbia",
            "Seychelles",
            "Sierra Leone",
            "Singapore",
            "Slovenia",
            "Solomon Islands",
            "Somalia",
            "South Africa",
            "South Sudan",
            "Spain",
            "Sri Lanka",
            "Sudan",
            "Suriname",
            "Sweden",
            "Switzerland",
            "Tajikistan",
            "Tanzania",
            "Thailand",
            "Togo",
            "Tonga",
            "Trinidad and Tobago",
            "Tunisia",
            "Turkmenistan",
            "Tuvalu",
            "Uganda",
            "Ukraine",
            "United Arab Emirates",
            "United Kingdom",
            "United States",
            "Uruguay",
            "Uzbekistan",
            "Vanuatu",
            "Vietnam",
            "Zambia",
            "Zimbabwe"
           ],
           "name": "",
           "type": "choropleth",
           "z": [
            63.763,
            78.194,
            76.298,
            null,
            null,
            59.925,
            76.617,
            76.221,
            74.64,
            82.4487804878049,
            81.64146341463416,
            72.493,
            76.899,
            71.785,
            78.888,
            73.8268292682927,
            81.4390243902439,
            74.219,
            60.885,
            81.22707317073171,
            70.781,
            70.626,
            76.998,
            68.178,
            75.23,
            74.81219512195123,
            60.354,
            60.528,
            68.977,
            58.063,
            81.9,
            51.593,
            53.438,
            79.779,
            76.21,
            76.732,
            63.7,
            79.738,
            56.567,
            78.0219512195122,
            78.607,
            80.513,
            80.85365853658537,
            65.064,
            null,
            73.471,
            76.365,
            72.644,
            57.713,
            65.111,
            77.64146341463416,
            56.962,
            65.482,
            67.175,
            81.42926829268293,
            82.57317073170732,
            65.418,
            73.207,
            80.99024390243903,
            63.124,
            81.3878048780488,
            71.82512195121951,
            72.408,
            79.391,
            73.541,
            60.17,
            57.328,
            69.454,
            62.896,
            74.701,
            76.06341463414635,
            82.2048780487805,
            68.897,
            71.035,
            70.122,
            81.65365853658537,
            82.40731707317074,
            83.24390243902438,
            74.175,
            83.9848780487805,
            74.184,
            72.41,
            65.393,
            67.577,
            75.224,
            74.58048780487805,
            78.8,
            52.059,
            62.802,
            72.311,
            74.67073170731707,
            82.68536585365854,
            65.931,
            62.681,
            75.649,
            78.013,
            57.987,
            82.45365853658538,
            null,
            64.208,
            74.3948780487805,
            74.917,
            71.617,
            null,
            69.321,
            76.44146341463414,
            75.974,
            58.309,
            66.205,
            62.625,
            null,
            69.848,
            81.5609756097561,
            81.61243902439026,
            73.86,
            61.137,
            53.541,
            75.4,
            null,
            82.40731707317074,
            77.142,
            66.77,
            null,
            77.964,
            63.744,
            73.836,
            76.044,
            70.802,
            77.85121951219514,
            81.12439024390245,
            79.4949756097561,
            79.868,
            75.20975609756098,
            67.93,
            72.895,
            null,
            69.67,
            74.761,
            67.078,
            75.68780487804878,
            74.30975609756099,
            53.444,
            82.84634146341465,
            81.17560975609757,
            72.424,
            56.324,
            63.153,
            57.12,
            83.32926829268293,
            76.482,
            64.663,
            71.358,
            82.30731707317074,
            83.60243902439025,
            70.397,
            63.844,
            76.403,
            60.22,
            70.607,
            73.1,
            76.115,
            67.835,
            null,
            61.986,
            71.47634146341464,
            77.47,
            81.15609756097562,
            78.53902439024391,
            77.498,
            71.171,
            70.021,
            75.172,
            62.464,
            60.294
           ]
          }
         ],
         "name": "2016"
        },
        {
         "data": [
          {
           "coloraxis": "coloraxis",
           "geo": "geo",
           "hovertemplate": "Year=2017<br>Country=%{location}<br>Expectativa de Vida=%{z}<extra></extra>",
           "locationmode": "country names",
           "locations": [
            "Afghanistan",
            "Albania",
            "Algeria",
            "American Samoa",
            "Andorra",
            "Angola",
            "Antigua and Barbuda",
            "Argentina",
            "Armenia",
            "Australia",
            "Austria",
            "Azerbaijan",
            "Bahrain",
            "Bangladesh",
            "Barbados",
            "Belarus",
            "Belgium",
            "Belize",
            "Benin",
            "Bermuda",
            "Bhutan",
            "Bolivia",
            "Bosnia and Herzegovina",
            "Botswana",
            "Brazil",
            "Bulgaria",
            "Burkina Faso",
            "Burundi",
            "Cambodia",
            "Cameroon",
            "Canada",
            "Central African Republic",
            "Chad",
            "Chile",
            "China",
            "Colombia",
            "Comoros",
            "Costa Rica",
            "Cote d'Ivoire",
            "Croatia",
            "Cuba",
            "Cyprus",
            "Denmark",
            "Djibouti",
            "Dominica",
            "Dominican Republic",
            "Ecuador",
            "El Salvador",
            "Equatorial Guinea",
            "Eritrea",
            "Estonia",
            "Eswatini",
            "Ethiopia",
            "Fiji",
            "Finland",
            "France",
            "Gabon",
            "Georgia",
            "Germany",
            "Ghana",
            "Greece",
            "Greenland",
            "Grenada",
            "Guam",
            "Guatemala",
            "Guinea",
            "Guinea-Bissau",
            "Guyana",
            "Haiti",
            "Honduras",
            "Hungary",
            "Iceland",
            "India",
            "Indonesia",
            "Iraq",
            "Ireland",
            "Israel",
            "Italy",
            "Jamaica",
            "Japan",
            "Jordan",
            "Kazakhstan",
            "Kenya",
            "Kiribati",
            "Kuwait",
            "Latvia",
            "Lebanon",
            "Lesotho",
            "Liberia",
            "Libya",
            "Lithuania",
            "Luxembourg",
            "Madagascar",
            "Malawi",
            "Malaysia",
            "Maldives",
            "Mali",
            "Malta",
            "Marshall Islands",
            "Mauritania",
            "Mauritius",
            "Mexico",
            "Moldova",
            "Monaco",
            "Mongolia",
            "Montenegro",
            "Morocco",
            "Mozambique",
            "Myanmar",
            "Namibia",
            "Nauru",
            "Nepal",
            "Netherlands",
            "New Zealand",
            "Nicaragua",
            "Niger",
            "Nigeria",
            "North Macedonia",
            "Northern Mariana Islands",
            "Norway",
            "Oman",
            "Pakistan",
            "Palau",
            "Panama",
            "Papua New Guinea",
            "Paraguay",
            "Peru",
            "Philippines",
            "Poland",
            "Portugal",
            "Puerto Rico",
            "Qatar",
            "Romania",
            "Rwanda",
            "Samoa",
            "San Marino",
            "Sao Tome and Principe",
            "Saudi Arabia",
            "Senegal",
            "Serbia",
            "Seychelles",
            "Sierra Leone",
            "Singapore",
            "Slovenia",
            "Solomon Islands",
            "Somalia",
            "South Africa",
            "South Sudan",
            "Spain",
            "Sri Lanka",
            "Sudan",
            "Suriname",
            "Sweden",
            "Switzerland",
            "Tajikistan",
            "Tanzania",
            "Thailand",
            "Togo",
            "Tonga",
            "Trinidad and Tobago",
            "Tunisia",
            "Turkmenistan",
            "Tuvalu",
            "Uganda",
            "Ukraine",
            "United Arab Emirates",
            "United Kingdom",
            "United States",
            "Uruguay",
            "Uzbekistan",
            "Vanuatu",
            "Vietnam",
            "Zambia",
            "Zimbabwe"
           ],
           "name": "",
           "type": "choropleth",
           "z": [
            64.13,
            78.333,
            76.499,
            null,
            null,
            60.379,
            76.752,
            76.372,
            74.797,
            82.5,
            81.6439024390244,
            72.693,
            77.032,
            72.052,
            78.981,
            74.12926829268294,
            81.49268292682927,
            74.365,
            61.174,
            81.4419512195122,
            71.129,
            70.945,
            77.128,
            68.812,
            75.456,
            74.81463414634148,
            60.768,
            60.898,
            69.289,
            58.511,
            81.9,
            52.24,
            53.712,
            79.909,
            76.47,
            76.925,
            63.912,
            79.914,
            57.017,
            77.8268292682927,
            78.662,
            80.672,
            81.10243902439025,
            65.893,
            null,
            73.689,
            76.584,
            72.872,
            58.061,
            65.538,
            78.09268292682927,
            58.319,
            65.872,
            67.252,
            81.6317073170732,
            82.57560975609756,
            65.839,
            73.414,
            80.99268292682929,
            63.463,
            81.28780487804877,
            71.57975609756097,
            72.388,
            79.631,
            73.81,
            60.706,
            57.673,
            69.624,
            63.29,
            74.898,
            75.81707317073172,
            82.6609756097561,
            69.165,
            71.282,
            70.294,
            82.15609756097562,
            82.55121951219512,
            82.94634146341465,
            74.267,
            84.09975609756098,
            74.292,
            72.95,
            65.909,
            67.851,
            75.311,
            74.62926829268294,
            78.833,
            52.947,
            63.295,
            72.52,
            75.48048780487807,
            82.09512195121953,
            66.311,
            63.279,
            75.828,
            78.325,
            58.452,
            82.34634146341465,
            null,
            64.464,
            74.51463414634146,
            74.947,
            71.717,
            null,
            69.509,
            76.48536585365855,
            76.218,
            59.309,
            66.558,
            63.021,
            null,
            70.169,
            81.76097560975612,
            81.65853658536587,
            74.068,
            61.599,
            53.95,
            75.95365853658537,
            null,
            82.60975609756098,
            77.393,
            66.947,
            null,
            78.149,
            64.01,
            73.992,
            76.286,
            70.952,
            77.75365853658538,
            81.42439024390245,
            79.63453658536588,
            79.981,
            75.30975609756098,
            68.341,
            73.046,
            null,
            69.933,
            74.874,
            67.38,
            75.53902439024391,
            74.3,
            53.895,
            83.09512195121954,
            81.02926829268294,
            72.645,
            56.709,
            63.538,
            57.365,
            83.28292682926829,
            76.648,
            64.881,
            71.463,
            82.40975609756099,
            83.55121951219512,
            70.647,
            64.479,
            76.683,
            60.489,
            70.701,
            73.245,
            76.31,
            67.956,
            null,
            62.516,
            71.78097560975611,
            77.647,
            81.2560975609756,
            78.53902439024391,
            77.632,
            71.388,
            70.172,
            75.241,
            63.043,
            60.812
           ]
          }
         ],
         "name": "2017"
        },
        {
         "data": [
          {
           "coloraxis": "coloraxis",
           "geo": "geo",
           "hovertemplate": "Year=2018<br>Country=%{location}<br>Expectativa de Vida=%{z}<extra></extra>",
           "locationmode": "country names",
           "locations": [
            "Afghanistan",
            "Albania",
            "Algeria",
            "American Samoa",
            "Andorra",
            "Angola",
            "Antigua and Barbuda",
            "Argentina",
            "Armenia",
            "Australia",
            "Austria",
            "Azerbaijan",
            "Bahrain",
            "Bangladesh",
            "Barbados",
            "Belarus",
            "Belgium",
            "Belize",
            "Benin",
            "Bermuda",
            "Bhutan",
            "Bolivia",
            "Bosnia and Herzegovina",
            "Botswana",
            "Brazil",
            "Bulgaria",
            "Burkina Faso",
            "Burundi",
            "Cambodia",
            "Cameroon",
            "Canada",
            "Central African Republic",
            "Chad",
            "Chile",
            "China",
            "Colombia",
            "Comoros",
            "Costa Rica",
            "Cote d'Ivoire",
            "Croatia",
            "Cuba",
            "Cyprus",
            "Denmark",
            "Djibouti",
            "Dominica",
            "Dominican Republic",
            "Ecuador",
            "El Salvador",
            "Equatorial Guinea",
            "Eritrea",
            "Estonia",
            "Eswatini",
            "Ethiopia",
            "Fiji",
            "Finland",
            "France",
            "Gabon",
            "Georgia",
            "Germany",
            "Ghana",
            "Greece",
            "Greenland",
            "Grenada",
            "Guam",
            "Guatemala",
            "Guinea",
            "Guinea-Bissau",
            "Guyana",
            "Haiti",
            "Honduras",
            "Hungary",
            "Iceland",
            "India",
            "Indonesia",
            "Iraq",
            "Ireland",
            "Israel",
            "Italy",
            "Jamaica",
            "Japan",
            "Jordan",
            "Kazakhstan",
            "Kenya",
            "Kiribati",
            "Kuwait",
            "Latvia",
            "Lebanon",
            "Lesotho",
            "Liberia",
            "Libya",
            "Lithuania",
            "Luxembourg",
            "Madagascar",
            "Malawi",
            "Malaysia",
            "Maldives",
            "Mali",
            "Malta",
            "Marshall Islands",
            "Mauritania",
            "Mauritius",
            "Mexico",
            "Moldova",
            "Monaco",
            "Mongolia",
            "Montenegro",
            "Morocco",
            "Mozambique",
            "Myanmar",
            "Namibia",
            "Nauru",
            "Nepal",
            "Netherlands",
            "New Zealand",
            "Nicaragua",
            "Niger",
            "Nigeria",
            "North Macedonia",
            "Northern Mariana Islands",
            "Norway",
            "Oman",
            "Pakistan",
            "Palau",
            "Panama",
            "Papua New Guinea",
            "Paraguay",
            "Peru",
            "Philippines",
            "Poland",
            "Portugal",
            "Puerto Rico",
            "Qatar",
            "Romania",
            "Rwanda",
            "Samoa",
            "San Marino",
            "Sao Tome and Principe",
            "Saudi Arabia",
            "Senegal",
            "Serbia",
            "Seychelles",
            "Sierra Leone",
            "Singapore",
            "Slovenia",
            "Solomon Islands",
            "Somalia",
            "South Africa",
            "South Sudan",
            "Spain",
            "Sri Lanka",
            "Sudan",
            "Suriname",
            "Sweden",
            "Switzerland",
            "Tajikistan",
            "Tanzania",
            "Thailand",
            "Togo",
            "Tonga",
            "Trinidad and Tobago",
            "Tunisia",
            "Turkmenistan",
            "Tuvalu",
            "Uganda",
            "Ukraine",
            "United Arab Emirates",
            "United Kingdom",
            "United States",
            "Uruguay",
            "Uzbekistan",
            "Vanuatu",
            "Vietnam",
            "Zambia",
            "Zimbabwe"
           ],
           "name": "",
           "type": "choropleth",
           "z": [
            64.486,
            78.458,
            76.693,
            null,
            null,
            60.782,
            76.885,
            76.52,
            74.945,
            82.7487804878049,
            81.69268292682928,
            72.864,
            77.163,
            72.32,
            79.081,
            74.17560975609757,
            81.59512195121953,
            74.496,
            61.47,
            81.65170731707317,
            71.46,
            71.239,
            77.262,
            69.275,
            75.672,
            74.96341463414636,
            61.174,
            61.247,
            69.57,
            58.921,
            82.04878048780488,
            52.805,
            53.977,
            80.042,
            76.704,
            77.109,
            64.118,
            80.095,
            57.422,
            78.0707317073171,
            78.726,
            80.828,
            80.95365853658537,
            66.582,
            null,
            73.892,
            76.8,
            73.096,
            58.402,
            65.941,
            78.2439024390244,
            59.401,
            66.24,
            67.341,
            81.73414634146343,
            82.67560975609757,
            66.187,
            73.6,
            80.89268292682927,
            63.78,
            81.7878048780488,
            71.88658536585366,
            72.384,
            79.859,
            74.063,
            61.185,
            58.003,
            69.774,
            63.66,
            75.088,
            76.0658536585366,
            82.86097560975611,
            69.416,
            71.509,
            70.454,
            82.2048780487805,
            82.80243902439025,
            83.34634146341465,
            74.368,
            84.2109756097561,
            74.405,
            73.15,
            66.342,
            68.116,
            75.398,
            74.7829268292683,
            78.875,
            53.705,
            63.73,
            72.724,
            75.68048780487806,
            82.29512195121951,
            66.681,
            63.798,
            75.997,
            78.627,
            58.893,
            82.4487804878049,
            null,
            64.704,
            74.41634146341464,
            74.992,
            71.808,
            null,
            69.689,
            76.84146341463416,
            76.453,
            60.163,
            66.867,
            63.373,
            null,
            70.478,
            81.81219512195123,
            81.85853658536587,
            74.275,
            62.024,
            54.332,
            76.64878048780488,
            null,
            82.75853658536586,
            77.633,
            67.114,
            null,
            78.329,
            64.263,
            74.131,
            76.516,
            71.095,
            77.60243902439025,
            81.32439024390244,
            79.77819512195123,
            80.1,
            75.35853658536587,
            68.7,
            73.187,
            null,
            70.17,
            74.998,
            67.665,
            75.89024390243902,
            72.84146341463415,
            54.309,
            83.29756097560976,
            81.3780487804878,
            72.835,
            57.068,
            63.857,
            57.604,
            83.43170731707319,
            76.812,
            65.095,
            71.57,
            82.55853658536586,
            83.75365853658538,
            70.879,
            65.015,
            76.931,
            60.76,
            70.801,
            73.38,
            76.505,
            68.073,
            null,
            62.973,
            71.58268292682928,
            77.814,
            81.2560975609756,
            78.63902439024392,
            77.77,
            71.573,
            70.323,
            75.317,
            63.51,
            61.195
           ]
          }
         ],
         "name": "2018"
        },
        {
         "data": [
          {
           "coloraxis": "coloraxis",
           "geo": "geo",
           "hovertemplate": "Year=2019<br>Country=%{location}<br>Expectativa de Vida=%{z}<extra></extra>",
           "locationmode": "country names",
           "locations": [
            "Afghanistan",
            "Albania",
            "Algeria",
            "American Samoa",
            "Andorra",
            "Angola",
            "Antigua and Barbuda",
            "Argentina",
            "Armenia",
            "Australia",
            "Austria",
            "Azerbaijan",
            "Bahrain",
            "Bangladesh",
            "Barbados",
            "Belarus",
            "Belgium",
            "Belize",
            "Benin",
            "Bermuda",
            "Bhutan",
            "Bolivia",
            "Bosnia and Herzegovina",
            "Botswana",
            "Brazil",
            "Bulgaria",
            "Burkina Faso",
            "Burundi",
            "Cambodia",
            "Cameroon",
            "Canada",
            "Central African Republic",
            "Chad",
            "Chile",
            "China",
            "Colombia",
            "Comoros",
            "Costa Rica",
            "Cote d'Ivoire",
            "Croatia",
            "Cuba",
            "Cyprus",
            "Denmark",
            "Djibouti",
            "Dominica",
            "Dominican Republic",
            "Ecuador",
            "El Salvador",
            "Equatorial Guinea",
            "Eritrea",
            "Estonia",
            "Eswatini",
            "Ethiopia",
            "Fiji",
            "Finland",
            "France",
            "Gabon",
            "Georgia",
            "Germany",
            "Ghana",
            "Greece",
            "Greenland",
            "Grenada",
            "Guam",
            "Guatemala",
            "Guinea",
            "Guinea-Bissau",
            "Guyana",
            "Haiti",
            "Honduras",
            "Hungary",
            "Iceland",
            "India",
            "Indonesia",
            "Iraq",
            "Ireland",
            "Israel",
            "Italy",
            "Jamaica",
            "Japan",
            "Jordan",
            "Kazakhstan",
            "Kenya",
            "Kiribati",
            "Kuwait",
            "Latvia",
            "Lebanon",
            "Lesotho",
            "Liberia",
            "Libya",
            "Lithuania",
            "Luxembourg",
            "Madagascar",
            "Malawi",
            "Malaysia",
            "Maldives",
            "Mali",
            "Malta",
            "Marshall Islands",
            "Mauritania",
            "Mauritius",
            "Mexico",
            "Moldova",
            "Monaco",
            "Mongolia",
            "Montenegro",
            "Morocco",
            "Mozambique",
            "Myanmar",
            "Namibia",
            "Nauru",
            "Nepal",
            "Netherlands",
            "New Zealand",
            "Nicaragua",
            "Niger",
            "Nigeria",
            "North Macedonia",
            "Northern Mariana Islands",
            "Norway",
            "Oman",
            "Pakistan",
            "Palau",
            "Panama",
            "Papua New Guinea",
            "Paraguay",
            "Peru",
            "Philippines",
            "Poland",
            "Portugal",
            "Puerto Rico",
            "Qatar",
            "Romania",
            "Rwanda",
            "Samoa",
            "San Marino",
            "Sao Tome and Principe",
            "Saudi Arabia",
            "Senegal",
            "Serbia",
            "Seychelles",
            "Sierra Leone",
            "Singapore",
            "Slovenia",
            "Solomon Islands",
            "Somalia",
            "South Africa",
            "South Sudan",
            "Spain",
            "Sri Lanka",
            "Sudan",
            "Suriname",
            "Sweden",
            "Switzerland",
            "Tajikistan",
            "Tanzania",
            "Thailand",
            "Togo",
            "Tonga",
            "Trinidad and Tobago",
            "Tunisia",
            "Turkmenistan",
            "Tuvalu",
            "Uganda",
            "Ukraine",
            "United Arab Emirates",
            "United Kingdom",
            "United States",
            "Uruguay",
            "Uzbekistan",
            "Vanuatu",
            "Vietnam",
            "Zambia",
            "Zimbabwe"
           ],
           "name": "",
           "type": "choropleth",
           "z": [
            64.833,
            78.573,
            76.88,
            null,
            null,
            61.147,
            77.016,
            76.667,
            75.087,
            82.9,
            81.89512195121951,
            73.005,
            77.292,
            72.591,
            79.19,
            74.2268292682927,
            81.99512195121952,
            74.623,
            61.771,
            81.86658536585367,
            71.777,
            71.513,
            77.401,
            69.592,
            75.881,
            75.11219512195122,
            61.577,
            61.584,
            69.823,
            59.292,
            82.04878048780488,
            53.283,
            54.239,
            80.181,
            76.912,
            77.287,
            64.321,
            80.279,
            57.783,
            78.42439024390245,
            78.802,
            80.982,
            81.45121951219514,
            67.112,
            null,
            74.081,
            77.01,
            73.317,
            58.735,
            66.321,
            78.64634146341466,
            60.194,
            66.597,
            67.444,
            81.9829268292683,
            82.8268292682927,
            66.467,
            73.767,
            81.29268292682927,
            64.074,
            81.63902439024392,
            72.04756097560977,
            72.397,
            80.074,
            74.302,
            61.602,
            58.322,
            69.906,
            64.001,
            75.27,
            76.31951219512194,
            83.16341463414635,
            69.656,
            71.716,
            70.604,
            82.70243902439026,
            82.8048780487805,
            83.49756097560977,
            74.475,
            84.35634146341464,
            74.526,
            73.18,
            66.699,
            68.369,
            75.489,
            75.3878048780488,
            78.93,
            54.331,
            64.104,
            72.913,
            76.28292682926829,
            82.63902439024392,
            67.041,
            64.263,
            76.156,
            78.921,
            59.306,
            82.85853658536587,
            null,
            64.925,
            74.23585365853658,
            75.054,
            71.901,
            null,
            69.87,
            76.6829268292683,
            76.68,
            60.854,
            67.134,
            63.708,
            null,
            70.778,
            82.11219512195122,
            81.70731707317074,
            74.485,
            62.42,
            54.687,
            76.60243902439025,
            null,
            82.95853658536586,
            77.861,
            67.273,
            null,
            78.506,
            64.501,
            74.254,
            76.736,
            71.231,
            77.90487804878049,
            81.67560975609757,
            79.92851219512197,
            80.227,
            75.60731707317073,
            69.024,
            73.321,
            null,
            70.385,
            75.133,
            67.941,
            75.93658536585367,
            74.04634146341465,
            54.696,
            83.59512195121953,
            81.52926829268293,
            72.996,
            57.397,
            64.131,
            57.846,
            83.83170731707318,
            76.978,
            65.311,
            71.682,
            83.10975609756099,
            83.90487804878049,
            71.097,
            65.456,
            77.15,
            61.042,
            70.907,
            73.507,
            76.699,
            68.191,
            null,
            63.368,
            71.82731707317075,
            77.972,
            81.2048780487805,
            78.78780487804877,
            77.911,
            71.725,
            70.474,
            75.4,
            63.886,
            61.49
           ]
          }
         ],
         "name": "2019"
        }
       ],
       "layout": {
        "coloraxis": {
         "colorbar": {
          "title": {
           "text": "Expectativa de Vida"
          }
         },
         "colorscale": [
          [
           0,
           "#440154"
          ],
          [
           0.1111111111111111,
           "#482878"
          ],
          [
           0.2222222222222222,
           "#3e4989"
          ],
          [
           0.3333333333333333,
           "#31688e"
          ],
          [
           0.4444444444444444,
           "#26828e"
          ],
          [
           0.5555555555555556,
           "#1f9e89"
          ],
          [
           0.6666666666666666,
           "#35b779"
          ],
          [
           0.7777777777777778,
           "#6ece58"
          ],
          [
           0.8888888888888888,
           "#b5de2b"
          ],
          [
           1,
           "#fde725"
          ]
         ]
        },
        "geo": {
         "center": {},
         "coastlinecolor": "Black",
         "domain": {
          "x": [
           0,
           1
          ],
          "y": [
           0,
           1
          ]
         },
         "landcolor": "white",
         "showcoastlines": true,
         "showland": true
        },
        "height": 800,
        "legend": {
         "tracegroupgap": 0
        },
        "sliders": [
         {
          "active": 0,
          "currentvalue": {
           "prefix": "Year="
          },
          "len": 0.9,
          "pad": {
           "b": 10,
           "t": 60
          },
          "steps": [
           {
            "args": [
             [
              "2001"
             ],
             {
              "frame": {
               "duration": 0,
               "redraw": true
              },
              "fromcurrent": true,
              "mode": "immediate",
              "transition": {
               "duration": 0,
               "easing": "linear"
              }
             }
            ],
            "label": "2001",
            "method": "animate"
           },
           {
            "args": [
             [
              "2002"
             ],
             {
              "frame": {
               "duration": 0,
               "redraw": true
              },
              "fromcurrent": true,
              "mode": "immediate",
              "transition": {
               "duration": 0,
               "easing": "linear"
              }
             }
            ],
            "label": "2002",
            "method": "animate"
           },
           {
            "args": [
             [
              "2003"
             ],
             {
              "frame": {
               "duration": 0,
               "redraw": true
              },
              "fromcurrent": true,
              "mode": "immediate",
              "transition": {
               "duration": 0,
               "easing": "linear"
              }
             }
            ],
            "label": "2003",
            "method": "animate"
           },
           {
            "args": [
             [
              "2004"
             ],
             {
              "frame": {
               "duration": 0,
               "redraw": true
              },
              "fromcurrent": true,
              "mode": "immediate",
              "transition": {
               "duration": 0,
               "easing": "linear"
              }
             }
            ],
            "label": "2004",
            "method": "animate"
           },
           {
            "args": [
             [
              "2005"
             ],
             {
              "frame": {
               "duration": 0,
               "redraw": true
              },
              "fromcurrent": true,
              "mode": "immediate",
              "transition": {
               "duration": 0,
               "easing": "linear"
              }
             }
            ],
            "label": "2005",
            "method": "animate"
           },
           {
            "args": [
             [
              "2006"
             ],
             {
              "frame": {
               "duration": 0,
               "redraw": true
              },
              "fromcurrent": true,
              "mode": "immediate",
              "transition": {
               "duration": 0,
               "easing": "linear"
              }
             }
            ],
            "label": "2006",
            "method": "animate"
           },
           {
            "args": [
             [
              "2007"
             ],
             {
              "frame": {
               "duration": 0,
               "redraw": true
              },
              "fromcurrent": true,
              "mode": "immediate",
              "transition": {
               "duration": 0,
               "easing": "linear"
              }
             }
            ],
            "label": "2007",
            "method": "animate"
           },
           {
            "args": [
             [
              "2008"
             ],
             {
              "frame": {
               "duration": 0,
               "redraw": true
              },
              "fromcurrent": true,
              "mode": "immediate",
              "transition": {
               "duration": 0,
               "easing": "linear"
              }
             }
            ],
            "label": "2008",
            "method": "animate"
           },
           {
            "args": [
             [
              "2009"
             ],
             {
              "frame": {
               "duration": 0,
               "redraw": true
              },
              "fromcurrent": true,
              "mode": "immediate",
              "transition": {
               "duration": 0,
               "easing": "linear"
              }
             }
            ],
            "label": "2009",
            "method": "animate"
           },
           {
            "args": [
             [
              "2010"
             ],
             {
              "frame": {
               "duration": 0,
               "redraw": true
              },
              "fromcurrent": true,
              "mode": "immediate",
              "transition": {
               "duration": 0,
               "easing": "linear"
              }
             }
            ],
            "label": "2010",
            "method": "animate"
           },
           {
            "args": [
             [
              "2011"
             ],
             {
              "frame": {
               "duration": 0,
               "redraw": true
              },
              "fromcurrent": true,
              "mode": "immediate",
              "transition": {
               "duration": 0,
               "easing": "linear"
              }
             }
            ],
            "label": "2011",
            "method": "animate"
           },
           {
            "args": [
             [
              "2012"
             ],
             {
              "frame": {
               "duration": 0,
               "redraw": true
              },
              "fromcurrent": true,
              "mode": "immediate",
              "transition": {
               "duration": 0,
               "easing": "linear"
              }
             }
            ],
            "label": "2012",
            "method": "animate"
           },
           {
            "args": [
             [
              "2013"
             ],
             {
              "frame": {
               "duration": 0,
               "redraw": true
              },
              "fromcurrent": true,
              "mode": "immediate",
              "transition": {
               "duration": 0,
               "easing": "linear"
              }
             }
            ],
            "label": "2013",
            "method": "animate"
           },
           {
            "args": [
             [
              "2014"
             ],
             {
              "frame": {
               "duration": 0,
               "redraw": true
              },
              "fromcurrent": true,
              "mode": "immediate",
              "transition": {
               "duration": 0,
               "easing": "linear"
              }
             }
            ],
            "label": "2014",
            "method": "animate"
           },
           {
            "args": [
             [
              "2015"
             ],
             {
              "frame": {
               "duration": 0,
               "redraw": true
              },
              "fromcurrent": true,
              "mode": "immediate",
              "transition": {
               "duration": 0,
               "easing": "linear"
              }
             }
            ],
            "label": "2015",
            "method": "animate"
           },
           {
            "args": [
             [
              "2016"
             ],
             {
              "frame": {
               "duration": 0,
               "redraw": true
              },
              "fromcurrent": true,
              "mode": "immediate",
              "transition": {
               "duration": 0,
               "easing": "linear"
              }
             }
            ],
            "label": "2016",
            "method": "animate"
           },
           {
            "args": [
             [
              "2017"
             ],
             {
              "frame": {
               "duration": 0,
               "redraw": true
              },
              "fromcurrent": true,
              "mode": "immediate",
              "transition": {
               "duration": 0,
               "easing": "linear"
              }
             }
            ],
            "label": "2017",
            "method": "animate"
           },
           {
            "args": [
             [
              "2018"
             ],
             {
              "frame": {
               "duration": 0,
               "redraw": true
              },
              "fromcurrent": true,
              "mode": "immediate",
              "transition": {
               "duration": 0,
               "easing": "linear"
              }
             }
            ],
            "label": "2018",
            "method": "animate"
           },
           {
            "args": [
             [
              "2019"
             ],
             {
              "frame": {
               "duration": 0,
               "redraw": true
              },
              "fromcurrent": true,
              "mode": "immediate",
              "transition": {
               "duration": 0,
               "easing": "linear"
              }
             }
            ],
            "label": "2019",
            "method": "animate"
           }
          ],
          "x": 0.1,
          "xanchor": "left",
          "y": 0,
          "yanchor": "top"
         }
        ],
        "template": {
         "data": {
          "bar": [
           {
            "error_x": {
             "color": "#2a3f5f"
            },
            "error_y": {
             "color": "#2a3f5f"
            },
            "marker": {
             "line": {
              "color": "#E5ECF6",
              "width": 0.5
             },
             "pattern": {
              "fillmode": "overlay",
              "size": 10,
              "solidity": 0.2
             }
            },
            "type": "bar"
           }
          ],
          "barpolar": [
           {
            "marker": {
             "line": {
              "color": "#E5ECF6",
              "width": 0.5
             },
             "pattern": {
              "fillmode": "overlay",
              "size": 10,
              "solidity": 0.2
             }
            },
            "type": "barpolar"
           }
          ],
          "carpet": [
           {
            "aaxis": {
             "endlinecolor": "#2a3f5f",
             "gridcolor": "white",
             "linecolor": "white",
             "minorgridcolor": "white",
             "startlinecolor": "#2a3f5f"
            },
            "baxis": {
             "endlinecolor": "#2a3f5f",
             "gridcolor": "white",
             "linecolor": "white",
             "minorgridcolor": "white",
             "startlinecolor": "#2a3f5f"
            },
            "type": "carpet"
           }
          ],
          "choropleth": [
           {
            "colorbar": {
             "outlinewidth": 0,
             "ticks": ""
            },
            "type": "choropleth"
           }
          ],
          "contour": [
           {
            "colorbar": {
             "outlinewidth": 0,
             "ticks": ""
            },
            "colorscale": [
             [
              0,
              "#0d0887"
             ],
             [
              0.1111111111111111,
              "#46039f"
             ],
             [
              0.2222222222222222,
              "#7201a8"
             ],
             [
              0.3333333333333333,
              "#9c179e"
             ],
             [
              0.4444444444444444,
              "#bd3786"
             ],
             [
              0.5555555555555556,
              "#d8576b"
             ],
             [
              0.6666666666666666,
              "#ed7953"
             ],
             [
              0.7777777777777778,
              "#fb9f3a"
             ],
             [
              0.8888888888888888,
              "#fdca26"
             ],
             [
              1,
              "#f0f921"
             ]
            ],
            "type": "contour"
           }
          ],
          "contourcarpet": [
           {
            "colorbar": {
             "outlinewidth": 0,
             "ticks": ""
            },
            "type": "contourcarpet"
           }
          ],
          "heatmap": [
           {
            "colorbar": {
             "outlinewidth": 0,
             "ticks": ""
            },
            "colorscale": [
             [
              0,
              "#0d0887"
             ],
             [
              0.1111111111111111,
              "#46039f"
             ],
             [
              0.2222222222222222,
              "#7201a8"
             ],
             [
              0.3333333333333333,
              "#9c179e"
             ],
             [
              0.4444444444444444,
              "#bd3786"
             ],
             [
              0.5555555555555556,
              "#d8576b"
             ],
             [
              0.6666666666666666,
              "#ed7953"
             ],
             [
              0.7777777777777778,
              "#fb9f3a"
             ],
             [
              0.8888888888888888,
              "#fdca26"
             ],
             [
              1,
              "#f0f921"
             ]
            ],
            "type": "heatmap"
           }
          ],
          "heatmapgl": [
           {
            "colorbar": {
             "outlinewidth": 0,
             "ticks": ""
            },
            "colorscale": [
             [
              0,
              "#0d0887"
             ],
             [
              0.1111111111111111,
              "#46039f"
             ],
             [
              0.2222222222222222,
              "#7201a8"
             ],
             [
              0.3333333333333333,
              "#9c179e"
             ],
             [
              0.4444444444444444,
              "#bd3786"
             ],
             [
              0.5555555555555556,
              "#d8576b"
             ],
             [
              0.6666666666666666,
              "#ed7953"
             ],
             [
              0.7777777777777778,
              "#fb9f3a"
             ],
             [
              0.8888888888888888,
              "#fdca26"
             ],
             [
              1,
              "#f0f921"
             ]
            ],
            "type": "heatmapgl"
           }
          ],
          "histogram": [
           {
            "marker": {
             "pattern": {
              "fillmode": "overlay",
              "size": 10,
              "solidity": 0.2
             }
            },
            "type": "histogram"
           }
          ],
          "histogram2d": [
           {
            "colorbar": {
             "outlinewidth": 0,
             "ticks": ""
            },
            "colorscale": [
             [
              0,
              "#0d0887"
             ],
             [
              0.1111111111111111,
              "#46039f"
             ],
             [
              0.2222222222222222,
              "#7201a8"
             ],
             [
              0.3333333333333333,
              "#9c179e"
             ],
             [
              0.4444444444444444,
              "#bd3786"
             ],
             [
              0.5555555555555556,
              "#d8576b"
             ],
             [
              0.6666666666666666,
              "#ed7953"
             ],
             [
              0.7777777777777778,
              "#fb9f3a"
             ],
             [
              0.8888888888888888,
              "#fdca26"
             ],
             [
              1,
              "#f0f921"
             ]
            ],
            "type": "histogram2d"
           }
          ],
          "histogram2dcontour": [
           {
            "colorbar": {
             "outlinewidth": 0,
             "ticks": ""
            },
            "colorscale": [
             [
              0,
              "#0d0887"
             ],
             [
              0.1111111111111111,
              "#46039f"
             ],
             [
              0.2222222222222222,
              "#7201a8"
             ],
             [
              0.3333333333333333,
              "#9c179e"
             ],
             [
              0.4444444444444444,
              "#bd3786"
             ],
             [
              0.5555555555555556,
              "#d8576b"
             ],
             [
              0.6666666666666666,
              "#ed7953"
             ],
             [
              0.7777777777777778,
              "#fb9f3a"
             ],
             [
              0.8888888888888888,
              "#fdca26"
             ],
             [
              1,
              "#f0f921"
             ]
            ],
            "type": "histogram2dcontour"
           }
          ],
          "mesh3d": [
           {
            "colorbar": {
             "outlinewidth": 0,
             "ticks": ""
            },
            "type": "mesh3d"
           }
          ],
          "parcoords": [
           {
            "line": {
             "colorbar": {
              "outlinewidth": 0,
              "ticks": ""
             }
            },
            "type": "parcoords"
           }
          ],
          "pie": [
           {
            "automargin": true,
            "type": "pie"
           }
          ],
          "scatter": [
           {
            "fillpattern": {
             "fillmode": "overlay",
             "size": 10,
             "solidity": 0.2
            },
            "type": "scatter"
           }
          ],
          "scatter3d": [
           {
            "line": {
             "colorbar": {
              "outlinewidth": 0,
              "ticks": ""
             }
            },
            "marker": {
             "colorbar": {
              "outlinewidth": 0,
              "ticks": ""
             }
            },
            "type": "scatter3d"
           }
          ],
          "scattercarpet": [
           {
            "marker": {
             "colorbar": {
              "outlinewidth": 0,
              "ticks": ""
             }
            },
            "type": "scattercarpet"
           }
          ],
          "scattergeo": [
           {
            "marker": {
             "colorbar": {
              "outlinewidth": 0,
              "ticks": ""
             }
            },
            "type": "scattergeo"
           }
          ],
          "scattergl": [
           {
            "marker": {
             "colorbar": {
              "outlinewidth": 0,
              "ticks": ""
             }
            },
            "type": "scattergl"
           }
          ],
          "scattermapbox": [
           {
            "marker": {
             "colorbar": {
              "outlinewidth": 0,
              "ticks": ""
             }
            },
            "type": "scattermapbox"
           }
          ],
          "scatterpolar": [
           {
            "marker": {
             "colorbar": {
              "outlinewidth": 0,
              "ticks": ""
             }
            },
            "type": "scatterpolar"
           }
          ],
          "scatterpolargl": [
           {
            "marker": {
             "colorbar": {
              "outlinewidth": 0,
              "ticks": ""
             }
            },
            "type": "scatterpolargl"
           }
          ],
          "scatterternary": [
           {
            "marker": {
             "colorbar": {
              "outlinewidth": 0,
              "ticks": ""
             }
            },
            "type": "scatterternary"
           }
          ],
          "surface": [
           {
            "colorbar": {
             "outlinewidth": 0,
             "ticks": ""
            },
            "colorscale": [
             [
              0,
              "#0d0887"
             ],
             [
              0.1111111111111111,
              "#46039f"
             ],
             [
              0.2222222222222222,
              "#7201a8"
             ],
             [
              0.3333333333333333,
              "#9c179e"
             ],
             [
              0.4444444444444444,
              "#bd3786"
             ],
             [
              0.5555555555555556,
              "#d8576b"
             ],
             [
              0.6666666666666666,
              "#ed7953"
             ],
             [
              0.7777777777777778,
              "#fb9f3a"
             ],
             [
              0.8888888888888888,
              "#fdca26"
             ],
             [
              1,
              "#f0f921"
             ]
            ],
            "type": "surface"
           }
          ],
          "table": [
           {
            "cells": {
             "fill": {
              "color": "#EBF0F8"
             },
             "line": {
              "color": "white"
             }
            },
            "header": {
             "fill": {
              "color": "#C8D4E3"
             },
             "line": {
              "color": "white"
             }
            },
            "type": "table"
           }
          ]
         },
         "layout": {
          "annotationdefaults": {
           "arrowcolor": "#2a3f5f",
           "arrowhead": 0,
           "arrowwidth": 1
          },
          "autotypenumbers": "strict",
          "coloraxis": {
           "colorbar": {
            "outlinewidth": 0,
            "ticks": ""
           }
          },
          "colorscale": {
           "diverging": [
            [
             0,
             "#8e0152"
            ],
            [
             0.1,
             "#c51b7d"
            ],
            [
             0.2,
             "#de77ae"
            ],
            [
             0.3,
             "#f1b6da"
            ],
            [
             0.4,
             "#fde0ef"
            ],
            [
             0.5,
             "#f7f7f7"
            ],
            [
             0.6,
             "#e6f5d0"
            ],
            [
             0.7,
             "#b8e186"
            ],
            [
             0.8,
             "#7fbc41"
            ],
            [
             0.9,
             "#4d9221"
            ],
            [
             1,
             "#276419"
            ]
           ],
           "sequential": [
            [
             0,
             "#0d0887"
            ],
            [
             0.1111111111111111,
             "#46039f"
            ],
            [
             0.2222222222222222,
             "#7201a8"
            ],
            [
             0.3333333333333333,
             "#9c179e"
            ],
            [
             0.4444444444444444,
             "#bd3786"
            ],
            [
             0.5555555555555556,
             "#d8576b"
            ],
            [
             0.6666666666666666,
             "#ed7953"
            ],
            [
             0.7777777777777778,
             "#fb9f3a"
            ],
            [
             0.8888888888888888,
             "#fdca26"
            ],
            [
             1,
             "#f0f921"
            ]
           ],
           "sequentialminus": [
            [
             0,
             "#0d0887"
            ],
            [
             0.1111111111111111,
             "#46039f"
            ],
            [
             0.2222222222222222,
             "#7201a8"
            ],
            [
             0.3333333333333333,
             "#9c179e"
            ],
            [
             0.4444444444444444,
             "#bd3786"
            ],
            [
             0.5555555555555556,
             "#d8576b"
            ],
            [
             0.6666666666666666,
             "#ed7953"
            ],
            [
             0.7777777777777778,
             "#fb9f3a"
            ],
            [
             0.8888888888888888,
             "#fdca26"
            ],
            [
             1,
             "#f0f921"
            ]
           ]
          },
          "colorway": [
           "#636efa",
           "#EF553B",
           "#00cc96",
           "#ab63fa",
           "#FFA15A",
           "#19d3f3",
           "#FF6692",
           "#B6E880",
           "#FF97FF",
           "#FECB52"
          ],
          "font": {
           "color": "#2a3f5f"
          },
          "geo": {
           "bgcolor": "white",
           "lakecolor": "white",
           "landcolor": "#E5ECF6",
           "showlakes": true,
           "showland": true,
           "subunitcolor": "white"
          },
          "hoverlabel": {
           "align": "left"
          },
          "hovermode": "closest",
          "mapbox": {
           "style": "light"
          },
          "paper_bgcolor": "white",
          "plot_bgcolor": "#E5ECF6",
          "polar": {
           "angularaxis": {
            "gridcolor": "white",
            "linecolor": "white",
            "ticks": ""
           },
           "bgcolor": "#E5ECF6",
           "radialaxis": {
            "gridcolor": "white",
            "linecolor": "white",
            "ticks": ""
           }
          },
          "scene": {
           "xaxis": {
            "backgroundcolor": "#E5ECF6",
            "gridcolor": "white",
            "gridwidth": 2,
            "linecolor": "white",
            "showbackground": true,
            "ticks": "",
            "zerolinecolor": "white"
           },
           "yaxis": {
            "backgroundcolor": "#E5ECF6",
            "gridcolor": "white",
            "gridwidth": 2,
            "linecolor": "white",
            "showbackground": true,
            "ticks": "",
            "zerolinecolor": "white"
           },
           "zaxis": {
            "backgroundcolor": "#E5ECF6",
            "gridcolor": "white",
            "gridwidth": 2,
            "linecolor": "white",
            "showbackground": true,
            "ticks": "",
            "zerolinecolor": "white"
           }
          },
          "shapedefaults": {
           "line": {
            "color": "#2a3f5f"
           }
          },
          "ternary": {
           "aaxis": {
            "gridcolor": "white",
            "linecolor": "white",
            "ticks": ""
           },
           "baxis": {
            "gridcolor": "white",
            "linecolor": "white",
            "ticks": ""
           },
           "bgcolor": "#E5ECF6",
           "caxis": {
            "gridcolor": "white",
            "linecolor": "white",
            "ticks": ""
           }
          },
          "title": {
           "x": 0.05
          },
          "xaxis": {
           "automargin": true,
           "gridcolor": "white",
           "linecolor": "white",
           "ticks": "",
           "title": {
            "standoff": 15
           },
           "zerolinecolor": "white",
           "zerolinewidth": 2
          },
          "yaxis": {
           "automargin": true,
           "gridcolor": "white",
           "linecolor": "white",
           "ticks": "",
           "title": {
            "standoff": 15
           },
           "zerolinecolor": "white",
           "zerolinewidth": 2
          }
         }
        },
        "title": {
         "text": "Dashboard da Expectativa de Vida por País",
         "x": 0.5,
         "xanchor": "center",
         "y": 0.9,
         "yanchor": "top"
        },
        "updatemenus": [
         {
          "buttons": [
           {
            "args": [
             null,
             {
              "frame": {
               "duration": 500,
               "redraw": true
              },
              "fromcurrent": true,
              "mode": "immediate",
              "transition": {
               "duration": 500,
               "easing": "linear"
              }
             }
            ],
            "label": "&#9654;",
            "method": "animate"
           },
           {
            "args": [
             [
              null
             ],
             {
              "frame": {
               "duration": 0,
               "redraw": true
              },
              "fromcurrent": true,
              "mode": "immediate",
              "transition": {
               "duration": 0,
               "easing": "linear"
              }
             }
            ],
            "label": "&#9724;",
            "method": "animate"
           }
          ],
          "direction": "left",
          "pad": {
           "r": 10,
           "t": 70
          },
          "showactive": false,
          "type": "buttons",
          "x": 0.1,
          "xanchor": "right",
          "y": 0,
          "yanchor": "top"
         }
        ],
        "width": 1200
       }
      }
     },
     "metadata": {},
     "output_type": "display_data"
    }
   ],
   "source": [
    "data = pd.read_csv('mapa.csv')\n",
    "\n",
    "#Tratando os dados para compatibilidade \n",
    "average_life_expectancy_by_country_year = data.groupby(['Anos', 'Países'])['Expectativa de vida'].mean().reset_index()\n",
    "average_life_expectancy_by_country_year = average_life_expectancy_by_country_year.rename(columns={'Anos': 'Year', 'Países': 'Country', 'Expectativa de vida': 'Life Expectancy'})\n",
    "\n",
    "# Dashboard \n",
    "fig = px.choropleth(\n",
    "    average_life_expectancy_by_country_year,\n",
    "    locations='Country',\n",
    "    locationmode='country names',\n",
    "    color='Life Expectancy',\n",
    "    color_continuous_scale=px.colors.sequential.Viridis,  \n",
    "    title='Expectativa de Vida Média por País',\n",
    "    labels={'Life Expectancy': 'Expectativa de Vida'},\n",
    "    animation_frame='Year',  \n",
    "    width=1200,  \n",
    "    height=800   \n",
    ")\n",
    "\n",
    "fig.update_layout(\n",
    "    title={\n",
    "        'text': 'Dashboard da Expectativa de Vida por País',\n",
    "        'y': 0.9,\n",
    "        'x': 0.5,\n",
    "        'xanchor': 'center',\n",
    "        'yanchor': 'top'\n",
    "    },\n",
    "    geo=dict(\n",
    "        showcoastlines=True,\n",
    "        coastlinecolor=\"Black\",\n",
    "        showland=True,\n",
    "        landcolor=\"white\"\n",
    "    )\n",
    ")\n",
    "\n",
    "fig.show()\n"
   ]
  },
  {
   "cell_type": "code",
   "execution_count": null,
   "metadata": {},
   "outputs": [],
   "source": []
  }
 ],
 "metadata": {
  "kernelspec": {
   "display_name": "Python 3",
   "language": "python",
   "name": "python3"
  },
  "language_info": {
   "codemirror_mode": {
    "name": "ipython",
    "version": 3
   },
   "file_extension": ".py",
   "mimetype": "text/x-python",
   "name": "python",
   "nbconvert_exporter": "python",
   "pygments_lexer": "ipython3",
   "version": "3.12.0"
  }
 },
 "nbformat": 4,
 "nbformat_minor": 2
}
